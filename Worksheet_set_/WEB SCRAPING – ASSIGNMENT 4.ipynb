{
 "cells": [
  {
   "cell_type": "markdown",
   "id": "fe75b1c2",
   "metadata": {},
   "source": [
    "# 1. Scrape the details of most viewed videos on YouTube from Wikipedia. Url\n",
    "= https://en.wikipedia.org/wiki/List_of_most-viewed_YouTube_videos You need to find following details: A)\n",
    "Rank\n",
    "B) Name\n",
    "C) Artist\n",
    "D) Upload date\n",
    "E) Views"
   ]
  },
  {
   "cell_type": "code",
   "execution_count": 1,
   "id": "92d8aa8d",
   "metadata": {},
   "outputs": [],
   "source": [
    "import pandas as pd\n",
    "import selenium\n",
    "import time\n",
    "\n",
    "from selenium import webdriver\n",
    "from selenium.webdriver.common.by import By\n",
    "from selenium.common.exceptions import NoSuchElementException\n",
    "\n",
    "from bs4 import BeautifulSoup\n",
    "\n",
    "import warnings\n",
    "warnings.filterwarnings('ignore')\n",
    "\n",
    "import re"
   ]
  },
  {
   "cell_type": "code",
   "execution_count": 13,
   "id": "d7257b2f",
   "metadata": {},
   "outputs": [],
   "source": [
    "driver = webdriver.Chrome()"
   ]
  },
  {
   "cell_type": "code",
   "execution_count": 14,
   "id": "13b04708",
   "metadata": {},
   "outputs": [],
   "source": [
    "driver.get('https://en.wikipedia.org/wiki/List_of_most-viewed_YouTube_videos')"
   ]
  },
  {
   "cell_type": "code",
   "execution_count": 15,
   "id": "5bcf909f",
   "metadata": {},
   "outputs": [],
   "source": [
    "rank=[]\n",
    "name=[]\n",
    "artist=[]\n",
    "upload_date=[]\n",
    "views=[]"
   ]
  },
  {
   "cell_type": "code",
   "execution_count": 16,
   "id": "2af9fc16",
   "metadata": {},
   "outputs": [
    {
     "name": "stdout",
     "output_type": "stream",
     "text": [
      "30 ['\"Baby Shark Dance\"[7]', '\"Despacito\"[10]', '\"Johny Johny Yes Papa\"[18]', '\"Bath Song\"[19]', '\"See You Again\"[20]', '\"Shape of You\"[25]', '\"Wheels on the Bus\"[28]', '\"Phonics Song with Two Words\"[29]', '\"Uptown Funk\"[30]', '\"Gangnam Style\"[31]', '\"Learning Colors – Colorful Eggs on a Farm\"[36]', '\"Dame Tu Cosita\"[37]', '\"Axel F\"[38]', '\"Masha and the Bear – Recipe for Disaster\"[39]', '\"Baa Baa Black Sheep\"[40]', '\"Lakdi Ki Kathi\"[41]', '\"Sugar\"[42]', '\"Counting Stars\"[43]', '\"Roar\"[44]', '\"Waka Waka (This Time for Africa)\"[45]', '\"Shree Hanuman Chalisa\"[46]', '\"Humpty the train on a fruits ride\"[47]', '\"Sorry\"[48]', '\"Thinking Out Loud\"[49]', '\"Perfect\"[50]', '\"Dark Horse\"[51]', '\"Let Her Go\"[52]', '\"Faded\"[53]', '\"Girls Like You\"[54]', '\"Lean On\"[55]']\n"
     ]
    }
   ],
   "source": [
    "name_ = driver.find_elements(By.XPATH,'//*[@id=\"mw-content-text\"]/div[1]/table[1]/tbody/tr/td[1]')\n",
    "for i in name_:\n",
    "    if i.text is None :\n",
    "        name.append(\"--\") \n",
    "    else:\n",
    "        name.append(i.text)\n",
    "print(len(name),name)"
   ]
  },
  {
   "cell_type": "code",
   "execution_count": 17,
   "id": "89c815d1",
   "metadata": {},
   "outputs": [
    {
     "name": "stdout",
     "output_type": "stream",
     "text": [
      "30 [\"Pinkfong Baby Shark - Kids' Songs & Stories\", 'Luis Fonsi', \"LooLoo Kids - Nursery Rhymes and Children's Songs\", 'Cocomelon - Nursery Rhymes', 'Wiz Khalifa', 'Ed Sheeran', 'Cocomelon - Nursery Rhymes', 'ChuChu TV Nursery Rhymes & Kids Songs', 'Mark Ronson', 'Psy', 'Miroshka TV', 'Ultra Records', 'Crazy Frog', 'Get Movies', 'Cocomelon - Nursery Rhymes', 'Jingle Toons', 'Maroon 5', 'OneRepublic', 'Katy Perry', 'Shakira', 'T-Series Bhakti Sagar', 'Kiddiestv Hindi - Nursery Rhymes & Kids Songs', 'Justin Bieber', 'Ed Sheeran', 'Ed Sheeran', 'Katy Perry', 'Passenger', 'Alan Walker', 'Maroon 5', 'Major Lazer Official']\n"
     ]
    }
   ],
   "source": [
    "artist_ = driver.find_elements(By.XPATH,'//*[@id=\"mw-content-text\"]/div[1]/table[1]/tbody/tr/td[2]')\n",
    "for i in artist_:\n",
    "    if i.text is None:\n",
    "        artist.append('--')\n",
    "    else:\n",
    "        artist.append(i.text)\n",
    "print(len(artist),artist)"
   ]
  },
  {
   "cell_type": "code",
   "execution_count": 18,
   "id": "45c06b10",
   "metadata": {},
   "outputs": [
    {
     "name": "stdout",
     "output_type": "stream",
     "text": [
      "30 ['June 17, 2016', 'January 12, 2017', 'October 8, 2016', 'May 2, 2018', 'April 6, 2015', 'January 30, 2017', 'May 24, 2018', 'March 6, 2014', 'November 19, 2014', 'July 15, 2012', 'February 27, 2018', 'April 5, 2018', 'June 16, 2009', 'January 31, 2012', 'June 25, 2018', 'June 14, 2018', 'January 14, 2015', 'May 31, 2013', 'September 5, 2013', 'June 4, 2010', 'May 10, 2011', 'January 26, 2018', 'October 22, 2015', 'October 7, 2014', 'November 9, 2017', 'February 20, 2014', 'July 25, 2012', 'December 3, 2015', 'May 31, 2018', 'March 22, 2015']\n"
     ]
    }
   ],
   "source": [
    "upload_date_ = driver.find_elements(By.XPATH,'//*[@id=\"mw-content-text\"]/div[1]/table[1]/tbody/tr/td[4]')\n",
    "for i in upload_date_:\n",
    "    if i.text is None:\n",
    "        upload_date.append('--')\n",
    "    else:\n",
    "        upload_date.append(i.text)\n",
    "print(len(upload_date),upload_date)"
   ]
  },
  {
   "cell_type": "code",
   "execution_count": 19,
   "id": "0e0fdba1",
   "metadata": {},
   "outputs": [
    {
     "name": "stdout",
     "output_type": "stream",
     "text": [
      "30 ['14.66', '8.47', '6.92', '6.75', '6.30', '6.28', '6.22', '5.84', '5.25', '5.20', '5.13', '4.68', '4.60', '4.60', '4.10', '4.07', '4.06', '4.03', '4.01', '3.96', '3.90', '3.84', '3.82', '3.78', '3.75', '3.74', '3.68', '3.65', '3.62', '3.62']\n"
     ]
    }
   ],
   "source": [
    "views_ = driver.find_elements(By.XPATH,'//*[@id=\"mw-content-text\"]/div[1]/table[1]/tbody/tr/td[3]')\n",
    "for i in views_:\n",
    "    if i.text is None:\n",
    "        views.append('--')\n",
    "    else:\n",
    "        views.append(i.text)\n",
    "print(len(views),views)"
   ]
  },
  {
   "cell_type": "markdown",
   "id": "67aeba43",
   "metadata": {},
   "source": [
    "In 1st question we have to scrap most viewed youtube videos but in that table we are not able to scrap the rank in that table \\"
   ]
  },
  {
   "cell_type": "code",
   "execution_count": 21,
   "id": "2898279f",
   "metadata": {},
   "outputs": [
    {
     "data": {
      "text/html": [
       "<div>\n",
       "<style scoped>\n",
       "    .dataframe tbody tr th:only-of-type {\n",
       "        vertical-align: middle;\n",
       "    }\n",
       "\n",
       "    .dataframe tbody tr th {\n",
       "        vertical-align: top;\n",
       "    }\n",
       "\n",
       "    .dataframe thead th {\n",
       "        text-align: right;\n",
       "    }\n",
       "</style>\n",
       "<table border=\"1\" class=\"dataframe\">\n",
       "  <thead>\n",
       "    <tr style=\"text-align: right;\">\n",
       "      <th></th>\n",
       "      <th>Name</th>\n",
       "      <th>Artist</th>\n",
       "      <th>Upload Date</th>\n",
       "      <th>Views</th>\n",
       "    </tr>\n",
       "  </thead>\n",
       "  <tbody>\n",
       "    <tr>\n",
       "      <th>0</th>\n",
       "      <td>\"Baby Shark Dance\"[7]</td>\n",
       "      <td>Pinkfong Baby Shark - Kids' Songs &amp; Stories</td>\n",
       "      <td>June 17, 2016</td>\n",
       "      <td>14.66</td>\n",
       "    </tr>\n",
       "    <tr>\n",
       "      <th>1</th>\n",
       "      <td>\"Despacito\"[10]</td>\n",
       "      <td>Luis Fonsi</td>\n",
       "      <td>January 12, 2017</td>\n",
       "      <td>8.47</td>\n",
       "    </tr>\n",
       "    <tr>\n",
       "      <th>2</th>\n",
       "      <td>\"Johny Johny Yes Papa\"[18]</td>\n",
       "      <td>LooLoo Kids - Nursery Rhymes and Children's Songs</td>\n",
       "      <td>October 8, 2016</td>\n",
       "      <td>6.92</td>\n",
       "    </tr>\n",
       "    <tr>\n",
       "      <th>3</th>\n",
       "      <td>\"Bath Song\"[19]</td>\n",
       "      <td>Cocomelon - Nursery Rhymes</td>\n",
       "      <td>May 2, 2018</td>\n",
       "      <td>6.75</td>\n",
       "    </tr>\n",
       "    <tr>\n",
       "      <th>4</th>\n",
       "      <td>\"See You Again\"[20]</td>\n",
       "      <td>Wiz Khalifa</td>\n",
       "      <td>April 6, 2015</td>\n",
       "      <td>6.30</td>\n",
       "    </tr>\n",
       "    <tr>\n",
       "      <th>5</th>\n",
       "      <td>\"Shape of You\"[25]</td>\n",
       "      <td>Ed Sheeran</td>\n",
       "      <td>January 30, 2017</td>\n",
       "      <td>6.28</td>\n",
       "    </tr>\n",
       "    <tr>\n",
       "      <th>6</th>\n",
       "      <td>\"Wheels on the Bus\"[28]</td>\n",
       "      <td>Cocomelon - Nursery Rhymes</td>\n",
       "      <td>May 24, 2018</td>\n",
       "      <td>6.22</td>\n",
       "    </tr>\n",
       "    <tr>\n",
       "      <th>7</th>\n",
       "      <td>\"Phonics Song with Two Words\"[29]</td>\n",
       "      <td>ChuChu TV Nursery Rhymes &amp; Kids Songs</td>\n",
       "      <td>March 6, 2014</td>\n",
       "      <td>5.84</td>\n",
       "    </tr>\n",
       "    <tr>\n",
       "      <th>8</th>\n",
       "      <td>\"Uptown Funk\"[30]</td>\n",
       "      <td>Mark Ronson</td>\n",
       "      <td>November 19, 2014</td>\n",
       "      <td>5.25</td>\n",
       "    </tr>\n",
       "    <tr>\n",
       "      <th>9</th>\n",
       "      <td>\"Gangnam Style\"[31]</td>\n",
       "      <td>Psy</td>\n",
       "      <td>July 15, 2012</td>\n",
       "      <td>5.20</td>\n",
       "    </tr>\n",
       "    <tr>\n",
       "      <th>10</th>\n",
       "      <td>\"Learning Colors – Colorful Eggs on a Farm\"[36]</td>\n",
       "      <td>Miroshka TV</td>\n",
       "      <td>February 27, 2018</td>\n",
       "      <td>5.13</td>\n",
       "    </tr>\n",
       "    <tr>\n",
       "      <th>11</th>\n",
       "      <td>\"Dame Tu Cosita\"[37]</td>\n",
       "      <td>Ultra Records</td>\n",
       "      <td>April 5, 2018</td>\n",
       "      <td>4.68</td>\n",
       "    </tr>\n",
       "    <tr>\n",
       "      <th>12</th>\n",
       "      <td>\"Axel F\"[38]</td>\n",
       "      <td>Crazy Frog</td>\n",
       "      <td>June 16, 2009</td>\n",
       "      <td>4.60</td>\n",
       "    </tr>\n",
       "    <tr>\n",
       "      <th>13</th>\n",
       "      <td>\"Masha and the Bear – Recipe for Disaster\"[39]</td>\n",
       "      <td>Get Movies</td>\n",
       "      <td>January 31, 2012</td>\n",
       "      <td>4.60</td>\n",
       "    </tr>\n",
       "    <tr>\n",
       "      <th>14</th>\n",
       "      <td>\"Baa Baa Black Sheep\"[40]</td>\n",
       "      <td>Cocomelon - Nursery Rhymes</td>\n",
       "      <td>June 25, 2018</td>\n",
       "      <td>4.10</td>\n",
       "    </tr>\n",
       "    <tr>\n",
       "      <th>15</th>\n",
       "      <td>\"Lakdi Ki Kathi\"[41]</td>\n",
       "      <td>Jingle Toons</td>\n",
       "      <td>June 14, 2018</td>\n",
       "      <td>4.07</td>\n",
       "    </tr>\n",
       "    <tr>\n",
       "      <th>16</th>\n",
       "      <td>\"Sugar\"[42]</td>\n",
       "      <td>Maroon 5</td>\n",
       "      <td>January 14, 2015</td>\n",
       "      <td>4.06</td>\n",
       "    </tr>\n",
       "    <tr>\n",
       "      <th>17</th>\n",
       "      <td>\"Counting Stars\"[43]</td>\n",
       "      <td>OneRepublic</td>\n",
       "      <td>May 31, 2013</td>\n",
       "      <td>4.03</td>\n",
       "    </tr>\n",
       "    <tr>\n",
       "      <th>18</th>\n",
       "      <td>\"Roar\"[44]</td>\n",
       "      <td>Katy Perry</td>\n",
       "      <td>September 5, 2013</td>\n",
       "      <td>4.01</td>\n",
       "    </tr>\n",
       "    <tr>\n",
       "      <th>19</th>\n",
       "      <td>\"Waka Waka (This Time for Africa)\"[45]</td>\n",
       "      <td>Shakira</td>\n",
       "      <td>June 4, 2010</td>\n",
       "      <td>3.96</td>\n",
       "    </tr>\n",
       "    <tr>\n",
       "      <th>20</th>\n",
       "      <td>\"Shree Hanuman Chalisa\"[46]</td>\n",
       "      <td>T-Series Bhakti Sagar</td>\n",
       "      <td>May 10, 2011</td>\n",
       "      <td>3.90</td>\n",
       "    </tr>\n",
       "    <tr>\n",
       "      <th>21</th>\n",
       "      <td>\"Humpty the train on a fruits ride\"[47]</td>\n",
       "      <td>Kiddiestv Hindi - Nursery Rhymes &amp; Kids Songs</td>\n",
       "      <td>January 26, 2018</td>\n",
       "      <td>3.84</td>\n",
       "    </tr>\n",
       "    <tr>\n",
       "      <th>22</th>\n",
       "      <td>\"Sorry\"[48]</td>\n",
       "      <td>Justin Bieber</td>\n",
       "      <td>October 22, 2015</td>\n",
       "      <td>3.82</td>\n",
       "    </tr>\n",
       "    <tr>\n",
       "      <th>23</th>\n",
       "      <td>\"Thinking Out Loud\"[49]</td>\n",
       "      <td>Ed Sheeran</td>\n",
       "      <td>October 7, 2014</td>\n",
       "      <td>3.78</td>\n",
       "    </tr>\n",
       "    <tr>\n",
       "      <th>24</th>\n",
       "      <td>\"Perfect\"[50]</td>\n",
       "      <td>Ed Sheeran</td>\n",
       "      <td>November 9, 2017</td>\n",
       "      <td>3.75</td>\n",
       "    </tr>\n",
       "    <tr>\n",
       "      <th>25</th>\n",
       "      <td>\"Dark Horse\"[51]</td>\n",
       "      <td>Katy Perry</td>\n",
       "      <td>February 20, 2014</td>\n",
       "      <td>3.74</td>\n",
       "    </tr>\n",
       "    <tr>\n",
       "      <th>26</th>\n",
       "      <td>\"Let Her Go\"[52]</td>\n",
       "      <td>Passenger</td>\n",
       "      <td>July 25, 2012</td>\n",
       "      <td>3.68</td>\n",
       "    </tr>\n",
       "    <tr>\n",
       "      <th>27</th>\n",
       "      <td>\"Faded\"[53]</td>\n",
       "      <td>Alan Walker</td>\n",
       "      <td>December 3, 2015</td>\n",
       "      <td>3.65</td>\n",
       "    </tr>\n",
       "    <tr>\n",
       "      <th>28</th>\n",
       "      <td>\"Girls Like You\"[54]</td>\n",
       "      <td>Maroon 5</td>\n",
       "      <td>May 31, 2018</td>\n",
       "      <td>3.62</td>\n",
       "    </tr>\n",
       "    <tr>\n",
       "      <th>29</th>\n",
       "      <td>\"Lean On\"[55]</td>\n",
       "      <td>Major Lazer Official</td>\n",
       "      <td>March 22, 2015</td>\n",
       "      <td>3.62</td>\n",
       "    </tr>\n",
       "  </tbody>\n",
       "</table>\n",
       "</div>"
      ],
      "text/plain": [
       "                                               Name  \\\n",
       "0                             \"Baby Shark Dance\"[7]   \n",
       "1                                   \"Despacito\"[10]   \n",
       "2                        \"Johny Johny Yes Papa\"[18]   \n",
       "3                                   \"Bath Song\"[19]   \n",
       "4                               \"See You Again\"[20]   \n",
       "5                                \"Shape of You\"[25]   \n",
       "6                           \"Wheels on the Bus\"[28]   \n",
       "7                 \"Phonics Song with Two Words\"[29]   \n",
       "8                                 \"Uptown Funk\"[30]   \n",
       "9                               \"Gangnam Style\"[31]   \n",
       "10  \"Learning Colors – Colorful Eggs on a Farm\"[36]   \n",
       "11                             \"Dame Tu Cosita\"[37]   \n",
       "12                                     \"Axel F\"[38]   \n",
       "13   \"Masha and the Bear – Recipe for Disaster\"[39]   \n",
       "14                        \"Baa Baa Black Sheep\"[40]   \n",
       "15                             \"Lakdi Ki Kathi\"[41]   \n",
       "16                                      \"Sugar\"[42]   \n",
       "17                             \"Counting Stars\"[43]   \n",
       "18                                       \"Roar\"[44]   \n",
       "19           \"Waka Waka (This Time for Africa)\"[45]   \n",
       "20                      \"Shree Hanuman Chalisa\"[46]   \n",
       "21          \"Humpty the train on a fruits ride\"[47]   \n",
       "22                                      \"Sorry\"[48]   \n",
       "23                          \"Thinking Out Loud\"[49]   \n",
       "24                                    \"Perfect\"[50]   \n",
       "25                                 \"Dark Horse\"[51]   \n",
       "26                                 \"Let Her Go\"[52]   \n",
       "27                                      \"Faded\"[53]   \n",
       "28                             \"Girls Like You\"[54]   \n",
       "29                                    \"Lean On\"[55]   \n",
       "\n",
       "                                               Artist        Upload Date  \\\n",
       "0         Pinkfong Baby Shark - Kids' Songs & Stories      June 17, 2016   \n",
       "1                                          Luis Fonsi   January 12, 2017   \n",
       "2   LooLoo Kids - Nursery Rhymes and Children's Songs    October 8, 2016   \n",
       "3                          Cocomelon - Nursery Rhymes        May 2, 2018   \n",
       "4                                         Wiz Khalifa      April 6, 2015   \n",
       "5                                          Ed Sheeran   January 30, 2017   \n",
       "6                          Cocomelon - Nursery Rhymes       May 24, 2018   \n",
       "7               ChuChu TV Nursery Rhymes & Kids Songs      March 6, 2014   \n",
       "8                                         Mark Ronson  November 19, 2014   \n",
       "9                                                 Psy      July 15, 2012   \n",
       "10                                        Miroshka TV  February 27, 2018   \n",
       "11                                      Ultra Records      April 5, 2018   \n",
       "12                                         Crazy Frog      June 16, 2009   \n",
       "13                                         Get Movies   January 31, 2012   \n",
       "14                         Cocomelon - Nursery Rhymes      June 25, 2018   \n",
       "15                                       Jingle Toons      June 14, 2018   \n",
       "16                                           Maroon 5   January 14, 2015   \n",
       "17                                        OneRepublic       May 31, 2013   \n",
       "18                                         Katy Perry  September 5, 2013   \n",
       "19                                            Shakira       June 4, 2010   \n",
       "20                              T-Series Bhakti Sagar       May 10, 2011   \n",
       "21      Kiddiestv Hindi - Nursery Rhymes & Kids Songs   January 26, 2018   \n",
       "22                                      Justin Bieber   October 22, 2015   \n",
       "23                                         Ed Sheeran    October 7, 2014   \n",
       "24                                         Ed Sheeran   November 9, 2017   \n",
       "25                                         Katy Perry  February 20, 2014   \n",
       "26                                          Passenger      July 25, 2012   \n",
       "27                                        Alan Walker   December 3, 2015   \n",
       "28                                           Maroon 5       May 31, 2018   \n",
       "29                               Major Lazer Official     March 22, 2015   \n",
       "\n",
       "    Views  \n",
       "0   14.66  \n",
       "1    8.47  \n",
       "2    6.92  \n",
       "3    6.75  \n",
       "4    6.30  \n",
       "5    6.28  \n",
       "6    6.22  \n",
       "7    5.84  \n",
       "8    5.25  \n",
       "9    5.20  \n",
       "10   5.13  \n",
       "11   4.68  \n",
       "12   4.60  \n",
       "13   4.60  \n",
       "14   4.10  \n",
       "15   4.07  \n",
       "16   4.06  \n",
       "17   4.03  \n",
       "18   4.01  \n",
       "19   3.96  \n",
       "20   3.90  \n",
       "21   3.84  \n",
       "22   3.82  \n",
       "23   3.78  \n",
       "24   3.75  \n",
       "25   3.74  \n",
       "26   3.68  \n",
       "27   3.65  \n",
       "28   3.62  \n",
       "29   3.62  "
      ]
     },
     "execution_count": 21,
     "metadata": {},
     "output_type": "execute_result"
    }
   ],
   "source": [
    "df = pd.DataFrame({'Name':name, 'Artist':artist, 'Upload Date':upload_date, 'Views':views})\n",
    "df"
   ]
  },
  {
   "cell_type": "markdown",
   "id": "55af780c",
   "metadata": {},
   "source": [
    "# 3. Scrape the details of State-wise GDP of India from statisticstime.com.\n",
    "Url = http://statisticstimes.com/\n",
    "You have to find following details:\n",
    "A) Rank\n",
    "B) State\n",
    "C) GSDP(18-19)- at current prices\n",
    "D) GSDP(19-20)- at current prices\n",
    "E) Share(18-19)\n",
    "F) GDP($ billion) "
   ]
  },
  {
   "cell_type": "code",
   "execution_count": 3,
   "id": "f6308823",
   "metadata": {},
   "outputs": [],
   "source": [
    "driver = webdriver.Chrome()"
   ]
  },
  {
   "cell_type": "code",
   "execution_count": 4,
   "id": "d523b4f6",
   "metadata": {},
   "outputs": [],
   "source": [
    "driver.get('http://statisticstimes.com/')"
   ]
  },
  {
   "cell_type": "code",
   "execution_count": 7,
   "id": "7d80cfda",
   "metadata": {},
   "outputs": [],
   "source": [
    "economy = driver.find_element(By.XPATH,'//*[@id=\"top\"]/div[2]/div[2]/button')       \n",
    "economy.click()"
   ]
  },
  {
   "cell_type": "code",
   "execution_count": 8,
   "id": "573a6b1c",
   "metadata": {},
   "outputs": [],
   "source": [
    "ind = driver.find_element(By.XPATH,'//*[@id=\"top\"]/div[2]/div[2]/div/a[3]')      \n",
    "ind.click()"
   ]
  },
  {
   "cell_type": "code",
   "execution_count": 9,
   "id": "b1595bbf",
   "metadata": {},
   "outputs": [],
   "source": [
    "GDP_Ind = driver.find_element(By.XPATH,'/html/body/div[2]/div[2]/div[2]/ul/li[1]/a')\n",
    "GDP_Ind.click()"
   ]
  },
  {
   "cell_type": "code",
   "execution_count": 10,
   "id": "dd9ed6be",
   "metadata": {},
   "outputs": [],
   "source": [
    "rank = []\n",
    "state = []\n",
    "gsdp18_19 = []\n",
    "gsdp19_20 = []\n",
    "share18_19 = []\n",
    "gdp = []"
   ]
  },
  {
   "cell_type": "code",
   "execution_count": 11,
   "id": "2c6e24a0",
   "metadata": {},
   "outputs": [
    {
     "name": "stdout",
     "output_type": "stream",
     "text": [
      "33 ['1', '2', '3', '4', '5', '6', '7', '8', '9', '10', '11', '12', '13', '14', '15', '16', '17', '18', '19', '20', '21', '22', '23', '24', '25', '26', '27', '28', '29', '30', '31', '32', '33']\n"
     ]
    }
   ],
   "source": [
    "rank_ = driver.find_elements(By.XPATH,'//*[@id=\"table_id\"]/tbody/tr/td[1]')\n",
    "for i in rank_:\n",
    "    if i.text is None :\n",
    "        rank.append(\"--\") \n",
    "    else:\n",
    "        rank.append(i.text)\n",
    "print(len(rank),rank)"
   ]
  },
  {
   "cell_type": "code",
   "execution_count": 12,
   "id": "8d6437a9",
   "metadata": {},
   "outputs": [
    {
     "name": "stdout",
     "output_type": "stream",
     "text": [
      "33 ['Maharashtra', 'Tamil Nadu', 'Karnataka', 'Uttar Pradesh', 'Gujarat', 'West Bengal', 'Rajasthan', 'Andhra Pradesh', 'Telangana', 'Madhya Pradesh', 'Kerala', 'Delhi', 'Haryana', 'Odisha', 'Bihar', 'Punjab', 'Assam', 'Chhattisgarh', 'Jharkhand', 'Uttarakhand', 'Jammu & Kashmir', 'Himachal Pradesh', 'Goa', 'Tripura', 'Chandigarh', 'Puducherry', 'Meghalaya', 'Sikkim', 'Manipur', 'Arunachal Pradesh', 'Nagaland', 'Mizoram', 'Andaman & Nicobar Islands']\n"
     ]
    }
   ],
   "source": [
    "state_ = driver.find_elements(By.XPATH,'//*[@id=\"table_id\"]/tbody/tr/td[2]')\n",
    "for i in state_:\n",
    "    if i.text is None :\n",
    "        state.append(\"--\") \n",
    "    else:\n",
    "        state.append(i.text)\n",
    "print(len(state),state)"
   ]
  },
  {
   "cell_type": "code",
   "execution_count": 13,
   "id": "4459de5e",
   "metadata": {},
   "outputs": [
    {
     "name": "stdout",
     "output_type": "stream",
     "text": [
      "33 ['2,027,971', '1,343,287', '1,235,377', '1,200,093', '1,365,922', '787,439', '727,805', '722,727', '669,229', '584,470', '578,057', '580,396', '544,317', '430,541', '399,930', '434,261', '278,835', '280,609', '243,348', '184,274', '119,174', '124,770', '55,342', '39,487', '30,587', '27,131', '24,267', '20,728', '20,515', '19,707', '17,336', '18,494', '7,172']\n"
     ]
    }
   ],
   "source": [
    "gsdp18_19_ = driver.find_elements(By.XPATH,'//*[@id=\"table_id\"]/tbody/tr/td[10]')\n",
    "for i in gsdp18_19_:\n",
    "    if i.text is None :\n",
    "        gsdp18_19.append(\"--\") \n",
    "    else:\n",
    "        gsdp18_19.append(i.text)\n",
    "print(len(gsdp18_19),gsdp18_19)"
   ]
  },
  {
   "cell_type": "code",
   "execution_count": 14,
   "id": "3b4998cc",
   "metadata": {},
   "outputs": [
    {
     "name": "stdout",
     "output_type": "stream",
     "text": [
      "33 ['3,108,022', '2,071,286', '1,978,094', '1,975,595', '1,928,683', '1,329,238', '1,193,489', '1,148,471', '1,124,204', '1,092,964', '934,542', '881,336', '868,905', '662,886', '650,302', '617,192', '411,454', '410,525', '358,863', '267,143', '193,352', '172,162', '84,266', '62,550', '46,096', '43,810', '38,785', '37,557', '36,594', '34,775', '31,038', '27,824', '10,371']\n"
     ]
    }
   ],
   "source": [
    "gsdp19_20_ = driver.find_elements(By.XPATH,'//*[@id=\"table_id\"]/tbody/tr/td[5]')\n",
    "for i in gsdp19_20_:\n",
    "    if i.text is None :\n",
    "        gsdp19_20.append(\"--\") \n",
    "    else:\n",
    "        gsdp19_20.append(i.text)\n",
    "print(len(gsdp19_20),gsdp19_20)"
   ]
  },
  {
   "cell_type": "code",
   "execution_count": 15,
   "id": "b1db11e3",
   "metadata": {},
   "outputs": [
    {
     "name": "stdout",
     "output_type": "stream",
     "text": [
      "33 ['13.17%', '8.78%', '8.38%', '8.37%', '8.17%', '5.63%', '5.06%', '4.87%', '4.76%', '4.63%', '3.96%', '3.73%', '3.68%', '2.81%', '2.76%', '2.62%', '1.74%', '1.74%', '1.52%', '1.13%', '0.82%', '0.73%', '0.36%', '0.27%', '0.20%', '0.19%', '0.16%', '0.16%', '0.16%', '0.15%', '0.13%', '0.12%', '0.04%']\n"
     ]
    }
   ],
   "source": [
    "share18_19_ = driver.find_elements(By.XPATH,'//*[@id=\"table_id\"]/tbody/tr/td[6]')\n",
    "for i in share18_19_:\n",
    "    if i.text is None :\n",
    "        share18_19.append(\"--\") \n",
    "    else:\n",
    "        share18_19.append(i.text)\n",
    "print(len(share18_19),share18_19)"
   ]
  },
  {
   "cell_type": "code",
   "execution_count": 16,
   "id": "c6192f38",
   "metadata": {},
   "outputs": [
    {
     "name": "stdout",
     "output_type": "stream",
     "text": [
      "33 ['414.928', '276.522', '264.080', '263.747', '257.484', '177.456', '159.334', '153.324', '150.084', '145.913', '124.764', '117.660', '116.001', '88.497', '86.817', '82.397', '54.930', '54.806', '47.909', '35.664', '25.813', '22.984', '11.250', '8.351', '6.154', '5.849', '5.178', '5.014', '4.885', '4.643', '4.144', '3.715', '1.385']\n"
     ]
    }
   ],
   "source": [
    "gdp_ = driver.find_elements(By.XPATH,'//*[@id=\"table_id\"]/tbody/tr/td[7]')\n",
    "for i in gdp_:\n",
    "    if i.text is None :\n",
    "        gdp.append(\"--\") \n",
    "    else:\n",
    "        gdp.append(i.text)\n",
    "print(len(gdp),gdp)"
   ]
  },
  {
   "cell_type": "code",
   "execution_count": 17,
   "id": "c3e24f73",
   "metadata": {},
   "outputs": [
    {
     "data": {
      "text/html": [
       "<div>\n",
       "<style scoped>\n",
       "    .dataframe tbody tr th:only-of-type {\n",
       "        vertical-align: middle;\n",
       "    }\n",
       "\n",
       "    .dataframe tbody tr th {\n",
       "        vertical-align: top;\n",
       "    }\n",
       "\n",
       "    .dataframe thead th {\n",
       "        text-align: right;\n",
       "    }\n",
       "</style>\n",
       "<table border=\"1\" class=\"dataframe\">\n",
       "  <thead>\n",
       "    <tr style=\"text-align: right;\">\n",
       "      <th></th>\n",
       "      <th>Rank</th>\n",
       "      <th>State</th>\n",
       "      <th>GSDP(18-19)- at current prices</th>\n",
       "      <th>GSDP(19-20)- at current prices</th>\n",
       "      <th>Share(18-19)</th>\n",
       "      <th>GDP</th>\n",
       "    </tr>\n",
       "  </thead>\n",
       "  <tbody>\n",
       "    <tr>\n",
       "      <th>0</th>\n",
       "      <td>1</td>\n",
       "      <td>Maharashtra</td>\n",
       "      <td>2,027,971</td>\n",
       "      <td>3,108,022</td>\n",
       "      <td>13.17%</td>\n",
       "      <td>414.928</td>\n",
       "    </tr>\n",
       "    <tr>\n",
       "      <th>1</th>\n",
       "      <td>2</td>\n",
       "      <td>Tamil Nadu</td>\n",
       "      <td>1,343,287</td>\n",
       "      <td>2,071,286</td>\n",
       "      <td>8.78%</td>\n",
       "      <td>276.522</td>\n",
       "    </tr>\n",
       "    <tr>\n",
       "      <th>2</th>\n",
       "      <td>3</td>\n",
       "      <td>Karnataka</td>\n",
       "      <td>1,235,377</td>\n",
       "      <td>1,978,094</td>\n",
       "      <td>8.38%</td>\n",
       "      <td>264.080</td>\n",
       "    </tr>\n",
       "    <tr>\n",
       "      <th>3</th>\n",
       "      <td>4</td>\n",
       "      <td>Uttar Pradesh</td>\n",
       "      <td>1,200,093</td>\n",
       "      <td>1,975,595</td>\n",
       "      <td>8.37%</td>\n",
       "      <td>263.747</td>\n",
       "    </tr>\n",
       "    <tr>\n",
       "      <th>4</th>\n",
       "      <td>5</td>\n",
       "      <td>Gujarat</td>\n",
       "      <td>1,365,922</td>\n",
       "      <td>1,928,683</td>\n",
       "      <td>8.17%</td>\n",
       "      <td>257.484</td>\n",
       "    </tr>\n",
       "    <tr>\n",
       "      <th>5</th>\n",
       "      <td>6</td>\n",
       "      <td>West Bengal</td>\n",
       "      <td>787,439</td>\n",
       "      <td>1,329,238</td>\n",
       "      <td>5.63%</td>\n",
       "      <td>177.456</td>\n",
       "    </tr>\n",
       "    <tr>\n",
       "      <th>6</th>\n",
       "      <td>7</td>\n",
       "      <td>Rajasthan</td>\n",
       "      <td>727,805</td>\n",
       "      <td>1,193,489</td>\n",
       "      <td>5.06%</td>\n",
       "      <td>159.334</td>\n",
       "    </tr>\n",
       "    <tr>\n",
       "      <th>7</th>\n",
       "      <td>8</td>\n",
       "      <td>Andhra Pradesh</td>\n",
       "      <td>722,727</td>\n",
       "      <td>1,148,471</td>\n",
       "      <td>4.87%</td>\n",
       "      <td>153.324</td>\n",
       "    </tr>\n",
       "    <tr>\n",
       "      <th>8</th>\n",
       "      <td>9</td>\n",
       "      <td>Telangana</td>\n",
       "      <td>669,229</td>\n",
       "      <td>1,124,204</td>\n",
       "      <td>4.76%</td>\n",
       "      <td>150.084</td>\n",
       "    </tr>\n",
       "    <tr>\n",
       "      <th>9</th>\n",
       "      <td>10</td>\n",
       "      <td>Madhya Pradesh</td>\n",
       "      <td>584,470</td>\n",
       "      <td>1,092,964</td>\n",
       "      <td>4.63%</td>\n",
       "      <td>145.913</td>\n",
       "    </tr>\n",
       "    <tr>\n",
       "      <th>10</th>\n",
       "      <td>11</td>\n",
       "      <td>Kerala</td>\n",
       "      <td>578,057</td>\n",
       "      <td>934,542</td>\n",
       "      <td>3.96%</td>\n",
       "      <td>124.764</td>\n",
       "    </tr>\n",
       "    <tr>\n",
       "      <th>11</th>\n",
       "      <td>12</td>\n",
       "      <td>Delhi</td>\n",
       "      <td>580,396</td>\n",
       "      <td>881,336</td>\n",
       "      <td>3.73%</td>\n",
       "      <td>117.660</td>\n",
       "    </tr>\n",
       "    <tr>\n",
       "      <th>12</th>\n",
       "      <td>13</td>\n",
       "      <td>Haryana</td>\n",
       "      <td>544,317</td>\n",
       "      <td>868,905</td>\n",
       "      <td>3.68%</td>\n",
       "      <td>116.001</td>\n",
       "    </tr>\n",
       "    <tr>\n",
       "      <th>13</th>\n",
       "      <td>14</td>\n",
       "      <td>Odisha</td>\n",
       "      <td>430,541</td>\n",
       "      <td>662,886</td>\n",
       "      <td>2.81%</td>\n",
       "      <td>88.497</td>\n",
       "    </tr>\n",
       "    <tr>\n",
       "      <th>14</th>\n",
       "      <td>15</td>\n",
       "      <td>Bihar</td>\n",
       "      <td>399,930</td>\n",
       "      <td>650,302</td>\n",
       "      <td>2.76%</td>\n",
       "      <td>86.817</td>\n",
       "    </tr>\n",
       "    <tr>\n",
       "      <th>15</th>\n",
       "      <td>16</td>\n",
       "      <td>Punjab</td>\n",
       "      <td>434,261</td>\n",
       "      <td>617,192</td>\n",
       "      <td>2.62%</td>\n",
       "      <td>82.397</td>\n",
       "    </tr>\n",
       "    <tr>\n",
       "      <th>16</th>\n",
       "      <td>17</td>\n",
       "      <td>Assam</td>\n",
       "      <td>278,835</td>\n",
       "      <td>411,454</td>\n",
       "      <td>1.74%</td>\n",
       "      <td>54.930</td>\n",
       "    </tr>\n",
       "    <tr>\n",
       "      <th>17</th>\n",
       "      <td>18</td>\n",
       "      <td>Chhattisgarh</td>\n",
       "      <td>280,609</td>\n",
       "      <td>410,525</td>\n",
       "      <td>1.74%</td>\n",
       "      <td>54.806</td>\n",
       "    </tr>\n",
       "    <tr>\n",
       "      <th>18</th>\n",
       "      <td>19</td>\n",
       "      <td>Jharkhand</td>\n",
       "      <td>243,348</td>\n",
       "      <td>358,863</td>\n",
       "      <td>1.52%</td>\n",
       "      <td>47.909</td>\n",
       "    </tr>\n",
       "    <tr>\n",
       "      <th>19</th>\n",
       "      <td>20</td>\n",
       "      <td>Uttarakhand</td>\n",
       "      <td>184,274</td>\n",
       "      <td>267,143</td>\n",
       "      <td>1.13%</td>\n",
       "      <td>35.664</td>\n",
       "    </tr>\n",
       "    <tr>\n",
       "      <th>20</th>\n",
       "      <td>21</td>\n",
       "      <td>Jammu &amp; Kashmir</td>\n",
       "      <td>119,174</td>\n",
       "      <td>193,352</td>\n",
       "      <td>0.82%</td>\n",
       "      <td>25.813</td>\n",
       "    </tr>\n",
       "    <tr>\n",
       "      <th>21</th>\n",
       "      <td>22</td>\n",
       "      <td>Himachal Pradesh</td>\n",
       "      <td>124,770</td>\n",
       "      <td>172,162</td>\n",
       "      <td>0.73%</td>\n",
       "      <td>22.984</td>\n",
       "    </tr>\n",
       "    <tr>\n",
       "      <th>22</th>\n",
       "      <td>23</td>\n",
       "      <td>Goa</td>\n",
       "      <td>55,342</td>\n",
       "      <td>84,266</td>\n",
       "      <td>0.36%</td>\n",
       "      <td>11.250</td>\n",
       "    </tr>\n",
       "    <tr>\n",
       "      <th>23</th>\n",
       "      <td>24</td>\n",
       "      <td>Tripura</td>\n",
       "      <td>39,487</td>\n",
       "      <td>62,550</td>\n",
       "      <td>0.27%</td>\n",
       "      <td>8.351</td>\n",
       "    </tr>\n",
       "    <tr>\n",
       "      <th>24</th>\n",
       "      <td>25</td>\n",
       "      <td>Chandigarh</td>\n",
       "      <td>30,587</td>\n",
       "      <td>46,096</td>\n",
       "      <td>0.20%</td>\n",
       "      <td>6.154</td>\n",
       "    </tr>\n",
       "    <tr>\n",
       "      <th>25</th>\n",
       "      <td>26</td>\n",
       "      <td>Puducherry</td>\n",
       "      <td>27,131</td>\n",
       "      <td>43,810</td>\n",
       "      <td>0.19%</td>\n",
       "      <td>5.849</td>\n",
       "    </tr>\n",
       "    <tr>\n",
       "      <th>26</th>\n",
       "      <td>27</td>\n",
       "      <td>Meghalaya</td>\n",
       "      <td>24,267</td>\n",
       "      <td>38,785</td>\n",
       "      <td>0.16%</td>\n",
       "      <td>5.178</td>\n",
       "    </tr>\n",
       "    <tr>\n",
       "      <th>27</th>\n",
       "      <td>28</td>\n",
       "      <td>Sikkim</td>\n",
       "      <td>20,728</td>\n",
       "      <td>37,557</td>\n",
       "      <td>0.16%</td>\n",
       "      <td>5.014</td>\n",
       "    </tr>\n",
       "    <tr>\n",
       "      <th>28</th>\n",
       "      <td>29</td>\n",
       "      <td>Manipur</td>\n",
       "      <td>20,515</td>\n",
       "      <td>36,594</td>\n",
       "      <td>0.16%</td>\n",
       "      <td>4.885</td>\n",
       "    </tr>\n",
       "    <tr>\n",
       "      <th>29</th>\n",
       "      <td>30</td>\n",
       "      <td>Arunachal Pradesh</td>\n",
       "      <td>19,707</td>\n",
       "      <td>34,775</td>\n",
       "      <td>0.15%</td>\n",
       "      <td>4.643</td>\n",
       "    </tr>\n",
       "    <tr>\n",
       "      <th>30</th>\n",
       "      <td>31</td>\n",
       "      <td>Nagaland</td>\n",
       "      <td>17,336</td>\n",
       "      <td>31,038</td>\n",
       "      <td>0.13%</td>\n",
       "      <td>4.144</td>\n",
       "    </tr>\n",
       "    <tr>\n",
       "      <th>31</th>\n",
       "      <td>32</td>\n",
       "      <td>Mizoram</td>\n",
       "      <td>18,494</td>\n",
       "      <td>27,824</td>\n",
       "      <td>0.12%</td>\n",
       "      <td>3.715</td>\n",
       "    </tr>\n",
       "    <tr>\n",
       "      <th>32</th>\n",
       "      <td>33</td>\n",
       "      <td>Andaman &amp; Nicobar Islands</td>\n",
       "      <td>7,172</td>\n",
       "      <td>10,371</td>\n",
       "      <td>0.04%</td>\n",
       "      <td>1.385</td>\n",
       "    </tr>\n",
       "  </tbody>\n",
       "</table>\n",
       "</div>"
      ],
      "text/plain": [
       "   Rank                      State GSDP(18-19)- at current prices  \\\n",
       "0     1                Maharashtra                      2,027,971   \n",
       "1     2                 Tamil Nadu                      1,343,287   \n",
       "2     3                  Karnataka                      1,235,377   \n",
       "3     4              Uttar Pradesh                      1,200,093   \n",
       "4     5                    Gujarat                      1,365,922   \n",
       "5     6                West Bengal                        787,439   \n",
       "6     7                  Rajasthan                        727,805   \n",
       "7     8             Andhra Pradesh                        722,727   \n",
       "8     9                  Telangana                        669,229   \n",
       "9    10             Madhya Pradesh                        584,470   \n",
       "10   11                     Kerala                        578,057   \n",
       "11   12                      Delhi                        580,396   \n",
       "12   13                    Haryana                        544,317   \n",
       "13   14                     Odisha                        430,541   \n",
       "14   15                      Bihar                        399,930   \n",
       "15   16                     Punjab                        434,261   \n",
       "16   17                      Assam                        278,835   \n",
       "17   18               Chhattisgarh                        280,609   \n",
       "18   19                  Jharkhand                        243,348   \n",
       "19   20                Uttarakhand                        184,274   \n",
       "20   21            Jammu & Kashmir                        119,174   \n",
       "21   22           Himachal Pradesh                        124,770   \n",
       "22   23                        Goa                         55,342   \n",
       "23   24                    Tripura                         39,487   \n",
       "24   25                 Chandigarh                         30,587   \n",
       "25   26                 Puducherry                         27,131   \n",
       "26   27                  Meghalaya                         24,267   \n",
       "27   28                     Sikkim                         20,728   \n",
       "28   29                    Manipur                         20,515   \n",
       "29   30          Arunachal Pradesh                         19,707   \n",
       "30   31                   Nagaland                         17,336   \n",
       "31   32                    Mizoram                         18,494   \n",
       "32   33  Andaman & Nicobar Islands                          7,172   \n",
       "\n",
       "   GSDP(19-20)- at current prices Share(18-19)      GDP  \n",
       "0                       3,108,022       13.17%  414.928  \n",
       "1                       2,071,286        8.78%  276.522  \n",
       "2                       1,978,094        8.38%  264.080  \n",
       "3                       1,975,595        8.37%  263.747  \n",
       "4                       1,928,683        8.17%  257.484  \n",
       "5                       1,329,238        5.63%  177.456  \n",
       "6                       1,193,489        5.06%  159.334  \n",
       "7                       1,148,471        4.87%  153.324  \n",
       "8                       1,124,204        4.76%  150.084  \n",
       "9                       1,092,964        4.63%  145.913  \n",
       "10                        934,542        3.96%  124.764  \n",
       "11                        881,336        3.73%  117.660  \n",
       "12                        868,905        3.68%  116.001  \n",
       "13                        662,886        2.81%   88.497  \n",
       "14                        650,302        2.76%   86.817  \n",
       "15                        617,192        2.62%   82.397  \n",
       "16                        411,454        1.74%   54.930  \n",
       "17                        410,525        1.74%   54.806  \n",
       "18                        358,863        1.52%   47.909  \n",
       "19                        267,143        1.13%   35.664  \n",
       "20                        193,352        0.82%   25.813  \n",
       "21                        172,162        0.73%   22.984  \n",
       "22                         84,266        0.36%   11.250  \n",
       "23                         62,550        0.27%    8.351  \n",
       "24                         46,096        0.20%    6.154  \n",
       "25                         43,810        0.19%    5.849  \n",
       "26                         38,785        0.16%    5.178  \n",
       "27                         37,557        0.16%    5.014  \n",
       "28                         36,594        0.16%    4.885  \n",
       "29                         34,775        0.15%    4.643  \n",
       "30                         31,038        0.13%    4.144  \n",
       "31                         27,824        0.12%    3.715  \n",
       "32                         10,371        0.04%    1.385  "
      ]
     },
     "execution_count": 17,
     "metadata": {},
     "output_type": "execute_result"
    }
   ],
   "source": [
    "df = pd.DataFrame({'Rank':rank, 'State':state, 'GSDP(18-19)- at current prices':gsdp18_19, 'GSDP(19-20)- at current prices':gsdp19_20, 'Share(18-19)':share18_19, 'GDP':gdp })\n",
    "df"
   ]
  },
  {
   "cell_type": "markdown",
   "id": "17a6e722",
   "metadata": {},
   "source": [
    "# 4. Scrape the details of trending repositories on Github.com.\n",
    "Url = https://github.com/\n",
    "You have to find the following details:\n",
    "A) Repository title\n",
    "B) Repository description\n",
    "C) Contributors count\n",
    "D) Language used "
   ]
  },
  {
   "cell_type": "code",
   "execution_count": 28,
   "id": "5145dcfc",
   "metadata": {},
   "outputs": [],
   "source": [
    "driver = webdriver.Chrome()"
   ]
  },
  {
   "cell_type": "code",
   "execution_count": 29,
   "id": "a7624c07",
   "metadata": {},
   "outputs": [],
   "source": [
    "driver.get('https://github.com/')"
   ]
  },
  {
   "cell_type": "code",
   "execution_count": 34,
   "id": "8c4190ad",
   "metadata": {},
   "outputs": [],
   "source": [
    "explore = driver.find_element(By.XPATH,'/html/body/div[1]/div[6]/div/div/div/div/div/aside/div[2]/div/a')       \n",
    "explore.click()"
   ]
  },
  {
   "cell_type": "code",
   "execution_count": 37,
   "id": "3a01dda4",
   "metadata": {},
   "outputs": [],
   "source": [
    "trending = driver.find_element(By.XPATH,'/html/body/div[1]/div[6]/main/div[1]/nav/div/a[3]')       \n",
    "trending.click()"
   ]
  },
  {
   "cell_type": "code",
   "execution_count": 48,
   "id": "03a8820f",
   "metadata": {},
   "outputs": [],
   "source": [
    "title = []\n",
    "desc = []\n",
    "cont_count = []\n",
    "lang = []"
   ]
  },
  {
   "cell_type": "code",
   "execution_count": 49,
   "id": "f6768f89",
   "metadata": {},
   "outputs": [
    {
     "name": "stdout",
     "output_type": "stream",
     "text": [
      "20 ['tigerbeetle / tigerbeetle', 'astral-sh / uv', 'microsoft / generative-ai-for-beginners', 'ClayAmore / ER-Save-Editor', 'starship / starship', 'dortania / OpenCore-Legacy-Patcher', 'mrdbourke / pytorch-deep-learning', 'google / leveldb', 'LizardByte / Sunshine', 'microsoft / semantic-kernel', 'neovim / neovim', 'WerWolv / ImHex', 'yt-dlp / yt-dlp', 'wolfpld / tracy', 'goatcorp / Dalamud', 'Asabeneh / 30-Days-Of-Python', 'ocornut / imgui', 'pedroslopez / whatsapp-web.js', 'Koenkk / zigbee2mqtt', 'ruffle-rs / ruffle']\n"
     ]
    }
   ],
   "source": [
    "title_ = driver.find_elements(By.XPATH,'//h2[@class=\"h3 lh-condensed\"]')\n",
    "for i in title_:\n",
    "    if i.text is None :\n",
    "        title.append(\"--\") \n",
    "    else:\n",
    "        title.append(i.text)\n",
    "print(len(title),title)"
   ]
  },
  {
   "cell_type": "code",
   "execution_count": 50,
   "id": "789a118a",
   "metadata": {},
   "outputs": [
    {
     "name": "stdout",
     "output_type": "stream",
     "text": [
      "20 ['The distributed financial transactions database designed for mission critical safety and performance.', 'An extremely fast Python package installer and resolver, written in Rust.', '18 Lessons, Get Started Building with Generative AI 🔗 https://microsoft.github.io/generative-ai-for-beginners/', 'Elden Ring Save Editor. Compatible with PC and Playstation saves.', '☄🌌️ The minimal, blazing-fast, and infinitely customizable prompt for any shell!', 'Experience macOS just like before', 'Materials for the Learn PyTorch for Deep Learning: Zero to Mastery course.', 'LevelDB is a fast key-value storage library written at Google that provides an ordered mapping from string keys to string values.', 'Self-hosted game stream host for Moonlight.', 'Integrate cutting-edge LLM technology quickly and easily into your apps', 'Vim-fork focused on extensibility and usability', '🔍 A Hex Editor for Reverse Engineers, Programmers and people who value their retinas when working at 3 AM.', 'A feature-rich command-line audio/video downloader', 'Frame profiler', 'FFXIV plugin framework and API', '30 days of Python programming challenge is a step-by-step guide to learn the Python programming language in 30 days. This challenge may take more than100 days, follow your own pace. These videos may help too: https://www.youtube.com/channel/UC7PNRuno1rzYPb1xLa4yktw', 'Dear ImGui: Bloat-free Graphical User interface for C++ with minimal dependencies', 'A WhatsApp client library for NodeJS that connects through the WhatsApp Web browser app', 'Zigbee 🐝 to MQTT bridge 🌉, get rid of your proprietary Zigbee bridges 🔨', 'A Flash Player emulator written in Rust']\n"
     ]
    }
   ],
   "source": [
    "desc_ = driver.find_elements(By.XPATH,'//p[@class=\"col-9 color-fg-muted my-1 pr-4\"]')\n",
    "for i in desc_:\n",
    "    if i.text is None :\n",
    "        desc.append(\"--\") \n",
    "    else:\n",
    "        desc.append(i.text)\n",
    "print(len(desc),desc)"
   ]
  },
  {
   "cell_type": "code",
   "execution_count": 51,
   "id": "163725c5",
   "metadata": {},
   "outputs": [
    {
     "name": "stdout",
     "output_type": "stream",
     "text": [
      "20 ['432', '400', '27,135', '38', '1,823', '1,106', '2,737', '7,709', '729', '2,939', '5,484', '1,636', '5,960', '587', '253', '6,937', '9,892', '3,416', '1,619', '769']\n"
     ]
    }
   ],
   "source": [
    "cont_count_ = driver.find_elements(By.XPATH,'//a[@class=\"Link Link--muted d-inline-block mr-3\"][2]')\n",
    "for i in cont_count_:\n",
    "    if i.text is None :\n",
    "        cont_count.append(\"--\") \n",
    "    else:\n",
    "        cont_count.append(i.text)\n",
    "print(len(cont_count),cont_count)"
   ]
  },
  {
   "cell_type": "code",
   "execution_count": 52,
   "id": "953fa4a3",
   "metadata": {},
   "outputs": [
    {
     "name": "stdout",
     "output_type": "stream",
     "text": [
      "20 ['Zig', 'Rust', 'Jupyter Notebook', 'Rust', 'Rust', 'Python', 'Jupyter Notebook', 'C++', 'C++', 'C#', 'Vim Script', 'C++', 'Python', 'C++', 'C#', 'Python', 'C++', 'JavaScript', 'JavaScript', 'Rust']\n"
     ]
    }
   ],
   "source": [
    "lang_ = driver.find_elements(By.XPATH,'//span[@itemprop=\"programmingLanguage\"]')\n",
    "for i in lang_:\n",
    "    if i.text is None :\n",
    "        lang.append(\"--\") \n",
    "    else:\n",
    "        lang.append(i.text)\n",
    "print(len(lang),lang)"
   ]
  },
  {
   "cell_type": "code",
   "execution_count": 53,
   "id": "0b28ded4",
   "metadata": {},
   "outputs": [
    {
     "data": {
      "text/html": [
       "<div>\n",
       "<style scoped>\n",
       "    .dataframe tbody tr th:only-of-type {\n",
       "        vertical-align: middle;\n",
       "    }\n",
       "\n",
       "    .dataframe tbody tr th {\n",
       "        vertical-align: top;\n",
       "    }\n",
       "\n",
       "    .dataframe thead th {\n",
       "        text-align: right;\n",
       "    }\n",
       "</style>\n",
       "<table border=\"1\" class=\"dataframe\">\n",
       "  <thead>\n",
       "    <tr style=\"text-align: right;\">\n",
       "      <th></th>\n",
       "      <th>Repository title</th>\n",
       "      <th>Repository description</th>\n",
       "      <th>Contributors count</th>\n",
       "      <th>Language used</th>\n",
       "    </tr>\n",
       "  </thead>\n",
       "  <tbody>\n",
       "    <tr>\n",
       "      <th>0</th>\n",
       "      <td>tigerbeetle / tigerbeetle</td>\n",
       "      <td>The distributed financial transactions databas...</td>\n",
       "      <td>432</td>\n",
       "      <td>Zig</td>\n",
       "    </tr>\n",
       "    <tr>\n",
       "      <th>1</th>\n",
       "      <td>astral-sh / uv</td>\n",
       "      <td>An extremely fast Python package installer and...</td>\n",
       "      <td>400</td>\n",
       "      <td>Rust</td>\n",
       "    </tr>\n",
       "    <tr>\n",
       "      <th>2</th>\n",
       "      <td>microsoft / generative-ai-for-beginners</td>\n",
       "      <td>18 Lessons, Get Started Building with Generati...</td>\n",
       "      <td>27,135</td>\n",
       "      <td>Jupyter Notebook</td>\n",
       "    </tr>\n",
       "    <tr>\n",
       "      <th>3</th>\n",
       "      <td>ClayAmore / ER-Save-Editor</td>\n",
       "      <td>Elden Ring Save Editor. Compatible with PC and...</td>\n",
       "      <td>38</td>\n",
       "      <td>Rust</td>\n",
       "    </tr>\n",
       "    <tr>\n",
       "      <th>4</th>\n",
       "      <td>starship / starship</td>\n",
       "      <td>☄🌌️ The minimal, blazing-fast, and infinitely ...</td>\n",
       "      <td>1,823</td>\n",
       "      <td>Rust</td>\n",
       "    </tr>\n",
       "    <tr>\n",
       "      <th>5</th>\n",
       "      <td>dortania / OpenCore-Legacy-Patcher</td>\n",
       "      <td>Experience macOS just like before</td>\n",
       "      <td>1,106</td>\n",
       "      <td>Python</td>\n",
       "    </tr>\n",
       "    <tr>\n",
       "      <th>6</th>\n",
       "      <td>mrdbourke / pytorch-deep-learning</td>\n",
       "      <td>Materials for the Learn PyTorch for Deep Learn...</td>\n",
       "      <td>2,737</td>\n",
       "      <td>Jupyter Notebook</td>\n",
       "    </tr>\n",
       "    <tr>\n",
       "      <th>7</th>\n",
       "      <td>google / leveldb</td>\n",
       "      <td>LevelDB is a fast key-value storage library wr...</td>\n",
       "      <td>7,709</td>\n",
       "      <td>C++</td>\n",
       "    </tr>\n",
       "    <tr>\n",
       "      <th>8</th>\n",
       "      <td>LizardByte / Sunshine</td>\n",
       "      <td>Self-hosted game stream host for Moonlight.</td>\n",
       "      <td>729</td>\n",
       "      <td>C++</td>\n",
       "    </tr>\n",
       "    <tr>\n",
       "      <th>9</th>\n",
       "      <td>microsoft / semantic-kernel</td>\n",
       "      <td>Integrate cutting-edge LLM technology quickly ...</td>\n",
       "      <td>2,939</td>\n",
       "      <td>C#</td>\n",
       "    </tr>\n",
       "    <tr>\n",
       "      <th>10</th>\n",
       "      <td>neovim / neovim</td>\n",
       "      <td>Vim-fork focused on extensibility and usability</td>\n",
       "      <td>5,484</td>\n",
       "      <td>Vim Script</td>\n",
       "    </tr>\n",
       "    <tr>\n",
       "      <th>11</th>\n",
       "      <td>WerWolv / ImHex</td>\n",
       "      <td>🔍 A Hex Editor for Reverse Engineers, Programm...</td>\n",
       "      <td>1,636</td>\n",
       "      <td>C++</td>\n",
       "    </tr>\n",
       "    <tr>\n",
       "      <th>12</th>\n",
       "      <td>yt-dlp / yt-dlp</td>\n",
       "      <td>A feature-rich command-line audio/video downlo...</td>\n",
       "      <td>5,960</td>\n",
       "      <td>Python</td>\n",
       "    </tr>\n",
       "    <tr>\n",
       "      <th>13</th>\n",
       "      <td>wolfpld / tracy</td>\n",
       "      <td>Frame profiler</td>\n",
       "      <td>587</td>\n",
       "      <td>C++</td>\n",
       "    </tr>\n",
       "    <tr>\n",
       "      <th>14</th>\n",
       "      <td>goatcorp / Dalamud</td>\n",
       "      <td>FFXIV plugin framework and API</td>\n",
       "      <td>253</td>\n",
       "      <td>C#</td>\n",
       "    </tr>\n",
       "    <tr>\n",
       "      <th>15</th>\n",
       "      <td>Asabeneh / 30-Days-Of-Python</td>\n",
       "      <td>30 days of Python programming challenge is a s...</td>\n",
       "      <td>6,937</td>\n",
       "      <td>Python</td>\n",
       "    </tr>\n",
       "    <tr>\n",
       "      <th>16</th>\n",
       "      <td>ocornut / imgui</td>\n",
       "      <td>Dear ImGui: Bloat-free Graphical User interfac...</td>\n",
       "      <td>9,892</td>\n",
       "      <td>C++</td>\n",
       "    </tr>\n",
       "    <tr>\n",
       "      <th>17</th>\n",
       "      <td>pedroslopez / whatsapp-web.js</td>\n",
       "      <td>A WhatsApp client library for NodeJS that conn...</td>\n",
       "      <td>3,416</td>\n",
       "      <td>JavaScript</td>\n",
       "    </tr>\n",
       "    <tr>\n",
       "      <th>18</th>\n",
       "      <td>Koenkk / zigbee2mqtt</td>\n",
       "      <td>Zigbee 🐝 to MQTT bridge 🌉, get rid of your pro...</td>\n",
       "      <td>1,619</td>\n",
       "      <td>JavaScript</td>\n",
       "    </tr>\n",
       "    <tr>\n",
       "      <th>19</th>\n",
       "      <td>ruffle-rs / ruffle</td>\n",
       "      <td>A Flash Player emulator written in Rust</td>\n",
       "      <td>769</td>\n",
       "      <td>Rust</td>\n",
       "    </tr>\n",
       "  </tbody>\n",
       "</table>\n",
       "</div>"
      ],
      "text/plain": [
       "                           Repository title  \\\n",
       "0                 tigerbeetle / tigerbeetle   \n",
       "1                            astral-sh / uv   \n",
       "2   microsoft / generative-ai-for-beginners   \n",
       "3                ClayAmore / ER-Save-Editor   \n",
       "4                       starship / starship   \n",
       "5        dortania / OpenCore-Legacy-Patcher   \n",
       "6         mrdbourke / pytorch-deep-learning   \n",
       "7                          google / leveldb   \n",
       "8                     LizardByte / Sunshine   \n",
       "9               microsoft / semantic-kernel   \n",
       "10                          neovim / neovim   \n",
       "11                          WerWolv / ImHex   \n",
       "12                          yt-dlp / yt-dlp   \n",
       "13                          wolfpld / tracy   \n",
       "14                       goatcorp / Dalamud   \n",
       "15             Asabeneh / 30-Days-Of-Python   \n",
       "16                          ocornut / imgui   \n",
       "17            pedroslopez / whatsapp-web.js   \n",
       "18                     Koenkk / zigbee2mqtt   \n",
       "19                       ruffle-rs / ruffle   \n",
       "\n",
       "                               Repository description Contributors count  \\\n",
       "0   The distributed financial transactions databas...                432   \n",
       "1   An extremely fast Python package installer and...                400   \n",
       "2   18 Lessons, Get Started Building with Generati...             27,135   \n",
       "3   Elden Ring Save Editor. Compatible with PC and...                 38   \n",
       "4   ☄🌌️ The minimal, blazing-fast, and infinitely ...              1,823   \n",
       "5                   Experience macOS just like before              1,106   \n",
       "6   Materials for the Learn PyTorch for Deep Learn...              2,737   \n",
       "7   LevelDB is a fast key-value storage library wr...              7,709   \n",
       "8         Self-hosted game stream host for Moonlight.                729   \n",
       "9   Integrate cutting-edge LLM technology quickly ...              2,939   \n",
       "10    Vim-fork focused on extensibility and usability              5,484   \n",
       "11  🔍 A Hex Editor for Reverse Engineers, Programm...              1,636   \n",
       "12  A feature-rich command-line audio/video downlo...              5,960   \n",
       "13                                     Frame profiler                587   \n",
       "14                     FFXIV plugin framework and API                253   \n",
       "15  30 days of Python programming challenge is a s...              6,937   \n",
       "16  Dear ImGui: Bloat-free Graphical User interfac...              9,892   \n",
       "17  A WhatsApp client library for NodeJS that conn...              3,416   \n",
       "18  Zigbee 🐝 to MQTT bridge 🌉, get rid of your pro...              1,619   \n",
       "19            A Flash Player emulator written in Rust                769   \n",
       "\n",
       "       Language used  \n",
       "0                Zig  \n",
       "1               Rust  \n",
       "2   Jupyter Notebook  \n",
       "3               Rust  \n",
       "4               Rust  \n",
       "5             Python  \n",
       "6   Jupyter Notebook  \n",
       "7                C++  \n",
       "8                C++  \n",
       "9                 C#  \n",
       "10        Vim Script  \n",
       "11               C++  \n",
       "12            Python  \n",
       "13               C++  \n",
       "14                C#  \n",
       "15            Python  \n",
       "16               C++  \n",
       "17        JavaScript  \n",
       "18        JavaScript  \n",
       "19              Rust  "
      ]
     },
     "execution_count": 53,
     "metadata": {},
     "output_type": "execute_result"
    }
   ],
   "source": [
    "df = pd.DataFrame({' Repository title':title, 'Repository description':desc, 'Contributors count':cont_count, 'Language used':lang})\n",
    "df"
   ]
  },
  {
   "cell_type": "markdown",
   "id": "5022b875",
   "metadata": {},
   "source": [
    "# 5. Scrape the details of top 100 songs on billiboard.com. Url = https:/www.billboard.com/ You have to find the\n",
    "following details:\n",
    "A) Song name\n",
    "B) Artist name\n",
    "C) Last week rank\n",
    "D) Peak rank\n",
    "E) Weeks on board "
   ]
  },
  {
   "cell_type": "code",
   "execution_count": 55,
   "id": "4cc50e40",
   "metadata": {},
   "outputs": [],
   "source": [
    "driver = webdriver.Chrome()"
   ]
  },
  {
   "cell_type": "code",
   "execution_count": 56,
   "id": "6c002f34",
   "metadata": {},
   "outputs": [],
   "source": [
    "driver.get('http://www.billboard.com/')"
   ]
  },
  {
   "cell_type": "code",
   "execution_count": 58,
   "id": "8760df3d",
   "metadata": {},
   "outputs": [],
   "source": [
    "charts = driver.find_element(By.XPATH,'/html/body/div[3]/header/div/div[2]/div/div/div[2]/div[2]/div/div/nav/ul/li[1]/a')       \n",
    "charts.click()"
   ]
  },
  {
   "cell_type": "code",
   "execution_count": 60,
   "id": "54cadffa",
   "metadata": {},
   "outputs": [],
   "source": [
    "view = driver.find_element(By.XPATH,'/html/body/div[3]/main/div[2]/div[1]/div[1]/div/div/div[3]/a')       \n",
    "view.click()"
   ]
  },
  {
   "cell_type": "code",
   "execution_count": 58,
   "id": "280c8290",
   "metadata": {},
   "outputs": [],
   "source": [
    "song = []\n",
    "# artist = []\n",
    "l_rank = []\n",
    "p_rank = []\n",
    "wb = []"
   ]
  },
  {
   "cell_type": "code",
   "execution_count": 59,
   "id": "e4a79d9d",
   "metadata": {},
   "outputs": [
    {
     "name": "stdout",
     "output_type": "stream",
     "text": [
      "100 ['Please Please Please', 'I Had Some Help', 'A Bar Song (Tipsy)', 'Espresso', 'Million Dollar Baby', 'Not Like Us', 'Too Sweet', 'Beautiful Things', 'Lose Control', 'Birds Of A Feather', 'Pink Skies', 'Houdini', 'Fortnight', 'Like That', 'Cowgirls', 'Good Luck, Babe!', 'Saturn', 'Lunch', \"We Can't Be Friends (Wait For Your Love)\", 'Austin', 'Whiskey Whiskey', 'I Remember Everything', 'Feather', 'Miles On It', 'Wanna Be', 'Lovin On Me', 'High Road', 'Stick Season', 'BAND4BAND', 'I Am Not Okay', 'Gata Only', 'Yeah Glo!', \"Ain't No Love In Oklahoma\", 'Slow It Down', 'Remember Him That Way', 'Chihiro', 'End Of Beginning', 'Get It Sexyy', 'The Man He Sees In Me', 'Bulletproof', 'Greedy', 'Agora Hills', 'Where It Ends', 'Stargazing', 'I Can Do It With A Broken Heart', 'I Like The Way You Kiss Me', 'Devil Is A Lie', 'Whatever She Wants', 'Sweet Dreams', 'One Of Wun', 'Type Shit', 'Euphoria', 'Dirt Cheap', 'Red Wine Supernova', 'Hot To Go!', 'Wild Ones', 'Wildflower', 'Attitude', 'U My Everything', 'Illusion', 'Brother Stone', 'Nasty', 'We Ride', 'Down Bad', 'Si No Quieres No', \"Think I'm In Love With You\", \"Wind Up Missin' You\", 'Wine Into Whiskey', 'Close To You', \"L'amour De Ma Vie\", 'The Thin Grey Line', 'Scared To Start', 'Bandit', 'The Boy Is Mine', 'Halfway To Hell', 'The Door', \"Texas Hold 'Em\", 'Tore Up', 'Belong Together', 'Your Place', 'After Hours', '360', \"Who's Afraid Of Little Old Me?\", 'Blue', 'Beautiful As You', 'Burgundy', 'Hell N Back', 'Guilty As Sin?', 'Enough (Miami)', 'Pink Pony Club', 'Thorns', 'Ice Age', 'Take Her Home', 'Let Your Boys Be Country', 'Front Door Famous', 'Spin You Around (1/24)', 'Get In With Me', 'Kryptonite', 'Carnival', 'Chevrolet']\n"
     ]
    }
   ],
   "source": [
    "song_ = driver.find_elements(By.XPATH,'//li[@class=\"lrv-u-width-100p\"]/ul/li/h3')\n",
    "for i in song_:\n",
    "    if i.text is None :\n",
    "        song.append(\"--\") \n",
    "    else:\n",
    "        song.append(i.text)\n",
    "print(len(song),song)"
   ]
  },
  {
   "cell_type": "code",
   "execution_count": 70,
   "id": "0257bbbb",
   "metadata": {},
   "outputs": [
    {
     "name": "stdout",
     "output_type": "stream",
     "text": [
      "a\n"
     ]
    },
    {
     "ename": "IndexError",
     "evalue": "string index out of range",
     "output_type": "error",
     "traceback": [
      "\u001b[1;31m---------------------------------------------------------------------------\u001b[0m",
      "\u001b[1;31mIndexError\u001b[0m                                Traceback (most recent call last)",
      "Cell \u001b[1;32mIn[70], line 10\u001b[0m\n\u001b[0;32m      8\u001b[0m \u001b[38;5;66;03m# print(len(artist),artist)\u001b[39;00m\n\u001b[0;32m      9\u001b[0m \u001b[38;5;28;01mfor\u001b[39;00m j \u001b[38;5;129;01min\u001b[39;00m artist:\n\u001b[1;32m---> 10\u001b[0m     \u001b[38;5;28mprint\u001b[39m(j[\u001b[38;5;241m1\u001b[39m])\n",
      "\u001b[1;31mIndexError\u001b[0m: string index out of range"
     ]
    }
   ],
   "source": [
    "artist = []\n",
    "artist_ = driver.find_elements(By.XPATH,'//li[@class=\"lrv-u-width-100p\"]/ul/li/span[1]')\n",
    "for i in artist_[:100]:\n",
    "    if i.text is None :\n",
    "        artist.append(\"--\") \n",
    "    else:\n",
    "        artist.append(i.text)\n",
    "# print(len(artist),artist)\n",
    "for j in artist:\n",
    "    print(j[1])"
   ]
  },
  {
   "cell_type": "markdown",
   "id": "f0a89d9e",
   "metadata": {},
   "source": [
    "# 6. Scrape the details of Highest selling novels.\n",
    "A) Book name\n",
    "B) Author name\n",
    "C) Volumes sold\n",
    "D) Publisher\n",
    "E) Genre\n",
    " Url - https://www.theguardian.com/news/datablog/2012/aug/09/best-selling-books-all-time-fifty-shades-grey-compare"
   ]
  },
  {
   "cell_type": "code",
   "execution_count": 9,
   "id": "40967e65",
   "metadata": {},
   "outputs": [],
   "source": [
    "driver = webdriver.Chrome()"
   ]
  },
  {
   "cell_type": "code",
   "execution_count": 10,
   "id": "0723d938",
   "metadata": {},
   "outputs": [],
   "source": [
    "driver.get('https://www.theguardian.com/news/datablog/2012/aug/09/best-selling-books-all-time-fifty-shades-grey-compare')"
   ]
  },
  {
   "cell_type": "code",
   "execution_count": 13,
   "id": "39dc4df3",
   "metadata": {},
   "outputs": [],
   "source": [
    "b_name = []\n",
    "a_name = []\n",
    "sold = []\n",
    "publisher = []\n",
    "genre = []"
   ]
  },
  {
   "cell_type": "code",
   "execution_count": 14,
   "id": "de5b3a6b",
   "metadata": {},
   "outputs": [
    {
     "name": "stdout",
     "output_type": "stream",
     "text": [
      "100 ['Da Vinci Code,The', 'Harry Potter and the Deathly Hallows', \"Harry Potter and the Philosopher's Stone\", 'Harry Potter and the Order of the Phoenix', 'Fifty Shades of Grey', 'Harry Potter and the Goblet of Fire', 'Harry Potter and the Chamber of Secrets', 'Harry Potter and the Prisoner of Azkaban', 'Angels and Demons', \"Harry Potter and the Half-blood Prince:Children's Edition\", 'Fifty Shades Darker', 'Twilight', 'Girl with the Dragon Tattoo,The:Millennium Trilogy', 'Fifty Shades Freed', 'Lost Symbol,The', 'New Moon', 'Deception Point', 'Eclipse', 'Lovely Bones,The', 'Curious Incident of the Dog in the Night-time,The', 'Digital Fortress', 'Short History of Nearly Everything,A', 'Girl Who Played with Fire,The:Millennium Trilogy', 'Breaking Dawn', 'Very Hungry Caterpillar,The:The Very Hungry Caterpillar', 'Gruffalo,The', \"Jamie's 30-Minute Meals\", 'Kite Runner,The', 'One Day', 'Thousand Splendid Suns,A', \"Girl Who Kicked the Hornets' Nest,The:Millennium Trilogy\", \"Time Traveler's Wife,The\", 'Atonement', \"Bridget Jones's Diary:A Novel\", 'World According to Clarkson,The', \"Captain Corelli's Mandolin\", 'Sound of Laughter,The', 'Life of Pi', 'Billy Connolly', 'Child Called It,A', \"Gruffalo's Child,The\", \"Angela's Ashes:A Memoir of a Childhood\", 'Birdsong', 'Northern Lights:His Dark Materials S.', 'Labyrinth', 'Harry Potter and the Half-blood Prince', 'Help,The', 'Man and Boy', 'Memoirs of a Geisha', \"No.1 Ladies' Detective Agency,The:No.1 Ladies' Detective Agency S.\", 'Island,The', 'PS, I Love You', 'You are What You Eat:The Plan That Will Change Your Life', 'Shadow of the Wind,The', 'Tales of Beedle the Bard,The', 'Broker,The', \"Dr. Atkins' New Diet Revolution:The No-hunger, Luxurious Weight Loss P\", 'Subtle Knife,The:His Dark Materials S.', 'Eats, Shoots and Leaves:The Zero Tolerance Approach to Punctuation', \"Delia's How to Cook:(Bk.1)\", 'Chocolat', 'Boy in the Striped Pyjamas,The', \"My Sister's Keeper\", 'Amber Spyglass,The:His Dark Materials S.', 'To Kill a Mockingbird', 'Men are from Mars, Women are from Venus:A Practical Guide for Improvin', 'Dear Fatty', 'Short History of Tractors in Ukrainian,A', 'Hannibal', 'Lord of the Rings,The', 'Stupid White Men:...and Other Sorry Excuses for the State of the Natio', 'Interpretation of Murder,The', 'Sharon Osbourne Extreme:My Autobiography', 'Alchemist,The:A Fable About Following Your Dream', \"At My Mother's Knee ...:and Other Low Joints\", 'Notes from a Small Island', 'Return of the Naked Chef,The', 'Bridget Jones: The Edge of Reason', \"Jamie's Italy\", 'I Can Make You Thin', 'Down Under', 'Summons,The', 'Small Island', 'Nigella Express', 'Brick Lane', \"Memory Keeper's Daughter,The\", 'Room on the Broom', 'About a Boy', 'My Booky Wook', 'God Delusion,The', '\"Beano\" Annual,The', 'White Teeth', 'House at Riverton,The', 'Book Thief,The', 'Nights of Rain and Stars', 'Ghost,The', 'Happy Days with the Naked Chef', 'Hunger Games,The:Hunger Games Trilogy', \"Lost Boy,The:A Foster Child's Search for the Love of a Family\", \"Jamie's Ministry of Food:Anyone Can Learn to Cook in 24 Hours\"]\n"
     ]
    }
   ],
   "source": [
    "b_name_ = driver.find_elements(By.XPATH,'//*[@id=\"article-body-blocks\"]/div/table/tbody/tr/td[2]')\n",
    "for i in b_name_:\n",
    "    if i.text is None :\n",
    "        b_name.append(\"--\") \n",
    "    else:\n",
    "        b_name.append(i.text)\n",
    "print(len(b_name),b_name)"
   ]
  },
  {
   "cell_type": "code",
   "execution_count": 15,
   "id": "8dc84843",
   "metadata": {},
   "outputs": [
    {
     "name": "stdout",
     "output_type": "stream",
     "text": [
      "100 ['Brown, Dan', 'Rowling, J.K.', 'Rowling, J.K.', 'Rowling, J.K.', 'James, E. L.', 'Rowling, J.K.', 'Rowling, J.K.', 'Rowling, J.K.', 'Brown, Dan', 'Rowling, J.K.', 'James, E. L.', 'Meyer, Stephenie', 'Larsson, Stieg', 'James, E. L.', 'Brown, Dan', 'Meyer, Stephenie', 'Brown, Dan', 'Meyer, Stephenie', 'Sebold, Alice', 'Haddon, Mark', 'Brown, Dan', 'Bryson, Bill', 'Larsson, Stieg', 'Meyer, Stephenie', 'Carle, Eric', 'Donaldson, Julia', 'Oliver, Jamie', 'Hosseini, Khaled', 'Nicholls, David', 'Hosseini, Khaled', 'Larsson, Stieg', 'Niffenegger, Audrey', 'McEwan, Ian', 'Fielding, Helen', 'Clarkson, Jeremy', 'Bernieres, Louis de', 'Kay, Peter', 'Martel, Yann', 'Stephenson, Pamela', 'Pelzer, Dave', 'Donaldson, Julia', 'McCourt, Frank', 'Faulks, Sebastian', 'Pullman, Philip', 'Mosse, Kate', 'Rowling, J.K.', 'Stockett, Kathryn', 'Parsons, Tony', 'Golden, Arthur', 'McCall Smith, Alexander', 'Hislop, Victoria', 'Ahern, Cecelia', 'McKeith, Gillian', 'Zafon, Carlos Ruiz', 'Rowling, J.K.', 'Grisham, John', 'Atkins, Robert C.', 'Pullman, Philip', 'Truss, Lynne', 'Smith, Delia', 'Harris, Joanne', 'Boyne, John', 'Picoult, Jodi', 'Pullman, Philip', 'Lee, Harper', 'Gray, John', 'French, Dawn', 'Lewycka, Marina', 'Harris, Thomas', 'Tolkien, J. R. R.', 'Moore, Michael', 'Rubenfeld, Jed', 'Osbourne, Sharon', 'Coelho, Paulo', \"O'Grady, Paul\", 'Bryson, Bill', 'Oliver, Jamie', 'Fielding, Helen', 'Oliver, Jamie', 'McKenna, Paul', 'Bryson, Bill', 'Grisham, John', 'Levy, Andrea', 'Lawson, Nigella', 'Ali, Monica', 'Edwards, Kim', 'Donaldson, Julia', 'Hornby, Nick', 'Brand, Russell', 'Dawkins, Richard', '0', 'Smith, Zadie', 'Morton, Kate', 'Zusak, Markus', 'Binchy, Maeve', 'Harris, Robert', 'Oliver, Jamie', 'Collins, Suzanne', 'Pelzer, Dave', 'Oliver, Jamie']\n"
     ]
    }
   ],
   "source": [
    "a_name_ = driver.find_elements(By.XPATH,'//*[@id=\"article-body-blocks\"]/div/table/tbody/tr/td[3]')\n",
    "for i in a_name_:\n",
    "    if i.text is None :\n",
    "        a_name.append(\"--\") \n",
    "    else:\n",
    "        a_name.append(i.text)\n",
    "print(len(a_name),a_name)"
   ]
  },
  {
   "cell_type": "code",
   "execution_count": 16,
   "id": "ddb8017d",
   "metadata": {},
   "outputs": [
    {
     "name": "stdout",
     "output_type": "stream",
     "text": [
      "100 ['5,094,805', '4,475,152', '4,200,654', '4,179,479', '3,758,936', '3,583,215', '3,484,047', '3,377,906', '3,193,946', '2,950,264', '2,479,784', '2,315,405', '2,233,570', '2,193,928', '2,183,031', '2,152,737', '2,062,145', '2,052,876', '2,005,598', '1,979,552', '1,928,900', '1,852,919', '1,814,784', '1,787,118', '1,783,535', '1,781,269', '1,743,266', '1,629,119', '1,616,068', '1,583,992', '1,555,135', '1,546,886', '1,539,428', '1,508,205', '1,489,403', '1,352,318', '1,310,207', '1,310,176', '1,231,957', '1,217,712', '1,208,711', '1,204,058', '1,184,967', '1,181,503', '1,181,093', '1,153,181', '1,132,336', '1,130,802', '1,126,337', '1,115,549', '1,108,328', '1,107,379', '1,104,403', '1,092,349', '1,090,847', '1,087,262', '1,054,196', '1,037,160', '1,023,688', '1,015,956', '1,009,873', '1,004,414', '1,003,780', '1,002,314', '998,213', '992,846', '986,753', '986,115', '970,509', '967,466', '963,353', '962,515', '959,496', '956,114', '945,640', '931,312', '925,425', '924,695', '906,968', '905,086', '890,847', '869,671', '869,659', '862,602', '856,540', '845,858', '842,535', '828,215', '820,563', '816,907', '816,585', '815,586', '814,370', '809,641', '808,900', '807,311', '794,201', '792,187', '791,507', '791,095']\n"
     ]
    }
   ],
   "source": [
    "sold_ = driver.find_elements(By.XPATH,'//*[@id=\"article-body-blocks\"]/div/table/tbody/tr/td[4]')\n",
    "for i in sold_:\n",
    "    if i.text is None :\n",
    "        sold.append(\"--\") \n",
    "    else:\n",
    "        sold.append(i.text)\n",
    "print(len(sold),sold)"
   ]
  },
  {
   "cell_type": "code",
   "execution_count": 17,
   "id": "d7b255f0",
   "metadata": {},
   "outputs": [
    {
     "name": "stdout",
     "output_type": "stream",
     "text": [
      "100 ['Transworld', 'Bloomsbury', 'Bloomsbury', 'Bloomsbury', 'Random House', 'Bloomsbury', 'Bloomsbury', 'Bloomsbury', 'Transworld', 'Bloomsbury', 'Random House', 'Little, Brown Book', 'Quercus', 'Random House', 'Transworld', 'Little, Brown Book', 'Transworld', 'Little, Brown Book', 'Pan Macmillan', 'Random House', 'Transworld', 'Transworld', 'Quercus', 'Little, Brown Book', 'Penguin', 'Pan Macmillan', 'Penguin', 'Bloomsbury', 'Hodder & Stoughton', 'Bloomsbury', 'Quercus', 'Random House', 'Random House', 'Pan Macmillan', 'Penguin', 'Random House', 'Random House', 'Canongate', 'HarperCollins', 'Orion', 'Pan Macmillan', 'HarperCollins', 'Random House', 'Scholastic Ltd.', 'Orion', 'Bloomsbury', 'Penguin', 'HarperCollins', 'Random House', 'Little, Brown Book', 'Headline', 'HarperCollins', 'Penguin', 'Orion', 'Bloomsbury', 'Random House', 'Random House', 'Scholastic Ltd.', 'Profile Books Group', 'Random House', 'Transworld', 'Random House Childrens Books G', 'Hodder & Stoughton', 'Scholastic Ltd.', 'Random House', 'HarperCollins', 'Random House', 'Penguin', 'Random House', 'HarperCollins', 'Penguin', 'Headline', 'Little, Brown Book', 'HarperCollins', 'Transworld', 'Transworld', 'Penguin', 'Pan Macmillan', 'Penguin', 'Transworld', 'Transworld', 'Random House', 'Headline', 'Random House', 'Transworld', 'Penguin', 'Pan Macmillan', 'Penguin', 'Hodder & Stoughton', 'Transworld', 'D.C. Thomson', 'Penguin', 'Pan Macmillan', 'Transworld', 'Orion', 'Random House', 'Penguin', 'Scholastic Ltd.', 'Orion', 'Penguin']\n"
     ]
    }
   ],
   "source": [
    "publisher_ = driver.find_elements(By.XPATH,'//*[@id=\"article-body-blocks\"]/div/table/tbody/tr/td[5]')\n",
    "for i in publisher_:\n",
    "    if i.text is None :\n",
    "        publisher.append(\"--\") \n",
    "    else:\n",
    "        publisher.append(i.text)\n",
    "print(len(publisher),publisher)"
   ]
  },
  {
   "cell_type": "code",
   "execution_count": 19,
   "id": "f8608e9b",
   "metadata": {},
   "outputs": [
    {
     "name": "stdout",
     "output_type": "stream",
     "text": [
      "100 ['Crime, Thriller & Adventure', \"Children's Fiction\", \"Children's Fiction\", \"Children's Fiction\", 'Romance & Sagas', \"Children's Fiction\", \"Children's Fiction\", \"Children's Fiction\", 'Crime, Thriller & Adventure', \"Children's Fiction\", 'Romance & Sagas', 'Young Adult Fiction', 'Crime, Thriller & Adventure', 'Romance & Sagas', 'Crime, Thriller & Adventure', 'Young Adult Fiction', 'Crime, Thriller & Adventure', 'Young Adult Fiction', 'General & Literary Fiction', 'General & Literary Fiction', 'Crime, Thriller & Adventure', 'Popular Science', 'Crime, Thriller & Adventure', 'Young Adult Fiction', 'Picture Books', 'Picture Books', 'Food & Drink: General', 'General & Literary Fiction', 'General & Literary Fiction', 'General & Literary Fiction', 'Crime, Thriller & Adventure', 'General & Literary Fiction', 'General & Literary Fiction', 'General & Literary Fiction', 'Humour: Collections & General', 'General & Literary Fiction', 'Autobiography: General', 'General & Literary Fiction', 'Biography: The Arts', 'Autobiography: General', 'Picture Books', 'Autobiography: General', 'General & Literary Fiction', 'Young Adult Fiction', 'General & Literary Fiction', 'Science Fiction & Fantasy', 'General & Literary Fiction', 'General & Literary Fiction', 'General & Literary Fiction', 'Crime, Thriller & Adventure', 'General & Literary Fiction', 'General & Literary Fiction', 'Fitness & Diet', 'General & Literary Fiction', \"Children's Fiction\", 'Crime, Thriller & Adventure', 'Fitness & Diet', 'Young Adult Fiction', 'Usage & Writing Guides', 'Food & Drink: General', 'General & Literary Fiction', 'Young Adult Fiction', 'General & Literary Fiction', 'Young Adult Fiction', 'General & Literary Fiction', 'Popular Culture & Media: General Interest', 'Autobiography: The Arts', 'General & Literary Fiction', 'Crime, Thriller & Adventure', 'Science Fiction & Fantasy', 'Current Affairs & Issues', 'Crime, Thriller & Adventure', 'Autobiography: The Arts', 'General & Literary Fiction', 'Autobiography: The Arts', 'Travel Writing', 'Food & Drink: General', 'General & Literary Fiction', 'National & Regional Cuisine', 'Fitness & Diet', 'Travel Writing', 'Crime, Thriller & Adventure', 'General & Literary Fiction', 'Food & Drink: General', 'General & Literary Fiction', 'General & Literary Fiction', 'Picture Books', 'General & Literary Fiction', 'Autobiography: The Arts', 'Popular Science', \"Children's Annuals\", 'General & Literary Fiction', 'General & Literary Fiction', 'General & Literary Fiction', 'General & Literary Fiction', 'General & Literary Fiction', 'Food & Drink: General', 'Young Adult Fiction', 'Biography: General', 'Food & Drink: General']\n"
     ]
    }
   ],
   "source": [
    "genre_ = driver.find_elements(By.XPATH,'//*[@id=\"article-body-blocks\"]/div/table/tbody/tr/td[6]')\n",
    "for i in genre_:\n",
    "    if i.text is None :\n",
    "        genre.append(\"--\") \n",
    "    else:\n",
    "        genre.append(i.text)\n",
    "print(len(genre),genre)"
   ]
  },
  {
   "cell_type": "code",
   "execution_count": 20,
   "id": "f31b645c",
   "metadata": {},
   "outputs": [
    {
     "data": {
      "text/html": [
       "<div>\n",
       "<style scoped>\n",
       "    .dataframe tbody tr th:only-of-type {\n",
       "        vertical-align: middle;\n",
       "    }\n",
       "\n",
       "    .dataframe tbody tr th {\n",
       "        vertical-align: top;\n",
       "    }\n",
       "\n",
       "    .dataframe thead th {\n",
       "        text-align: right;\n",
       "    }\n",
       "</style>\n",
       "<table border=\"1\" class=\"dataframe\">\n",
       "  <thead>\n",
       "    <tr style=\"text-align: right;\">\n",
       "      <th></th>\n",
       "      <th>Book name</th>\n",
       "      <th>Author name</th>\n",
       "      <th>Volumes sold</th>\n",
       "      <th>Publisher</th>\n",
       "      <th>Genre</th>\n",
       "    </tr>\n",
       "  </thead>\n",
       "  <tbody>\n",
       "    <tr>\n",
       "      <th>0</th>\n",
       "      <td>Da Vinci Code,The</td>\n",
       "      <td>Brown, Dan</td>\n",
       "      <td>5,094,805</td>\n",
       "      <td>Transworld</td>\n",
       "      <td>Crime, Thriller &amp; Adventure</td>\n",
       "    </tr>\n",
       "    <tr>\n",
       "      <th>1</th>\n",
       "      <td>Harry Potter and the Deathly Hallows</td>\n",
       "      <td>Rowling, J.K.</td>\n",
       "      <td>4,475,152</td>\n",
       "      <td>Bloomsbury</td>\n",
       "      <td>Children's Fiction</td>\n",
       "    </tr>\n",
       "    <tr>\n",
       "      <th>2</th>\n",
       "      <td>Harry Potter and the Philosopher's Stone</td>\n",
       "      <td>Rowling, J.K.</td>\n",
       "      <td>4,200,654</td>\n",
       "      <td>Bloomsbury</td>\n",
       "      <td>Children's Fiction</td>\n",
       "    </tr>\n",
       "    <tr>\n",
       "      <th>3</th>\n",
       "      <td>Harry Potter and the Order of the Phoenix</td>\n",
       "      <td>Rowling, J.K.</td>\n",
       "      <td>4,179,479</td>\n",
       "      <td>Bloomsbury</td>\n",
       "      <td>Children's Fiction</td>\n",
       "    </tr>\n",
       "    <tr>\n",
       "      <th>4</th>\n",
       "      <td>Fifty Shades of Grey</td>\n",
       "      <td>James, E. L.</td>\n",
       "      <td>3,758,936</td>\n",
       "      <td>Random House</td>\n",
       "      <td>Romance &amp; Sagas</td>\n",
       "    </tr>\n",
       "    <tr>\n",
       "      <th>...</th>\n",
       "      <td>...</td>\n",
       "      <td>...</td>\n",
       "      <td>...</td>\n",
       "      <td>...</td>\n",
       "      <td>...</td>\n",
       "    </tr>\n",
       "    <tr>\n",
       "      <th>95</th>\n",
       "      <td>Ghost,The</td>\n",
       "      <td>Harris, Robert</td>\n",
       "      <td>807,311</td>\n",
       "      <td>Random House</td>\n",
       "      <td>General &amp; Literary Fiction</td>\n",
       "    </tr>\n",
       "    <tr>\n",
       "      <th>96</th>\n",
       "      <td>Happy Days with the Naked Chef</td>\n",
       "      <td>Oliver, Jamie</td>\n",
       "      <td>794,201</td>\n",
       "      <td>Penguin</td>\n",
       "      <td>Food &amp; Drink: General</td>\n",
       "    </tr>\n",
       "    <tr>\n",
       "      <th>97</th>\n",
       "      <td>Hunger Games,The:Hunger Games Trilogy</td>\n",
       "      <td>Collins, Suzanne</td>\n",
       "      <td>792,187</td>\n",
       "      <td>Scholastic Ltd.</td>\n",
       "      <td>Young Adult Fiction</td>\n",
       "    </tr>\n",
       "    <tr>\n",
       "      <th>98</th>\n",
       "      <td>Lost Boy,The:A Foster Child's Search for the L...</td>\n",
       "      <td>Pelzer, Dave</td>\n",
       "      <td>791,507</td>\n",
       "      <td>Orion</td>\n",
       "      <td>Biography: General</td>\n",
       "    </tr>\n",
       "    <tr>\n",
       "      <th>99</th>\n",
       "      <td>Jamie's Ministry of Food:Anyone Can Learn to C...</td>\n",
       "      <td>Oliver, Jamie</td>\n",
       "      <td>791,095</td>\n",
       "      <td>Penguin</td>\n",
       "      <td>Food &amp; Drink: General</td>\n",
       "    </tr>\n",
       "  </tbody>\n",
       "</table>\n",
       "<p>100 rows × 5 columns</p>\n",
       "</div>"
      ],
      "text/plain": [
       "                                            Book name       Author name  \\\n",
       "0                                   Da Vinci Code,The        Brown, Dan   \n",
       "1                Harry Potter and the Deathly Hallows     Rowling, J.K.   \n",
       "2            Harry Potter and the Philosopher's Stone     Rowling, J.K.   \n",
       "3           Harry Potter and the Order of the Phoenix     Rowling, J.K.   \n",
       "4                                Fifty Shades of Grey      James, E. L.   \n",
       "..                                                ...               ...   \n",
       "95                                          Ghost,The    Harris, Robert   \n",
       "96                     Happy Days with the Naked Chef     Oliver, Jamie   \n",
       "97              Hunger Games,The:Hunger Games Trilogy  Collins, Suzanne   \n",
       "98  Lost Boy,The:A Foster Child's Search for the L...      Pelzer, Dave   \n",
       "99  Jamie's Ministry of Food:Anyone Can Learn to C...     Oliver, Jamie   \n",
       "\n",
       "    Volumes sold        Publisher                        Genre  \n",
       "0      5,094,805       Transworld  Crime, Thriller & Adventure  \n",
       "1      4,475,152       Bloomsbury           Children's Fiction  \n",
       "2      4,200,654       Bloomsbury           Children's Fiction  \n",
       "3      4,179,479       Bloomsbury           Children's Fiction  \n",
       "4      3,758,936     Random House              Romance & Sagas  \n",
       "..           ...              ...                          ...  \n",
       "95       807,311     Random House   General & Literary Fiction  \n",
       "96       794,201          Penguin        Food & Drink: General  \n",
       "97       792,187  Scholastic Ltd.          Young Adult Fiction  \n",
       "98       791,507            Orion           Biography: General  \n",
       "99       791,095          Penguin        Food & Drink: General  \n",
       "\n",
       "[100 rows x 5 columns]"
      ]
     },
     "execution_count": 20,
     "metadata": {},
     "output_type": "execute_result"
    }
   ],
   "source": [
    "df = pd.DataFrame({'Book name':b_name, 'Author name':a_name, ' Volumes sold':sold, 'Publisher':publisher, 'Genre':genre})\n",
    "df"
   ]
  },
  {
   "cell_type": "markdown",
   "id": "9cd52632",
   "metadata": {},
   "source": [
    "# 8. Details of Datasets from UCI machine learning repositories.\n",
    "Url = https://archive.ics.uci.edu/ You\n",
    "have to find the following details:\n",
    "A) Dataset name\n",
    "B) Data type\n",
    "C) Task\n",
    "D) Attribute type\n",
    "E) No of instances\n",
    "F) No of attribute\n",
    "G) Year "
   ]
  },
  {
   "cell_type": "code",
   "execution_count": 30,
   "id": "b0b4b3d7",
   "metadata": {},
   "outputs": [],
   "source": [
    "driver = webdriver.Chrome()"
   ]
  },
  {
   "cell_type": "code",
   "execution_count": 31,
   "id": "70401261",
   "metadata": {},
   "outputs": [],
   "source": [
    "driver.get('https://archive.ics.uci.edu/')"
   ]
  },
  {
   "cell_type": "code",
   "execution_count": 32,
   "id": "026d8b69",
   "metadata": {},
   "outputs": [],
   "source": [
    "dataset = driver.find_element(By.XPATH,'//a[@class=\"btn-primary btn\"]')       \n",
    "dataset.click()"
   ]
  },
  {
   "cell_type": "code",
   "execution_count": 33,
   "id": "e4f4bc25",
   "metadata": {},
   "outputs": [],
   "source": [
    "expand = driver.find_element(By.XPATH,'//span[@class=\"swap-on text-primary-content\"]')       \n",
    "expand.click()"
   ]
  },
  {
   "cell_type": "code",
   "execution_count": 46,
   "id": "2e1678ed",
   "metadata": {},
   "outputs": [],
   "source": [
    "d_name = []\n",
    "d_type = []\n",
    "task = []\n",
    "a_type = []\n",
    "no_instance = []\n",
    "no_attribute = []\n",
    "year = []"
   ]
  },
  {
   "cell_type": "code",
   "execution_count": 47,
   "id": "e79aa884",
   "metadata": {},
   "outputs": [
    {
     "name": "stdout",
     "output_type": "stream",
     "text": [
      "10 ['Iris', 'Dry Bean', 'Heart Disease', 'Rice (Cammeo and Osmancik)', 'Raisin', 'Adult', 'Breast Cancer Wisconsin (Diagnostic)', 'Wine', 'Wine Quality', 'Bank Marketing']\n"
     ]
    }
   ],
   "source": [
    "d_name_ = driver.find_elements(By.XPATH,'//h2[@class=\"truncate text-primary\"]')\n",
    "for i in d_name_:\n",
    "    if i.text is None :\n",
    "        d_name.append(\"--\") \n",
    "    else:\n",
    "        d_name.append(i.text)\n",
    "print(len(d_name),d_name)"
   ]
  },
  {
   "cell_type": "code",
   "execution_count": 48,
   "id": "b0675227",
   "metadata": {},
   "outputs": [
    {
     "name": "stdout",
     "output_type": "stream",
     "text": [
      "10 ['Tabular', 'Multivariate', 'Multivariate', 'Multivariate', 'Multivariate', 'Multivariate', 'Multivariate', 'Tabular', 'Multivariate', 'Multivariate']\n"
     ]
    }
   ],
   "source": [
    "d_type_ = driver.find_elements(By.XPATH,'//div[@class=\"col-span-3 flex items-center gap-2\"][2]')\n",
    "for i in d_type_:\n",
    "    if i.text is None :\n",
    "        d_type.append(\"--\") \n",
    "    else:\n",
    "        d_type.append(i.text)\n",
    "print(len(d_type),d_type)"
   ]
  },
  {
   "cell_type": "code",
   "execution_count": 49,
   "id": "c1875e3b",
   "metadata": {},
   "outputs": [
    {
     "name": "stdout",
     "output_type": "stream",
     "text": [
      "10 ['Classification', 'Classification', 'Classification', 'Classification', 'Classification', 'Classification', 'Classification', 'Classification', 'Classification, Regression', 'Classification']\n"
     ]
    }
   ],
   "source": [
    "task_ = driver.find_elements(By.XPATH,'//div[@class=\"col-span-3 flex items-center gap-2\"][1]')\n",
    "for i in task_:\n",
    "    if i.text is None :\n",
    "        task.append(\"--\") \n",
    "    else:\n",
    "        task.append(i.text)\n",
    "print(len(task),task)"
   ]
  },
  {
   "cell_type": "code",
   "execution_count": 50,
   "id": "b698733e",
   "metadata": {},
   "outputs": [
    {
     "name": "stdout",
     "output_type": "stream",
     "text": [
      "10 ['Real', 'Integer, Real', 'Categorical, Integer, Real', 'Real', 'Real, Integer', 'Categorical, Integer', 'Real', 'Integer, Real', 'Real', 'Categorical, Integer']\n"
     ]
    }
   ],
   "source": [
    "a_type_ = driver.find_elements(By.XPATH,'//tbody[@class=\"border\"]/tr/td[2]')\n",
    "for i in a_type_:\n",
    "    if i.text is None :\n",
    "        a_type.append(\"--\") \n",
    "    else:\n",
    "        a_type.append(i.text)\n",
    "print(len(a_type),a_type)"
   ]
  },
  {
   "cell_type": "code",
   "execution_count": 51,
   "id": "b37afc79",
   "metadata": {},
   "outputs": [
    {
     "name": "stdout",
     "output_type": "stream",
     "text": [
      "10 ['150 Instances', '13.61K Instances', '303 Instances', '3.81K Instances', '900 Instances', '48.84K Instances', '569 Instances', '178 Instances', '4.9K Instances', '45.21K Instances']\n"
     ]
    }
   ],
   "source": [
    "no_instance_ = driver.find_elements(By.XPATH,'//div[@class=\"col-span-3 flex items-center gap-2\"][3]')\n",
    "for i in no_instance_:\n",
    "    if i.text is None :\n",
    "        no_instance.append(\"--\") \n",
    "    else:\n",
    "        no_instance.append(i.text)\n",
    "print(len(no_instance),no_instance)"
   ]
  },
  {
   "cell_type": "code",
   "execution_count": 52,
   "id": "bbcc4613",
   "metadata": {},
   "outputs": [
    {
     "name": "stdout",
     "output_type": "stream",
     "text": [
      "10 ['4 Features', '16 Features', '13 Features', '7 Features', '8 Features', '14 Features', '30 Features', '13 Features', '12 Features', '17 Features']\n"
     ]
    }
   ],
   "source": [
    "no_attribute_ = driver.find_elements(By.XPATH,'//div[@class=\"col-span-3 flex items-center gap-2\"][4]')\n",
    "for i in no_attribute_:\n",
    "    if i.text is None :\n",
    "        no_attribute.append(\"--\") \n",
    "    else:\n",
    "        no_attribute.append(i.text)\n",
    "print(len(no_attribute),no_attribute)"
   ]
  },
  {
   "cell_type": "code",
   "execution_count": 53,
   "id": "c53adcb1",
   "metadata": {},
   "outputs": [
    {
     "name": "stdout",
     "output_type": "stream",
     "text": [
      "10 ['7/1/1988', '9/14/2020', '7/1/1988', '10/6/2019', '8/14/2023', '5/1/1996', '11/1/1995', '7/1/1991', '10/7/2009', '2/14/2012']\n"
     ]
    }
   ],
   "source": [
    "year_ = driver.find_elements(By.XPATH,'//tbody[@class=\"border\"]/tr/td[3]')\n",
    "for i in year_:\n",
    "    if i.text is None :\n",
    "        year.append(\"--\") \n",
    "    else:\n",
    "        year.append(i.text)\n",
    "print(len(year),year)"
   ]
  },
  {
   "cell_type": "code",
   "execution_count": 54,
   "id": "fa553695",
   "metadata": {},
   "outputs": [
    {
     "data": {
      "text/html": [
       "<div>\n",
       "<style scoped>\n",
       "    .dataframe tbody tr th:only-of-type {\n",
       "        vertical-align: middle;\n",
       "    }\n",
       "\n",
       "    .dataframe tbody tr th {\n",
       "        vertical-align: top;\n",
       "    }\n",
       "\n",
       "    .dataframe thead th {\n",
       "        text-align: right;\n",
       "    }\n",
       "</style>\n",
       "<table border=\"1\" class=\"dataframe\">\n",
       "  <thead>\n",
       "    <tr style=\"text-align: right;\">\n",
       "      <th></th>\n",
       "      <th>Dataset name</th>\n",
       "      <th>Data type</th>\n",
       "      <th>Task</th>\n",
       "      <th>Attribute type</th>\n",
       "      <th>No of instances</th>\n",
       "      <th>No of Attribute</th>\n",
       "      <th>Year</th>\n",
       "    </tr>\n",
       "  </thead>\n",
       "  <tbody>\n",
       "    <tr>\n",
       "      <th>0</th>\n",
       "      <td>Iris</td>\n",
       "      <td>Tabular</td>\n",
       "      <td>Classification</td>\n",
       "      <td>Real</td>\n",
       "      <td>150 Instances</td>\n",
       "      <td>4 Features</td>\n",
       "      <td>7/1/1988</td>\n",
       "    </tr>\n",
       "    <tr>\n",
       "      <th>1</th>\n",
       "      <td>Dry Bean</td>\n",
       "      <td>Multivariate</td>\n",
       "      <td>Classification</td>\n",
       "      <td>Integer, Real</td>\n",
       "      <td>13.61K Instances</td>\n",
       "      <td>16 Features</td>\n",
       "      <td>9/14/2020</td>\n",
       "    </tr>\n",
       "    <tr>\n",
       "      <th>2</th>\n",
       "      <td>Heart Disease</td>\n",
       "      <td>Multivariate</td>\n",
       "      <td>Classification</td>\n",
       "      <td>Categorical, Integer, Real</td>\n",
       "      <td>303 Instances</td>\n",
       "      <td>13 Features</td>\n",
       "      <td>7/1/1988</td>\n",
       "    </tr>\n",
       "    <tr>\n",
       "      <th>3</th>\n",
       "      <td>Rice (Cammeo and Osmancik)</td>\n",
       "      <td>Multivariate</td>\n",
       "      <td>Classification</td>\n",
       "      <td>Real</td>\n",
       "      <td>3.81K Instances</td>\n",
       "      <td>7 Features</td>\n",
       "      <td>10/6/2019</td>\n",
       "    </tr>\n",
       "    <tr>\n",
       "      <th>4</th>\n",
       "      <td>Raisin</td>\n",
       "      <td>Multivariate</td>\n",
       "      <td>Classification</td>\n",
       "      <td>Real, Integer</td>\n",
       "      <td>900 Instances</td>\n",
       "      <td>8 Features</td>\n",
       "      <td>8/14/2023</td>\n",
       "    </tr>\n",
       "    <tr>\n",
       "      <th>5</th>\n",
       "      <td>Adult</td>\n",
       "      <td>Multivariate</td>\n",
       "      <td>Classification</td>\n",
       "      <td>Categorical, Integer</td>\n",
       "      <td>48.84K Instances</td>\n",
       "      <td>14 Features</td>\n",
       "      <td>5/1/1996</td>\n",
       "    </tr>\n",
       "    <tr>\n",
       "      <th>6</th>\n",
       "      <td>Breast Cancer Wisconsin (Diagnostic)</td>\n",
       "      <td>Multivariate</td>\n",
       "      <td>Classification</td>\n",
       "      <td>Real</td>\n",
       "      <td>569 Instances</td>\n",
       "      <td>30 Features</td>\n",
       "      <td>11/1/1995</td>\n",
       "    </tr>\n",
       "    <tr>\n",
       "      <th>7</th>\n",
       "      <td>Wine</td>\n",
       "      <td>Tabular</td>\n",
       "      <td>Classification</td>\n",
       "      <td>Integer, Real</td>\n",
       "      <td>178 Instances</td>\n",
       "      <td>13 Features</td>\n",
       "      <td>7/1/1991</td>\n",
       "    </tr>\n",
       "    <tr>\n",
       "      <th>8</th>\n",
       "      <td>Wine Quality</td>\n",
       "      <td>Multivariate</td>\n",
       "      <td>Classification, Regression</td>\n",
       "      <td>Real</td>\n",
       "      <td>4.9K Instances</td>\n",
       "      <td>12 Features</td>\n",
       "      <td>10/7/2009</td>\n",
       "    </tr>\n",
       "    <tr>\n",
       "      <th>9</th>\n",
       "      <td>Bank Marketing</td>\n",
       "      <td>Multivariate</td>\n",
       "      <td>Classification</td>\n",
       "      <td>Categorical, Integer</td>\n",
       "      <td>45.21K Instances</td>\n",
       "      <td>17 Features</td>\n",
       "      <td>2/14/2012</td>\n",
       "    </tr>\n",
       "  </tbody>\n",
       "</table>\n",
       "</div>"
      ],
      "text/plain": [
       "                           Dataset name     Data type  \\\n",
       "0                                  Iris       Tabular   \n",
       "1                              Dry Bean  Multivariate   \n",
       "2                         Heart Disease  Multivariate   \n",
       "3            Rice (Cammeo and Osmancik)  Multivariate   \n",
       "4                                Raisin  Multivariate   \n",
       "5                                 Adult  Multivariate   \n",
       "6  Breast Cancer Wisconsin (Diagnostic)  Multivariate   \n",
       "7                                  Wine       Tabular   \n",
       "8                          Wine Quality  Multivariate   \n",
       "9                        Bank Marketing  Multivariate   \n",
       "\n",
       "                         Task              Attribute type   No of instances  \\\n",
       "0              Classification                        Real     150 Instances   \n",
       "1              Classification               Integer, Real  13.61K Instances   \n",
       "2              Classification  Categorical, Integer, Real     303 Instances   \n",
       "3              Classification                        Real   3.81K Instances   \n",
       "4              Classification               Real, Integer     900 Instances   \n",
       "5              Classification        Categorical, Integer  48.84K Instances   \n",
       "6              Classification                        Real     569 Instances   \n",
       "7              Classification               Integer, Real     178 Instances   \n",
       "8  Classification, Regression                        Real    4.9K Instances   \n",
       "9              Classification        Categorical, Integer  45.21K Instances   \n",
       "\n",
       "  No of Attribute       Year  \n",
       "0      4 Features   7/1/1988  \n",
       "1     16 Features  9/14/2020  \n",
       "2     13 Features   7/1/1988  \n",
       "3      7 Features  10/6/2019  \n",
       "4      8 Features  8/14/2023  \n",
       "5     14 Features   5/1/1996  \n",
       "6     30 Features  11/1/1995  \n",
       "7     13 Features   7/1/1991  \n",
       "8     12 Features  10/7/2009  \n",
       "9     17 Features  2/14/2012  "
      ]
     },
     "execution_count": 54,
     "metadata": {},
     "output_type": "execute_result"
    }
   ],
   "source": [
    "df = pd.DataFrame({'Dataset name':d_name, 'Data type':d_type, 'Task':task, 'Attribute type':a_type, 'No of instances':no_instance, 'No of Attribute':no_attribute, 'Year':year})\n",
    "df"
   ]
  },
  {
   "cell_type": "code",
   "execution_count": null,
   "id": "d31d5fe3",
   "metadata": {},
   "outputs": [],
   "source": []
  }
 ],
 "metadata": {
  "kernelspec": {
   "display_name": "Python 3 (ipykernel)",
   "language": "python",
   "name": "python3"
  },
  "language_info": {
   "codemirror_mode": {
    "name": "ipython",
    "version": 3
   },
   "file_extension": ".py",
   "mimetype": "text/x-python",
   "name": "python",
   "nbconvert_exporter": "python",
   "pygments_lexer": "ipython3",
   "version": "3.11.5"
  }
 },
 "nbformat": 4,
 "nbformat_minor": 5
}
