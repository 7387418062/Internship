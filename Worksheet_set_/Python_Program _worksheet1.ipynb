{
 "cells": [
  {
   "cell_type": "markdown",
   "id": "cf906097",
   "metadata": {},
   "source": [
    "11.\tWrite a python program to find the factorial of a number."
   ]
  },
  {
   "cell_type": "code",
   "execution_count": 2,
   "id": "630dda6e",
   "metadata": {},
   "outputs": [
    {
     "name": "stdout",
     "output_type": "stream",
     "text": [
      "Enter a number: 8\n",
      "Factorial of 8 is 40320\n"
     ]
    }
   ],
   "source": [
    "def factorial(n):\n",
    "    result = 1\n",
    "    for i in range(1, n + 1):\n",
    "        result *= i\n",
    "    return result\n",
    "\n",
    "n = int(input(\"Enter a number: \"))\n",
    "\n",
    "if n < 0:\n",
    "    print(\"Factorial is not defined for negative numbers.\")\n",
    "else:\n",
    "    print(\"Factorial of\", n, \"is\", factorial(n))"
   ]
  },
  {
   "cell_type": "markdown",
   "id": "c7948661",
   "metadata": {},
   "source": [
    "12.\tWrite a python program to find whether a number is prime or composite."
   ]
  },
  {
   "cell_type": "code",
   "execution_count": 3,
   "id": "908fa885",
   "metadata": {},
   "outputs": [
    {
     "name": "stdout",
     "output_type": "stream",
     "text": [
      "Enter a number: 4\n",
      "4 is a composite number.\n"
     ]
    }
   ],
   "source": [
    "def is_prime(num):\n",
    "    if num <= 1:\n",
    "        return False\n",
    "    for i in range(2, int(num**0.5) + 1):\n",
    "        if num % i == 0:\n",
    "            return False\n",
    "    return True\n",
    "\n",
    "num = int(input(\"Enter a number: \"))\n",
    "\n",
    "if is_prime(num):\n",
    "    print(num, \"is a prime number.\")\n",
    "else:\n",
    "    print(num, \"is a composite number.\")"
   ]
  },
  {
   "cell_type": "markdown",
   "id": "879bdbbd",
   "metadata": {},
   "source": [
    "13.\tWrite a python program to check whether a given string is palindrome or not."
   ]
  },
  {
   "cell_type": "code",
   "execution_count": 6,
   "id": "d4aadc3b",
   "metadata": {},
   "outputs": [
    {
     "name": "stdout",
     "output_type": "stream",
     "text": [
      "Enter a string: mom\n",
      "The string is a palindrome.\n"
     ]
    }
   ],
   "source": [
    "def palindrome(string):\n",
    "    string = string.replace(\" \", \"\").lower()\n",
    "    \n",
    "    return string == string[::-1]\n",
    "\n",
    "input_string = input(\"Enter a string: \")\n",
    "if palindrome(input_string):\n",
    "    print(\"The string is a palindrome.\")\n",
    "else:\n",
    "    print(\"The string is not a palindrome.\")"
   ]
  },
  {
   "cell_type": "markdown",
   "id": "372f2ed2",
   "metadata": {},
   "source": [
    "14.\tWrite a Python program to get the third side of right-angled triangle from two given sides."
   ]
  },
  {
   "cell_type": "code",
   "execution_count": 7,
   "id": "b81a3af4",
   "metadata": {},
   "outputs": [
    {
     "name": "stdout",
     "output_type": "stream",
     "text": [
      "Enter the length of the first side: 4\n",
      "Enter the length of the second side: 4\n",
      "The length of the third side (hypotenuse) is: 5.656854249492381\n"
     ]
    }
   ],
   "source": [
    "def get_third_side(side1, side2):\n",
    "    \n",
    "    hypotenuse = (side1 ** 2 + side2 ** 2) ** 0.5\n",
    "    return hypotenuse\n",
    "\n",
    "side1 = float(input(\"Enter the length of the first side: \"))\n",
    "side2 = float(input(\"Enter the length of the second side: \"))\n",
    "\n",
    "third_side = get_third_side(side1, side2)\n",
    "print(\"The length of the third side (hypotenuse) is:\", third_side)"
   ]
  },
  {
   "cell_type": "markdown",
   "id": "61176b67",
   "metadata": {},
   "source": [
    "15.\tWrite a python program to print the frequency of each of the characters present in a given string."
   ]
  },
  {
   "cell_type": "code",
   "execution_count": 8,
   "id": "65baf4eb",
   "metadata": {},
   "outputs": [
    {
     "name": "stdout",
     "output_type": "stream",
     "text": [
      "Enter a string: hi this is dishant\n",
      "The character 'h' appears 3 time(s) in the string.\n",
      "The character 'i' appears 4 time(s) in the string.\n",
      "The character ' ' appears 3 time(s) in the string.\n",
      "The character 't' appears 2 time(s) in the string.\n",
      "The character 's' appears 3 time(s) in the string.\n",
      "The character 'd' appears 1 time(s) in the string.\n",
      "The character 'a' appears 1 time(s) in the string.\n",
      "The character 'n' appears 1 time(s) in the string.\n"
     ]
    }
   ],
   "source": [
    "def character_frequency(string):\n",
    "    freq_dict = {}\n",
    "\n",
    "    for char in string:\n",
    "        freq_dict[char] = string.count(char)\n",
    "\n",
    "    for char, freq in freq_dict.items():\n",
    "        print(f\"The character '{char}' appears {freq} time(s) in the string.\")\n",
    "\n",
    "input_string = input(\"Enter a string: \")\n",
    "character_frequency(input_string)"
   ]
  },
  {
   "cell_type": "code",
   "execution_count": null,
   "id": "aa980340",
   "metadata": {},
   "outputs": [],
   "source": []
  }
 ],
 "metadata": {
  "kernelspec": {
   "display_name": "Python 3 (ipykernel)",
   "language": "python",
   "name": "python3"
  },
  "language_info": {
   "codemirror_mode": {
    "name": "ipython",
    "version": 3
   },
   "file_extension": ".py",
   "mimetype": "text/x-python",
   "name": "python",
   "nbconvert_exporter": "python",
   "pygments_lexer": "ipython3",
   "version": "3.11.5"
  }
 },
 "nbformat": 4,
 "nbformat_minor": 5
}
