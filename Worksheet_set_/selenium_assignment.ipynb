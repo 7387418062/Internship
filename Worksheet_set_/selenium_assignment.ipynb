{
 "cells": [
  {
   "cell_type": "markdown",
   "id": "d2f444fc",
   "metadata": {},
   "source": [
    "# Q1: In this question you have to scrape data using the filters available on the webpage You have to use the location and\n",
    "salary filter.\n",
    "You have to scrape data for “Data Scientist” designation for first 10 job results.\n",
    "You have to scrape the job-title, job-location, company name, experience required.\n",
    "The location filter to be used is “Delhi/NCR”. The salary filter to be used is “3-6” lakhs "
   ]
  },
  {
   "cell_type": "markdown",
   "id": "e2015471",
   "metadata": {},
   "source": [
    "1. first get the web page https://www.naukri.com/\n",
    "2. Enter “Data Scientist” in “Skill, Designations, and Companies” field.\n",
    "3. Then click the search button.\n",
    "4. Then apply the location filter and salary filter by checking the respective boxes\n",
    "5. Then scrape the data for the first 10 jobs results you get.\n",
    "6. Finally create a dataframe of the scraped data."
   ]
  },
  {
   "cell_type": "code",
   "execution_count": 1,
   "id": "7fb8b1e9",
   "metadata": {},
   "outputs": [],
   "source": [
    "import selenium\n",
    "import pandas as pd\n",
    "from selenium import webdriver\n",
    "import warnings\n",
    "warnings.filterwarnings('ignore')\n",
    "from selenium.webdriver.common.by import By\n",
    "import time"
   ]
  },
  {
   "cell_type": "code",
   "execution_count": 2,
   "id": "4a361585",
   "metadata": {},
   "outputs": [
    {
     "name": "stderr",
     "output_type": "stream",
     "text": [
      "There was an error managing chromedriver (error sending request for url (https://googlechromelabs.github.io/chrome-for-testing/known-good-versions-with-downloads.json)); using driver found in the cache\n"
     ]
    }
   ],
   "source": [
    "driver = webdriver.Chrome()"
   ]
  },
  {
   "cell_type": "code",
   "execution_count": 3,
   "id": "9ddb76fe",
   "metadata": {},
   "outputs": [],
   "source": [
    "driver.get('https://www.naukri.com/')"
   ]
  },
  {
   "cell_type": "code",
   "execution_count": 4,
   "id": "9430e206",
   "metadata": {},
   "outputs": [],
   "source": [
    "designation = driver.find_element(By.CLASS_NAME,\"suggestor-input \")\n",
    "designation.send_keys('Data Scientist')"
   ]
  },
  {
   "cell_type": "code",
   "execution_count": 5,
   "id": "2859dadd",
   "metadata": {},
   "outputs": [],
   "source": [
    "search = driver.find_element(By.XPATH,\"/html/body/div[1]/div[7]/div/div/div[6]\")\n",
    "search.click()"
   ]
  },
  {
   "cell_type": "code",
   "execution_count": 6,
   "id": "7383d8f0",
   "metadata": {},
   "outputs": [],
   "source": [
    "location = driver.find_element(By.XPATH,\"/html/body/div/div/main/div[1]/div[1]/div/div/div[2]/div[5]/div[2]/div[3]/label/i\")\n",
    "location.click()"
   ]
  },
  {
   "cell_type": "code",
   "execution_count": 7,
   "id": "55d313c5",
   "metadata": {},
   "outputs": [],
   "source": [
    "salary = driver.find_element(By.XPATH,\"/html/body/div/div/main/div[1]/div[1]/div/div/div[2]/div[6]/div[2]/div[2]/label/i\")\n",
    "salary.click()"
   ]
  },
  {
   "cell_type": "code",
   "execution_count": 9,
   "id": "fcafc2f2",
   "metadata": {},
   "outputs": [
    {
     "data": {
      "text/plain": [
       "['Data Scientist',\n",
       " 'Data Scientist',\n",
       " 'Data Scientist (Credit Risk)',\n",
       " 'Associate Data Scientist',\n",
       " 'Python Data Scientist',\n",
       " 'Data Scientist',\n",
       " 'Data Scientist',\n",
       " 'Lead Data Scientist',\n",
       " 'Data Scientist',\n",
       " 'Data Scientist']"
      ]
     },
     "execution_count": 9,
     "metadata": {},
     "output_type": "execute_result"
    }
   ],
   "source": [
    "job_title = []\n",
    "title = driver.find_elements(By.XPATH,'//div[@ class=\"cust-job-tuple layout-wrapper lay-2 sjw__tuple \"]/div/a')\n",
    "for i in title[0:10]:\n",
    "    title = i.text\n",
    "    job_title.append(title)\n",
    "job_title"
   ]
  },
  {
   "cell_type": "code",
   "execution_count": 10,
   "id": "9b0acaed",
   "metadata": {},
   "outputs": [
    {
     "data": {
      "text/plain": [
       "['Kolkata, Mumbai, New Delhi, Hyderabad, Pune, Chennai, Bengaluru',\n",
       " 'Noida',\n",
       " 'Mumbai, Gurugram',\n",
       " 'Gurugram',\n",
       " 'Kolkata, Mumbai, New Delhi, Hyderabad, Pune, Chennai, Bengaluru',\n",
       " 'Kolkata, Mumbai, New Delhi, Hyderabad, Pune, Chennai, Bengaluru',\n",
       " 'Kolkata, Mumbai, New Delhi, Hyderabad, Pune, Chennai, Bengaluru',\n",
       " 'Kolkata, Mumbai, New Delhi, Hyderabad, Pune, Chennai, Bengaluru',\n",
       " 'Kolkata, Mumbai, New Delhi, Hyderabad, Pune, Chennai, Bengaluru',\n",
       " 'Gurugram']"
      ]
     },
     "execution_count": 10,
     "metadata": {},
     "output_type": "execute_result"
    }
   ],
   "source": [
    "job_location = []\n",
    "location = driver.find_elements(By.XPATH,'//span[@ class=\"locWdth\"]')\n",
    "for i in location[0:10]:\n",
    "    location = i.text\n",
    "    job_location.append(location)\n",
    "job_location"
   ]
  },
  {
   "cell_type": "code",
   "execution_count": 11,
   "id": "300887be",
   "metadata": {},
   "outputs": [
    {
     "data": {
      "text/plain": [
       "['Essenware',\n",
       " 'Ericsson',\n",
       " 'PayU',\n",
       " 'Orange Business Services',\n",
       " 'Wizaltia Hr Solutions',\n",
       " 'Scienaptic Systems',\n",
       " 'Digital Glyde',\n",
       " 'Elitefit.ai',\n",
       " 'Kashsam Data Solutions',\n",
       " 'Orange Business Services']"
      ]
     },
     "execution_count": 11,
     "metadata": {},
     "output_type": "execute_result"
    }
   ],
   "source": [
    "company_name = []\n",
    "company = driver.find_elements(By.XPATH,'//div[@ class=\" row2\"]/span/a[1]')\n",
    "for i in company[0:10]:\n",
    "    company = i.text\n",
    "    company_name.append(company)\n",
    "company_name\n",
    "    "
   ]
  },
  {
   "cell_type": "code",
   "execution_count": 12,
   "id": "a32775cf",
   "metadata": {},
   "outputs": [
    {
     "data": {
      "text/plain": [
       "['2-5 Yrs',\n",
       " '3-7 Yrs',\n",
       " '2-6 Yrs',\n",
       " '1-5 Yrs',\n",
       " '2-7 Yrs',\n",
       " '2-7 Yrs',\n",
       " '3-7 Yrs',\n",
       " '3-7 Yrs',\n",
       " '3-7 Yrs',\n",
       " '3-5 Yrs']"
      ]
     },
     "execution_count": 12,
     "metadata": {},
     "output_type": "execute_result"
    }
   ],
   "source": [
    "experience_required = []\n",
    "experience = driver.find_elements(By.XPATH,'//span[@class=\"ni-job-tuple-icon ni-job-tuple-icon-srp-experience exp\"]')\n",
    "for i in experience[0:10]:\n",
    "    experience = i.text\n",
    "    experience_required.append(experience)\n",
    "experience_required"
   ]
  },
  {
   "cell_type": "code",
   "execution_count": 14,
   "id": "666e8f59",
   "metadata": {},
   "outputs": [
    {
     "data": {
      "text/html": [
       "<div>\n",
       "<style scoped>\n",
       "    .dataframe tbody tr th:only-of-type {\n",
       "        vertical-align: middle;\n",
       "    }\n",
       "\n",
       "    .dataframe tbody tr th {\n",
       "        vertical-align: top;\n",
       "    }\n",
       "\n",
       "    .dataframe thead th {\n",
       "        text-align: right;\n",
       "    }\n",
       "</style>\n",
       "<table border=\"1\" class=\"dataframe\">\n",
       "  <thead>\n",
       "    <tr style=\"text-align: right;\">\n",
       "      <th></th>\n",
       "      <th>Title</th>\n",
       "      <th>Location</th>\n",
       "      <th>Company_Name</th>\n",
       "      <th>Experience</th>\n",
       "    </tr>\n",
       "  </thead>\n",
       "  <tbody>\n",
       "    <tr>\n",
       "      <th>0</th>\n",
       "      <td>Data Scientist</td>\n",
       "      <td>Kolkata, Mumbai, New Delhi, Hyderabad, Pune, C...</td>\n",
       "      <td>Essenware</td>\n",
       "      <td>2-5 Yrs</td>\n",
       "    </tr>\n",
       "    <tr>\n",
       "      <th>1</th>\n",
       "      <td>Data Scientist</td>\n",
       "      <td>Noida</td>\n",
       "      <td>Ericsson</td>\n",
       "      <td>3-7 Yrs</td>\n",
       "    </tr>\n",
       "    <tr>\n",
       "      <th>2</th>\n",
       "      <td>Data Scientist (Credit Risk)</td>\n",
       "      <td>Mumbai, Gurugram</td>\n",
       "      <td>PayU</td>\n",
       "      <td>2-6 Yrs</td>\n",
       "    </tr>\n",
       "    <tr>\n",
       "      <th>3</th>\n",
       "      <td>Associate Data Scientist</td>\n",
       "      <td>Gurugram</td>\n",
       "      <td>Orange Business Services</td>\n",
       "      <td>1-5 Yrs</td>\n",
       "    </tr>\n",
       "    <tr>\n",
       "      <th>4</th>\n",
       "      <td>Python Data Scientist</td>\n",
       "      <td>Kolkata, Mumbai, New Delhi, Hyderabad, Pune, C...</td>\n",
       "      <td>Wizaltia Hr Solutions</td>\n",
       "      <td>2-7 Yrs</td>\n",
       "    </tr>\n",
       "    <tr>\n",
       "      <th>5</th>\n",
       "      <td>Data Scientist</td>\n",
       "      <td>Kolkata, Mumbai, New Delhi, Hyderabad, Pune, C...</td>\n",
       "      <td>Scienaptic Systems</td>\n",
       "      <td>2-7 Yrs</td>\n",
       "    </tr>\n",
       "    <tr>\n",
       "      <th>6</th>\n",
       "      <td>Data Scientist</td>\n",
       "      <td>Kolkata, Mumbai, New Delhi, Hyderabad, Pune, C...</td>\n",
       "      <td>Digital Glyde</td>\n",
       "      <td>3-7 Yrs</td>\n",
       "    </tr>\n",
       "    <tr>\n",
       "      <th>7</th>\n",
       "      <td>Lead Data Scientist</td>\n",
       "      <td>Kolkata, Mumbai, New Delhi, Hyderabad, Pune, C...</td>\n",
       "      <td>Elitefit.ai</td>\n",
       "      <td>3-7 Yrs</td>\n",
       "    </tr>\n",
       "    <tr>\n",
       "      <th>8</th>\n",
       "      <td>Data Scientist</td>\n",
       "      <td>Kolkata, Mumbai, New Delhi, Hyderabad, Pune, C...</td>\n",
       "      <td>Kashsam Data Solutions</td>\n",
       "      <td>3-7 Yrs</td>\n",
       "    </tr>\n",
       "    <tr>\n",
       "      <th>9</th>\n",
       "      <td>Data Scientist</td>\n",
       "      <td>Gurugram</td>\n",
       "      <td>Orange Business Services</td>\n",
       "      <td>3-5 Yrs</td>\n",
       "    </tr>\n",
       "  </tbody>\n",
       "</table>\n",
       "</div>"
      ],
      "text/plain": [
       "                          Title  \\\n",
       "0                Data Scientist   \n",
       "1                Data Scientist   \n",
       "2  Data Scientist (Credit Risk)   \n",
       "3      Associate Data Scientist   \n",
       "4         Python Data Scientist   \n",
       "5                Data Scientist   \n",
       "6                Data Scientist   \n",
       "7           Lead Data Scientist   \n",
       "8                Data Scientist   \n",
       "9                Data Scientist   \n",
       "\n",
       "                                            Location  \\\n",
       "0  Kolkata, Mumbai, New Delhi, Hyderabad, Pune, C...   \n",
       "1                                              Noida   \n",
       "2                                   Mumbai, Gurugram   \n",
       "3                                           Gurugram   \n",
       "4  Kolkata, Mumbai, New Delhi, Hyderabad, Pune, C...   \n",
       "5  Kolkata, Mumbai, New Delhi, Hyderabad, Pune, C...   \n",
       "6  Kolkata, Mumbai, New Delhi, Hyderabad, Pune, C...   \n",
       "7  Kolkata, Mumbai, New Delhi, Hyderabad, Pune, C...   \n",
       "8  Kolkata, Mumbai, New Delhi, Hyderabad, Pune, C...   \n",
       "9                                           Gurugram   \n",
       "\n",
       "               Company_Name Experience  \n",
       "0                 Essenware    2-5 Yrs  \n",
       "1                  Ericsson    3-7 Yrs  \n",
       "2                      PayU    2-6 Yrs  \n",
       "3  Orange Business Services    1-5 Yrs  \n",
       "4     Wizaltia Hr Solutions    2-7 Yrs  \n",
       "5        Scienaptic Systems    2-7 Yrs  \n",
       "6             Digital Glyde    3-7 Yrs  \n",
       "7               Elitefit.ai    3-7 Yrs  \n",
       "8    Kashsam Data Solutions    3-7 Yrs  \n",
       "9  Orange Business Services    3-5 Yrs  "
      ]
     },
     "execution_count": 14,
     "metadata": {},
     "output_type": "execute_result"
    }
   ],
   "source": [
    "df = pd.DataFrame({'Title':job_title, 'Location':job_location, 'Company_Name':company_name, 'Experience':experience_required})\n",
    "df"
   ]
  },
  {
   "cell_type": "markdown",
   "id": "499405a8",
   "metadata": {},
   "source": [
    "# Q2: Write a python program to scrape data for “Data Scientist” Job position in “Bangalore” location. You have to scrape the\n",
    "job-title, job-location, company_name, experience_required. You have to scrape first 10 jobs data.\n"
   ]
  },
  {
   "cell_type": "markdown",
   "id": "a6e5772c",
   "metadata": {},
   "source": [
    "1. First get the webpage https://www.shine.com/\n",
    "2. Enter “Data Analyst” in “Job title, Skills” field and enter “Bangalore” in “enter the location” field.\n",
    "3. Then click the searchbutton.\n",
    "4. Then scrape the data for the first 10 jobs results you get.\n",
    "5. Finally create a dataframe of the scraped data. "
   ]
  },
  {
   "cell_type": "code",
   "execution_count": 23,
   "id": "619210fd",
   "metadata": {},
   "outputs": [],
   "source": [
    "import selenium\n",
    "import pandas as pd\n",
    "from selenium import webdriver\n",
    "from selenium.webdriver.common.by import By\n",
    "import warnings\n",
    "warnings.filterwarnings('ignore')\n",
    "import time"
   ]
  },
  {
   "cell_type": "code",
   "execution_count": 27,
   "id": "3674acab",
   "metadata": {},
   "outputs": [],
   "source": [
    "driver = webdriver.Chrome()"
   ]
  },
  {
   "cell_type": "code",
   "execution_count": 28,
   "id": "36161195",
   "metadata": {},
   "outputs": [],
   "source": [
    "driver.get('https://www.shine.com/')"
   ]
  },
  {
   "cell_type": "code",
   "execution_count": 31,
   "id": "e60b7b26",
   "metadata": {},
   "outputs": [],
   "source": [
    "designation = driver.find_element(By.XPATH,'//input[@ class=\"form-control  \"][1]')\n",
    "designation.send_keys('Data Analyst')"
   ]
  },
  {
   "cell_type": "code",
   "execution_count": 32,
   "id": "9f3dc6dd",
   "metadata": {},
   "outputs": [],
   "source": [
    "location = driver.find_element(By.XPATH,'//li[@ class=\"searchForm_search_item__hr6Du form-group\"]/div/input[1]')\n",
    "location.send_keys('Bangalore')"
   ]
  },
  {
   "cell_type": "code",
   "execution_count": 34,
   "id": "1502e422",
   "metadata": {},
   "outputs": [],
   "source": [
    "search = driver.find_element(By.XPATH,'/html/body/div/div[4]/div/div[2]/div[2]/div/form/div/div[2]/div/button')\n",
    "search.click()"
   ]
  },
  {
   "cell_type": "code",
   "execution_count": 35,
   "id": "b0fa0c5e",
   "metadata": {},
   "outputs": [
    {
     "data": {
      "text/plain": [
       "['Data Analyst , Senior Data Analyst , Data Analyst - Tec ...',\n",
       " 'Lead Data Analyst',\n",
       " 'Data Analyst',\n",
       " 'Data Analyst',\n",
       " 'Clinical Data Analyst',\n",
       " 'Clinical Data Analyst',\n",
       " 'Lead Data Analyst',\n",
       " 'Data Analyst',\n",
       " 'Data Analyst (Need Immediate Joiner)',\n",
       " 'Data Analyst (Need Immediate Joiner)']"
      ]
     },
     "execution_count": 35,
     "metadata": {},
     "output_type": "execute_result"
    }
   ],
   "source": [
    "job_titles = []\n",
    "title = driver.find_elements(By.XPATH,'//strong [@ class=\"jobCard_pReplaceH2__xWmHg\"]')\n",
    "for i in title[0:10]:\n",
    "    title = i.text\n",
    "    job_titles.append(title)\n",
    "job_titles"
   ]
  },
  {
   "cell_type": "code",
   "execution_count": 36,
   "id": "f28ac79c",
   "metadata": {},
   "outputs": [
    {
     "data": {
      "text/plain": [
       "['Bangalore\\n+8',\n",
       " 'Bangalore\\n+8',\n",
       " 'Bangalore',\n",
       " 'Bangalore\\n+18',\n",
       " 'Bangalore\\n+6',\n",
       " 'Bangalore\\n+6',\n",
       " 'Bangalore\\n+7',\n",
       " 'Bangalore',\n",
       " 'Bangalore\\n+9',\n",
       " 'Bangalore\\n+9']"
      ]
     },
     "execution_count": 36,
     "metadata": {},
     "output_type": "execute_result"
    }
   ],
   "source": [
    "job_locations = []\n",
    "location = driver.find_elements(By.XPATH,'//div[@ class=\"jobCard_jobCard_lists_item__YxRkV jobCard_locationIcon__zrWt2\"]')\n",
    "for i in location[0:10]:\n",
    "    location = i.text\n",
    "    job_locations.append(location)\n",
    "job_locations"
   ]
  },
  {
   "cell_type": "code",
   "execution_count": 37,
   "id": "ad4ecc97",
   "metadata": {},
   "outputs": [
    {
     "data": {
      "text/plain": [
       "['appsoft solutions',\n",
       " 'mackenzie modern it solutions priva...',\n",
       " 'vision india services private limit...',\n",
       " 'neo impex stainless private limited',\n",
       " 'techno endura',\n",
       " 'techno endura',\n",
       " 'mackenzie modern it solutions priva...',\n",
       " 'valenta bpo solutions pvt. ltd.',\n",
       " 'r.s textile',\n",
       " 'r.s textile']"
      ]
     },
     "execution_count": 37,
     "metadata": {},
     "output_type": "execute_result"
    }
   ],
   "source": [
    "company_names = []\n",
    "company = driver.find_elements(By.XPATH,'//div [@class=\"jobCard_jobCard_cName__mYnow\"]')\n",
    "for i in company[0:10]:\n",
    "    company = i.text\n",
    "    company_names.append(company)\n",
    "company_names"
   ]
  },
  {
   "cell_type": "code",
   "execution_count": 39,
   "id": "89c13ff6",
   "metadata": {},
   "outputs": [
    {
     "data": {
      "text/plain": [
       "['0 to 4 Yrs',\n",
       " '5 to 9 Yrs',\n",
       " '2 to 4 Yrs',\n",
       " '9 to 14 Yrs',\n",
       " '0 to 1 Yr',\n",
       " '0 to 1 Yr',\n",
       " '5 to 9 Yrs',\n",
       " '4 to 5 Yrs',\n",
       " '0 to 4 Yrs',\n",
       " '0 to 4 Yrs']"
      ]
     },
     "execution_count": 39,
     "metadata": {},
     "output_type": "execute_result"
    }
   ],
   "source": [
    "experience_required1 = []\n",
    "experience = driver.find_elements(By.XPATH,'//div[@ class=\" jobCard_jobCard_lists_item__YxRkV jobCard_jobIcon__3FB1t\"]')\n",
    "for i in experience[0:10]:\n",
    "    experience = i.text\n",
    "    experience_required1.append(experience)\n",
    "experience_required1"
   ]
  },
  {
   "cell_type": "code",
   "execution_count": 40,
   "id": "0192a975",
   "metadata": {},
   "outputs": [
    {
     "data": {
      "text/html": [
       "<div>\n",
       "<style scoped>\n",
       "    .dataframe tbody tr th:only-of-type {\n",
       "        vertical-align: middle;\n",
       "    }\n",
       "\n",
       "    .dataframe tbody tr th {\n",
       "        vertical-align: top;\n",
       "    }\n",
       "\n",
       "    .dataframe thead th {\n",
       "        text-align: right;\n",
       "    }\n",
       "</style>\n",
       "<table border=\"1\" class=\"dataframe\">\n",
       "  <thead>\n",
       "    <tr style=\"text-align: right;\">\n",
       "      <th></th>\n",
       "      <th>Title</th>\n",
       "      <th>Location</th>\n",
       "      <th>Company_Name</th>\n",
       "      <th>Experience</th>\n",
       "    </tr>\n",
       "  </thead>\n",
       "  <tbody>\n",
       "    <tr>\n",
       "      <th>0</th>\n",
       "      <td>Data Analyst , Senior Data Analyst , Data Anal...</td>\n",
       "      <td>Bangalore\\n+8</td>\n",
       "      <td>appsoft solutions</td>\n",
       "      <td>0 to 4 Yrs</td>\n",
       "    </tr>\n",
       "    <tr>\n",
       "      <th>1</th>\n",
       "      <td>Lead Data Analyst</td>\n",
       "      <td>Bangalore\\n+8</td>\n",
       "      <td>mackenzie modern it solutions priva...</td>\n",
       "      <td>5 to 9 Yrs</td>\n",
       "    </tr>\n",
       "    <tr>\n",
       "      <th>2</th>\n",
       "      <td>Data Analyst</td>\n",
       "      <td>Bangalore</td>\n",
       "      <td>vision india services private limit...</td>\n",
       "      <td>2 to 4 Yrs</td>\n",
       "    </tr>\n",
       "    <tr>\n",
       "      <th>3</th>\n",
       "      <td>Data Analyst</td>\n",
       "      <td>Bangalore\\n+18</td>\n",
       "      <td>neo impex stainless private limited</td>\n",
       "      <td>9 to 14 Yrs</td>\n",
       "    </tr>\n",
       "    <tr>\n",
       "      <th>4</th>\n",
       "      <td>Clinical Data Analyst</td>\n",
       "      <td>Bangalore\\n+6</td>\n",
       "      <td>techno endura</td>\n",
       "      <td>0 to 1 Yr</td>\n",
       "    </tr>\n",
       "    <tr>\n",
       "      <th>5</th>\n",
       "      <td>Clinical Data Analyst</td>\n",
       "      <td>Bangalore\\n+6</td>\n",
       "      <td>techno endura</td>\n",
       "      <td>0 to 1 Yr</td>\n",
       "    </tr>\n",
       "    <tr>\n",
       "      <th>6</th>\n",
       "      <td>Lead Data Analyst</td>\n",
       "      <td>Bangalore\\n+7</td>\n",
       "      <td>mackenzie modern it solutions priva...</td>\n",
       "      <td>5 to 9 Yrs</td>\n",
       "    </tr>\n",
       "    <tr>\n",
       "      <th>7</th>\n",
       "      <td>Data Analyst</td>\n",
       "      <td>Bangalore</td>\n",
       "      <td>valenta bpo solutions pvt. ltd.</td>\n",
       "      <td>4 to 5 Yrs</td>\n",
       "    </tr>\n",
       "    <tr>\n",
       "      <th>8</th>\n",
       "      <td>Data Analyst (Need Immediate Joiner)</td>\n",
       "      <td>Bangalore\\n+9</td>\n",
       "      <td>r.s textile</td>\n",
       "      <td>0 to 4 Yrs</td>\n",
       "    </tr>\n",
       "    <tr>\n",
       "      <th>9</th>\n",
       "      <td>Data Analyst (Need Immediate Joiner)</td>\n",
       "      <td>Bangalore\\n+9</td>\n",
       "      <td>r.s textile</td>\n",
       "      <td>0 to 4 Yrs</td>\n",
       "    </tr>\n",
       "  </tbody>\n",
       "</table>\n",
       "</div>"
      ],
      "text/plain": [
       "                                               Title        Location  \\\n",
       "0  Data Analyst , Senior Data Analyst , Data Anal...   Bangalore\\n+8   \n",
       "1                                  Lead Data Analyst   Bangalore\\n+8   \n",
       "2                                       Data Analyst       Bangalore   \n",
       "3                                       Data Analyst  Bangalore\\n+18   \n",
       "4                              Clinical Data Analyst   Bangalore\\n+6   \n",
       "5                              Clinical Data Analyst   Bangalore\\n+6   \n",
       "6                                  Lead Data Analyst   Bangalore\\n+7   \n",
       "7                                       Data Analyst       Bangalore   \n",
       "8               Data Analyst (Need Immediate Joiner)   Bangalore\\n+9   \n",
       "9               Data Analyst (Need Immediate Joiner)   Bangalore\\n+9   \n",
       "\n",
       "                             Company_Name   Experience  \n",
       "0                       appsoft solutions   0 to 4 Yrs  \n",
       "1  mackenzie modern it solutions priva...   5 to 9 Yrs  \n",
       "2  vision india services private limit...   2 to 4 Yrs  \n",
       "3     neo impex stainless private limited  9 to 14 Yrs  \n",
       "4                           techno endura    0 to 1 Yr  \n",
       "5                           techno endura    0 to 1 Yr  \n",
       "6  mackenzie modern it solutions priva...   5 to 9 Yrs  \n",
       "7         valenta bpo solutions pvt. ltd.   4 to 5 Yrs  \n",
       "8                             r.s textile   0 to 4 Yrs  \n",
       "9                             r.s textile   0 to 4 Yrs  "
      ]
     },
     "execution_count": 40,
     "metadata": {},
     "output_type": "execute_result"
    }
   ],
   "source": [
    "df = pd.DataFrame({'Title':job_titles, 'Location':job_locations, 'Company_Name':company_names, 'Experience':experience_required})\n",
    "df"
   ]
  },
  {
   "cell_type": "markdown",
   "id": "666a2763",
   "metadata": {},
   "source": [
    "# Q3: Scrape 100 reviews data from flipkart.com for iphone11 phone. You have to go the link:"
   ]
  },
  {
   "cell_type": "markdown",
   "id": "8e067a07",
   "metadata": {},
   "source": [
    "1. Rating\n",
    "2. Review summary\n",
    "3. Full review\n",
    "4. You have to scrape this data for first 100reviews."
   ]
  },
  {
   "cell_type": "code",
   "execution_count": 64,
   "id": "2d29cde8",
   "metadata": {},
   "outputs": [],
   "source": [
    "import pandas as pd\n",
    "import selenium\n",
    "from selenium import webdriver\n",
    "from selenium.webdriver.common.by import By\n",
    "import warnings\n",
    "warnings.filterwarnings('ignore')\n",
    "import time"
   ]
  },
  {
   "cell_type": "code",
   "execution_count": 138,
   "id": "627ea909",
   "metadata": {},
   "outputs": [],
   "source": [
    "driver = webdriver.Chrome()"
   ]
  },
  {
   "cell_type": "code",
   "execution_count": 139,
   "id": "7deb9c60",
   "metadata": {},
   "outputs": [],
   "source": [
    "driver.get('https://www.flipkart.com/apple-iphone-11-black-64-gb/product-reviews/itm4e5041ba101fd?pid=MOBFWQ6BXGJCEYNY&lid=LSTMOBFWQ6BXGJCEYNYZXSHRJ&marketplace=FLIPKART')"
   ]
  },
  {
   "cell_type": "markdown",
   "id": "a2b6dd49",
   "metadata": {},
   "source": [
    "1st page Data"
   ]
  },
  {
   "cell_type": "code",
   "execution_count": 140,
   "id": "0f3d8b67",
   "metadata": {},
   "outputs": [
    {
     "data": {
      "text/plain": [
       "['Photos super',\n",
       " 'Good Camera',\n",
       " 'Camera is awesome\\nBest battery backup\\nA performer 👌🏻\\nIt will be a real value for money if they provide charger and earphone inbox!',\n",
       " 'Value for money 😍',\n",
       " 'Feeling awesome after getting the delivery of my phone. Dual speakers makes the sound quality very loud. Amazing!!',\n",
       " 'Perfect Product!!',\n",
       " 'Very very good',\n",
       " 'This is amazing at all',\n",
       " 'It’s really awesome',\n",
       " 'Super🔥 and good performance 👌❤️']"
      ]
     },
     "execution_count": 140,
     "metadata": {},
     "output_type": "execute_result"
    }
   ],
   "source": [
    "#This code is for rating\n",
    "Rating = []\n",
    "rating = driver.find_elements(By.XPATH, '//div[@ class=\"XQDdHH Ga3i8K\"]')\n",
    "for i in rating:\n",
    "    rating = i.text\n",
    "    Rating.append(rating)\n",
    "Rating\n",
    "\n",
    "#This code is for review summary\n",
    "Summary = []\n",
    "summary = driver.find_elements(By.XPATH, '//p[@ class=\"z9E0IG\"]')\n",
    "for i in summary:\n",
    "    summary = i.text\n",
    "    Summary.append(summary)\n",
    "Summary\n",
    "\n",
    "#This code is for full_review\n",
    "Full_review = []\n",
    "review = driver.find_elements(By.XPATH, '//div [@ class=\"ZmyHeo\"]')\n",
    "for i in review:\n",
    "    review = i.text\n",
    "    Full_review.append(review)\n",
    "Full_review"
   ]
  },
  {
   "cell_type": "code",
   "execution_count": 141,
   "id": "77f3b088",
   "metadata": {},
   "outputs": [],
   "source": [
    "next_button = driver.find_element(By.XPATH, '/html/body/div/div/div[3]/div/div/div[2]/div[13]/div/div/nav/a[11]/span')\n",
    "next_button.click()    "
   ]
  },
  {
   "cell_type": "markdown",
   "id": "0b88529f",
   "metadata": {},
   "source": [
    "2nd page Data"
   ]
  },
  {
   "cell_type": "code",
   "execution_count": 142,
   "id": "8912d633",
   "metadata": {},
   "outputs": [
    {
     "data": {
      "text/plain": [
       "['5',\n",
       " '5',\n",
       " '5',\n",
       " '5',\n",
       " '5',\n",
       " '5',\n",
       " '5',\n",
       " '5',\n",
       " '5',\n",
       " '5',\n",
       " '5',\n",
       " '5',\n",
       " '5',\n",
       " '5',\n",
       " '5',\n",
       " '5',\n",
       " '5',\n",
       " '5',\n",
       " '5',\n",
       " '5']"
      ]
     },
     "execution_count": 142,
     "metadata": {},
     "output_type": "execute_result"
    }
   ],
   "source": [
    "rating = driver.find_elements(By.XPATH, '//div[@ class=\"XQDdHH Ga3i8K\"]')\n",
    "for i in rating:\n",
    "    rating = i.text\n",
    "    Rating.append(rating)\n",
    "Rating"
   ]
  },
  {
   "cell_type": "code",
   "execution_count": 143,
   "id": "d56359e9",
   "metadata": {},
   "outputs": [
    {
     "data": {
      "text/plain": [
       "['Perfect product!',\n",
       " 'Best in the market!',\n",
       " 'Classy product',\n",
       " 'Terrific purchase',\n",
       " 'Worth every penny',\n",
       " 'Just wow!',\n",
       " 'Terrific',\n",
       " 'Wonderful',\n",
       " 'Must buy!',\n",
       " 'Fabulous!',\n",
       " 'Awesome',\n",
       " 'Terrific purchase',\n",
       " 'Fabulous!',\n",
       " 'Super!',\n",
       " 'Perfect product!',\n",
       " 'Highly recommended',\n",
       " 'Brilliant',\n",
       " 'Must buy!',\n",
       " 'Best in the market!',\n",
       " 'Simply awesome']"
      ]
     },
     "execution_count": 143,
     "metadata": {},
     "output_type": "execute_result"
    }
   ],
   "source": [
    "summary = driver.find_elements(By.XPATH, '//p[@ class=\"z9E0IG\"]')\n",
    "for i in summary:\n",
    "    summary = i.text\n",
    "    Summary.append(summary)\n",
    "Summary"
   ]
  },
  {
   "cell_type": "code",
   "execution_count": 144,
   "id": "32245df6",
   "metadata": {},
   "outputs": [
    {
     "data": {
      "text/plain": [
       "['Photos super',\n",
       " 'Good Camera',\n",
       " 'Camera is awesome\\nBest battery backup\\nA performer 👌🏻\\nIt will be a real value for money if they provide charger and earphone inbox!',\n",
       " 'Value for money 😍',\n",
       " 'Feeling awesome after getting the delivery of my phone. Dual speakers makes the sound quality very loud. Amazing!!',\n",
       " 'Perfect Product!!',\n",
       " 'Very very good',\n",
       " 'This is amazing at all',\n",
       " 'It’s really awesome',\n",
       " 'Super🔥 and good performance 👌❤️',\n",
       " 'iPhone 11 is a good phone. Not a very big difference between 12 except for the OLED screen and a very minor camera improvement which is you cant make a difference. If you are planning for a iPhone and you have budget you definitely can go for this without second thoughts.\\nNow some people are complaining and giving review 0 or so because there is no charger and headphones, but thats been already mentioned so I assume they are illiterate. Its not that Flipkart is removing them duh. Anyways bee...\\nREAD MORE',\n",
       " 'Value for money 🖤🖤',\n",
       " 'It’s very good battery life and display and video quality and ther performance of iPhone.....🔥🔥🌈',\n",
       " 'Good product 👌I love iPhone',\n",
       " 'V Good all',\n",
       " 'Awesome Battery Life...Camera clarity is too good..\\nValue for money...Its gives full day battery backup in single charge...',\n",
       " 'Excellent Phone.',\n",
       " 'Go for iPhone 11 , if confused between iPhone 11 or iPhone 12 mini.Battery Life is enhanced , it worked for complete 2 days without charging it. Explored new features of taking screenshot by clicking on apple logo by Haptic Touch , Portrait mode with stage effect enhanced & slow motion selfie.',\n",
       " 'Superbb performance n camera is awesome 😍😍',\n",
       " 'Really satisfied with the Product I received... It’s totally genuine and the packaging was also really good so if ur planning to buy just go for it.']"
      ]
     },
     "execution_count": 144,
     "metadata": {},
     "output_type": "execute_result"
    }
   ],
   "source": [
    "review = driver.find_elements(By.XPATH, '//div [@ class=\"ZmyHeo\"]')\n",
    "for i in review:\n",
    "    review = i.text\n",
    "    Full_review.append(review)\n",
    "Full_review"
   ]
  },
  {
   "cell_type": "code",
   "execution_count": 145,
   "id": "88fd2111",
   "metadata": {},
   "outputs": [],
   "source": [
    "next_button = driver.find_element(By.XPATH, '/html/body/div/div/div[3]/div/div/div[2]/div[13]/div/div/nav/a[12]')\n",
    "next_button.click()"
   ]
  },
  {
   "cell_type": "markdown",
   "id": "d0e7673e",
   "metadata": {},
   "source": [
    "3rd page Data"
   ]
  },
  {
   "cell_type": "code",
   "execution_count": 146,
   "id": "32d704a4",
   "metadata": {},
   "outputs": [],
   "source": [
    "rating = driver.find_elements(By.XPATH, '//div[@ class=\"XQDdHH Ga3i8K\"]')\n",
    "for i in rating:\n",
    "    rating = i.text\n",
    "    Rating.append(rating)\n",
    "\n",
    "\n",
    "summary = driver.find_elements(By.XPATH, '//p[@ class=\"z9E0IG\"]')\n",
    "for i in summary:\n",
    "    summary = i.text\n",
    "    Summary.append(summary)\n",
    "\n",
    "review = driver.find_elements(By.XPATH, '//div [@ class=\"ZmyHeo\"]')\n",
    "for i in review:\n",
    "    review = i.text\n",
    "    Full_review.append(review)"
   ]
  },
  {
   "cell_type": "code",
   "execution_count": 147,
   "id": "c6d22ad3",
   "metadata": {},
   "outputs": [
    {
     "name": "stdout",
     "output_type": "stream",
     "text": [
      "30\n",
      "30\n",
      "30\n"
     ]
    }
   ],
   "source": [
    "print(len(Rating))\n",
    "print(len(Summary))\n",
    "print(len(Full_review))"
   ]
  },
  {
   "cell_type": "code",
   "execution_count": 148,
   "id": "11855e10",
   "metadata": {},
   "outputs": [],
   "source": [
    "next_button = driver.find_element(By.XPATH, '/html/body/div/div/div[3]/div/div/div[2]/div[13]/div/div/nav/a[12]')\n",
    "next_button.click()"
   ]
  },
  {
   "cell_type": "markdown",
   "id": "24ba21aa",
   "metadata": {},
   "source": [
    "4th page Data"
   ]
  },
  {
   "cell_type": "code",
   "execution_count": 149,
   "id": "a588093e",
   "metadata": {},
   "outputs": [],
   "source": [
    "rating = driver.find_elements(By.XPATH, '//div[@ class=\"XQDdHH Ga3i8K\"]')\n",
    "for i in rating:\n",
    "    rating = i.text\n",
    "    Rating.append(rating)\n",
    "\n",
    "\n",
    "summary = driver.find_elements(By.XPATH, '//p[@ class=\"z9E0IG\"]')\n",
    "for i in summary:\n",
    "    summary = i.text\n",
    "    Summary.append(summary)\n",
    "\n",
    "review = driver.find_elements(By.XPATH, '//div [@ class=\"ZmyHeo\"]')\n",
    "for i in review:\n",
    "    review = i.text\n",
    "    Full_review.append(review)"
   ]
  },
  {
   "cell_type": "code",
   "execution_count": 150,
   "id": "936c9e79",
   "metadata": {},
   "outputs": [
    {
     "name": "stdout",
     "output_type": "stream",
     "text": [
      "40\n",
      "40\n",
      "40\n"
     ]
    }
   ],
   "source": [
    "print(len(Rating))\n",
    "print(len(Summary))\n",
    "print(len(Full_review))"
   ]
  },
  {
   "cell_type": "code",
   "execution_count": 151,
   "id": "5c23f843",
   "metadata": {},
   "outputs": [],
   "source": [
    "next_button = driver.find_element(By.XPATH, '/html/body/div/div/div[3]/div/div/div[2]/div[13]/div/div/nav/a[12]')\n",
    "next_button.click()"
   ]
  },
  {
   "cell_type": "markdown",
   "id": "396e5760",
   "metadata": {},
   "source": [
    "5th page Data"
   ]
  },
  {
   "cell_type": "code",
   "execution_count": 152,
   "id": "0bad6a8d",
   "metadata": {},
   "outputs": [],
   "source": [
    "rating = driver.find_elements(By.XPATH, '//div[@ class=\"XQDdHH Ga3i8K\"]')\n",
    "for i in rating:\n",
    "    rating = i.text\n",
    "    Rating.append(rating)\n",
    "\n",
    "\n",
    "summary = driver.find_elements(By.XPATH, '//p[@ class=\"z9E0IG\"]')\n",
    "for i in summary:\n",
    "    summary = i.text\n",
    "    Summary.append(summary)\n",
    "\n",
    "review = driver.find_elements(By.XPATH, '//div [@ class=\"ZmyHeo\"]')\n",
    "for i in review:\n",
    "    review = i.text\n",
    "    Full_review.append(review)"
   ]
  },
  {
   "cell_type": "code",
   "execution_count": 153,
   "id": "7854bf1b",
   "metadata": {},
   "outputs": [
    {
     "name": "stdout",
     "output_type": "stream",
     "text": [
      "50\n",
      "50\n",
      "50\n"
     ]
    }
   ],
   "source": [
    "print(len(Rating))\n",
    "print(len(Summary))\n",
    "print(len(Full_review))"
   ]
  },
  {
   "cell_type": "code",
   "execution_count": 154,
   "id": "56ed8f75",
   "metadata": {},
   "outputs": [],
   "source": [
    "next_button = driver.find_element(By.XPATH, '/html/body/div/div/div[3]/div/div/div[2]/div[13]/div/div/nav/a[12]')\n",
    "next_button.click()"
   ]
  },
  {
   "cell_type": "markdown",
   "id": "cdee1755",
   "metadata": {},
   "source": [
    "6th page Data"
   ]
  },
  {
   "cell_type": "code",
   "execution_count": 155,
   "id": "d46850b1",
   "metadata": {},
   "outputs": [],
   "source": [
    "rating = driver.find_elements(By.XPATH, '//div[@ class=\"XQDdHH Ga3i8K\"]')\n",
    "for i in rating:\n",
    "    rating = i.text\n",
    "    Rating.append(rating)\n",
    "\n",
    "\n",
    "summary = driver.find_elements(By.XPATH, '//p[@ class=\"z9E0IG\"]')\n",
    "for i in summary:\n",
    "    summary = i.text\n",
    "    Summary.append(summary)\n",
    "\n",
    "review = driver.find_elements(By.XPATH, '//div [@ class=\"ZmyHeo\"]')\n",
    "for i in review:\n",
    "    review = i.text\n",
    "    Full_review.append(review)"
   ]
  },
  {
   "cell_type": "code",
   "execution_count": 156,
   "id": "5eab8d03",
   "metadata": {},
   "outputs": [
    {
     "name": "stdout",
     "output_type": "stream",
     "text": [
      "60\n",
      "60\n",
      "60\n"
     ]
    }
   ],
   "source": [
    "print(len(Rating))\n",
    "print(len(Summary))\n",
    "print(len(Full_review))"
   ]
  },
  {
   "cell_type": "code",
   "execution_count": 157,
   "id": "603339b7",
   "metadata": {},
   "outputs": [],
   "source": [
    "next_button = driver.find_element(By.XPATH, '/html/body/div/div/div[3]/div/div/div[2]/div[13]/div/div/nav/a[12]')\n",
    "next_button.click()"
   ]
  },
  {
   "cell_type": "markdown",
   "id": "827b0711",
   "metadata": {},
   "source": [
    "7th page Data"
   ]
  },
  {
   "cell_type": "code",
   "execution_count": 158,
   "id": "f895aa1d",
   "metadata": {},
   "outputs": [],
   "source": [
    "rating = driver.find_elements(By.XPATH, '//div[@ class=\"XQDdHH Ga3i8K\"]')\n",
    "for i in rating:\n",
    "    rating = i.text\n",
    "    Rating.append(rating)\n",
    "\n",
    "\n",
    "summary = driver.find_elements(By.XPATH, '//p[@ class=\"z9E0IG\"]')\n",
    "for i in summary:\n",
    "    summary = i.text\n",
    "    Summary.append(summary)\n",
    "\n",
    "review = driver.find_elements(By.XPATH, '//div [@ class=\"ZmyHeo\"]')\n",
    "for i in review:\n",
    "    review = i.text\n",
    "    Full_review.append(review)"
   ]
  },
  {
   "cell_type": "code",
   "execution_count": 159,
   "id": "65c53911",
   "metadata": {},
   "outputs": [
    {
     "name": "stdout",
     "output_type": "stream",
     "text": [
      "70\n",
      "70\n",
      "70\n"
     ]
    }
   ],
   "source": [
    "print(len(Rating))\n",
    "print(len(Summary))\n",
    "print(len(Full_review))"
   ]
  },
  {
   "cell_type": "code",
   "execution_count": 160,
   "id": "af0235d4",
   "metadata": {},
   "outputs": [],
   "source": [
    "next_button = driver.find_element(By.XPATH, '/html/body/div/div/div[3]/div/div/div[2]/div[13]/div/div/nav/a[12]')\n",
    "next_button.click()"
   ]
  },
  {
   "cell_type": "markdown",
   "id": "beaa0f62",
   "metadata": {},
   "source": [
    "8th page Data"
   ]
  },
  {
   "cell_type": "code",
   "execution_count": 161,
   "id": "e7954e89",
   "metadata": {},
   "outputs": [],
   "source": [
    "rating = driver.find_elements(By.XPATH, '//div[@ class=\"XQDdHH Ga3i8K\"]')\n",
    "for i in rating:\n",
    "    rating = i.text\n",
    "    Rating.append(rating)\n",
    "\n",
    "\n",
    "summary = driver.find_elements(By.XPATH, '//p[@ class=\"z9E0IG\"]')\n",
    "for i in summary:\n",
    "    summary = i.text\n",
    "    Summary.append(summary)\n",
    "\n",
    "review = driver.find_elements(By.XPATH, '//div [@ class=\"ZmyHeo\"]')\n",
    "for i in review:\n",
    "    review = i.text\n",
    "    Full_review.append(review)"
   ]
  },
  {
   "cell_type": "code",
   "execution_count": 162,
   "id": "77682b5e",
   "metadata": {},
   "outputs": [
    {
     "name": "stdout",
     "output_type": "stream",
     "text": [
      "80\n",
      "80\n",
      "80\n"
     ]
    }
   ],
   "source": [
    "print(len(Rating))\n",
    "print(len(Summary))\n",
    "print(len(Full_review))"
   ]
  },
  {
   "cell_type": "code",
   "execution_count": 163,
   "id": "b94bb948",
   "metadata": {},
   "outputs": [],
   "source": [
    "next_button = driver.find_element(By.XPATH, '/html/body/div/div/div[3]/div/div/div[2]/div[13]/div/div/nav/a[12]')\n",
    "next_button.click()"
   ]
  },
  {
   "cell_type": "markdown",
   "id": "980292a7",
   "metadata": {},
   "source": [
    "9th page Data"
   ]
  },
  {
   "cell_type": "code",
   "execution_count": 164,
   "id": "99227311",
   "metadata": {},
   "outputs": [],
   "source": [
    "rating = driver.find_elements(By.XPATH, '//div[@ class=\"XQDdHH Ga3i8K\"]')\n",
    "for i in rating:\n",
    "    rating = i.text\n",
    "    Rating.append(rating)\n",
    "\n",
    "\n",
    "summary = driver.find_elements(By.XPATH, '//p[@ class=\"z9E0IG\"]')\n",
    "for i in summary:\n",
    "    summary = i.text\n",
    "    Summary.append(summary)\n",
    "\n",
    "review = driver.find_elements(By.XPATH, '//div [@ class=\"ZmyHeo\"]')\n",
    "for i in review:\n",
    "    review = i.text\n",
    "    Full_review.append(review)"
   ]
  },
  {
   "cell_type": "code",
   "execution_count": 165,
   "id": "214f5324",
   "metadata": {},
   "outputs": [
    {
     "name": "stdout",
     "output_type": "stream",
     "text": [
      "90\n",
      "90\n",
      "90\n"
     ]
    }
   ],
   "source": [
    "print(len(Rating))\n",
    "print(len(Summary))\n",
    "print(len(Full_review))"
   ]
  },
  {
   "cell_type": "code",
   "execution_count": 166,
   "id": "cdc4267e",
   "metadata": {},
   "outputs": [],
   "source": [
    "next_button = driver.find_element(By.XPATH, '/html/body/div/div/div[3]/div/div/div[2]/div[13]/div/div/nav/a[12]')\n",
    "next_button.click()"
   ]
  },
  {
   "cell_type": "markdown",
   "id": "4cdcf218",
   "metadata": {},
   "source": [
    "10th page Data"
   ]
  },
  {
   "cell_type": "code",
   "execution_count": 167,
   "id": "48bd53b9",
   "metadata": {},
   "outputs": [],
   "source": [
    "rating = driver.find_elements(By.XPATH, '//div[@ class=\"XQDdHH Ga3i8K\"]')\n",
    "for i in rating:\n",
    "    rating = i.text\n",
    "    Rating.append(rating)\n",
    "\n",
    "\n",
    "summary = driver.find_elements(By.XPATH, '//p[@ class=\"z9E0IG\"]')\n",
    "for i in summary:\n",
    "    summary = i.text\n",
    "    Summary.append(summary)\n",
    "\n",
    "review = driver.find_elements(By.XPATH, '//div [@ class=\"ZmyHeo\"]')\n",
    "for i in review:\n",
    "    review = i.text\n",
    "    Full_review.append(review)"
   ]
  },
  {
   "cell_type": "code",
   "execution_count": 168,
   "id": "6c2e447b",
   "metadata": {},
   "outputs": [
    {
     "name": "stdout",
     "output_type": "stream",
     "text": [
      "100\n",
      "100\n",
      "100\n"
     ]
    }
   ],
   "source": [
    "print(len(Rating))\n",
    "print(len(Summary))\n",
    "print(len(Full_review))"
   ]
  },
  {
   "cell_type": "code",
   "execution_count": 169,
   "id": "93bb5e2b",
   "metadata": {},
   "outputs": [
    {
     "data": {
      "text/html": [
       "<div>\n",
       "<style scoped>\n",
       "    .dataframe tbody tr th:only-of-type {\n",
       "        vertical-align: middle;\n",
       "    }\n",
       "\n",
       "    .dataframe tbody tr th {\n",
       "        vertical-align: top;\n",
       "    }\n",
       "\n",
       "    .dataframe thead th {\n",
       "        text-align: right;\n",
       "    }\n",
       "</style>\n",
       "<table border=\"1\" class=\"dataframe\">\n",
       "  <thead>\n",
       "    <tr style=\"text-align: right;\">\n",
       "      <th></th>\n",
       "      <th>Rating</th>\n",
       "      <th>Summary</th>\n",
       "      <th>Full_Review</th>\n",
       "    </tr>\n",
       "  </thead>\n",
       "  <tbody>\n",
       "    <tr>\n",
       "      <th>0</th>\n",
       "      <td>5</td>\n",
       "      <td>Perfect product!</td>\n",
       "      <td>Photos super</td>\n",
       "    </tr>\n",
       "    <tr>\n",
       "      <th>1</th>\n",
       "      <td>5</td>\n",
       "      <td>Best in the market!</td>\n",
       "      <td>Good Camera</td>\n",
       "    </tr>\n",
       "    <tr>\n",
       "      <th>2</th>\n",
       "      <td>5</td>\n",
       "      <td>Classy product</td>\n",
       "      <td>Camera is awesome\\nBest battery backup\\nA perf...</td>\n",
       "    </tr>\n",
       "    <tr>\n",
       "      <th>3</th>\n",
       "      <td>5</td>\n",
       "      <td>Terrific purchase</td>\n",
       "      <td>Value for money 😍</td>\n",
       "    </tr>\n",
       "    <tr>\n",
       "      <th>4</th>\n",
       "      <td>5</td>\n",
       "      <td>Worth every penny</td>\n",
       "      <td>Feeling awesome after getting the delivery of ...</td>\n",
       "    </tr>\n",
       "    <tr>\n",
       "      <th>...</th>\n",
       "      <td>...</td>\n",
       "      <td>...</td>\n",
       "      <td>...</td>\n",
       "    </tr>\n",
       "    <tr>\n",
       "      <th>95</th>\n",
       "      <td>5</td>\n",
       "      <td>Brilliant</td>\n",
       "      <td>Best phone</td>\n",
       "    </tr>\n",
       "    <tr>\n",
       "      <th>96</th>\n",
       "      <td>5</td>\n",
       "      <td>Excellent</td>\n",
       "      <td>A perfect phone and a good battery super camer...</td>\n",
       "    </tr>\n",
       "    <tr>\n",
       "      <th>97</th>\n",
       "      <td>5</td>\n",
       "      <td>Must buy!</td>\n",
       "      <td>My dream is complete just mind-blowing phone c...</td>\n",
       "    </tr>\n",
       "    <tr>\n",
       "      <th>98</th>\n",
       "      <td>5</td>\n",
       "      <td>Perfect product!</td>\n",
       "      <td>Very nice iPhone 11 i lake</td>\n",
       "    </tr>\n",
       "    <tr>\n",
       "      <th>99</th>\n",
       "      <td>5</td>\n",
       "      <td>Brilliant</td>\n",
       "      <td>Fantastic phone</td>\n",
       "    </tr>\n",
       "  </tbody>\n",
       "</table>\n",
       "<p>100 rows × 3 columns</p>\n",
       "</div>"
      ],
      "text/plain": [
       "   Rating              Summary  \\\n",
       "0       5     Perfect product!   \n",
       "1       5  Best in the market!   \n",
       "2       5       Classy product   \n",
       "3       5    Terrific purchase   \n",
       "4       5    Worth every penny   \n",
       "..    ...                  ...   \n",
       "95      5            Brilliant   \n",
       "96      5            Excellent   \n",
       "97      5            Must buy!   \n",
       "98      5     Perfect product!   \n",
       "99      5            Brilliant   \n",
       "\n",
       "                                          Full_Review  \n",
       "0                                        Photos super  \n",
       "1                                         Good Camera  \n",
       "2   Camera is awesome\\nBest battery backup\\nA perf...  \n",
       "3                                   Value for money 😍  \n",
       "4   Feeling awesome after getting the delivery of ...  \n",
       "..                                                ...  \n",
       "95                                         Best phone  \n",
       "96  A perfect phone and a good battery super camer...  \n",
       "97  My dream is complete just mind-blowing phone c...  \n",
       "98                         Very nice iPhone 11 i lake  \n",
       "99                                    Fantastic phone  \n",
       "\n",
       "[100 rows x 3 columns]"
      ]
     },
     "execution_count": 169,
     "metadata": {},
     "output_type": "execute_result"
    }
   ],
   "source": [
    "df = pd.DataFrame({'Rating':Rating, 'Summary':Summary, 'Full_Review':Full_review})\n",
    "df"
   ]
  },
  {
   "cell_type": "markdown",
   "id": "4689e0cc",
   "metadata": {},
   "source": [
    "# Q4: Scrape data forfirst 100 sneakers you find whenyouvisitflipkart.com and search for “sneakers” inthe search\n"
   ]
  },
  {
   "cell_type": "markdown",
   "id": "10932a50",
   "metadata": {},
   "source": [
    "1. Brand\n",
    "2. ProductDescription\n",
    "3. Price\n"
   ]
  },
  {
   "cell_type": "code",
   "execution_count": 2,
   "id": "4cd1f82b",
   "metadata": {},
   "outputs": [],
   "source": [
    "import pandas as pd\n",
    "import selenium\n",
    "from selenium import webdriver\n",
    "from selenium.webdriver.common.by import By\n",
    "import warnings\n",
    "warnings.filterwarnings('ignore')\n",
    "import time"
   ]
  },
  {
   "cell_type": "code",
   "execution_count": 44,
   "id": "d03967ef",
   "metadata": {},
   "outputs": [],
   "source": [
    "driver = webdriver.Chrome()"
   ]
  },
  {
   "cell_type": "code",
   "execution_count": 45,
   "id": "68f5092c",
   "metadata": {},
   "outputs": [],
   "source": [
    "driver.get('https://www.flipkart.com/')"
   ]
  },
  {
   "cell_type": "code",
   "execution_count": 46,
   "id": "e242b223",
   "metadata": {},
   "outputs": [],
   "source": [
    "brand = []\n",
    "product_desc = []\n",
    "price_ = []"
   ]
  },
  {
   "cell_type": "code",
   "execution_count": 47,
   "id": "ac73a5bc",
   "metadata": {},
   "outputs": [],
   "source": [
    "search_field = driver.find_element(By.CLASS_NAME,'Pke_EE')\n",
    "search_field.send_keys(\"sneakers\")"
   ]
  },
  {
   "cell_type": "code",
   "execution_count": 48,
   "id": "33e80433",
   "metadata": {},
   "outputs": [],
   "source": [
    "search = driver.find_element(By.CLASS_NAME,\"_2iLD__\")\n",
    "search.click()"
   ]
  },
  {
   "cell_type": "code",
   "execution_count": 49,
   "id": "84838556",
   "metadata": {},
   "outputs": [],
   "source": [
    "for i in range(3):\n",
    "    brand_name = driver.find_elements(By.CLASS_NAME,\"syl9yP\")\n",
    "    pro_name = driver.find_elements(By.XPATH,'//a [@ class=\"WKTcLC\"]')\n",
    "    price =driver.find_elements(By.XPATH,'//div [@ class=\"Nx9bqj\"]')\n",
    "    \n",
    "    for j  in brand_name:\n",
    "        brand.append(j.text)\n",
    "    brand[:100]    \n",
    "    \n",
    "    \n",
    "    for k in pro_name:\n",
    "        product_desc.append(k.text)\n",
    "    product_desc[:100] \n",
    "    \n",
    "    \n",
    "    for l in price:\n",
    "        price_.append(l.text)\n",
    "    price[:100] "
   ]
  },
  {
   "cell_type": "code",
   "execution_count": 50,
   "id": "438d9e30",
   "metadata": {},
   "outputs": [
    {
     "name": "stdout",
     "output_type": "stream",
     "text": [
      "100 96 100\n"
     ]
    }
   ],
   "source": [
    "print(len(brand[:100]), len(product_desc[:100]), len(price_[:100]))"
   ]
  },
  {
   "cell_type": "markdown",
   "id": "37909e17",
   "metadata": {},
   "source": [
    "# Q5: Go to webpage https://www.amazon.in/ Enter “Laptop” in the search field and then click the search icon."
   ]
  },
  {
   "cell_type": "markdown",
   "id": "a0010575",
   "metadata": {},
   "source": [
    "Then set CPU\n",
    "Type filter to “Intel Core i7” as shown in the below image:\n",
    "Aftersetting the filters scrape first 10 laptops data. You have to scrape 3 attributes for each laptop:\n",
    "1. Title\n",
    "2. Ratings\n",
    "3. Price"
   ]
  },
  {
   "cell_type": "code",
   "execution_count": 51,
   "id": "508e6cd2",
   "metadata": {},
   "outputs": [],
   "source": [
    "import pandas as pd\n",
    "import selenium\n",
    "from selenium import webdriver\n",
    "from selenium.webdriver.common.by import By\n",
    "import warnings\n",
    "warnings.filterwarnings('ignore')\n",
    "import time"
   ]
  },
  {
   "cell_type": "code",
   "execution_count": 84,
   "id": "ec34c8af",
   "metadata": {},
   "outputs": [],
   "source": [
    "driver = webdriver.Chrome()"
   ]
  },
  {
   "cell_type": "code",
   "execution_count": 85,
   "id": "1193b386",
   "metadata": {},
   "outputs": [],
   "source": [
    "driver.get('https://www.amazon.in/')"
   ]
  },
  {
   "cell_type": "code",
   "execution_count": 86,
   "id": "7bdc8ea8",
   "metadata": {},
   "outputs": [],
   "source": [
    "search = driver.find_element(By.XPATH,'//input [@ type=\"text\"]')\n",
    "search.send_keys('Laptop')"
   ]
  },
  {
   "cell_type": "code",
   "execution_count": 87,
   "id": "609e3c5e",
   "metadata": {},
   "outputs": [],
   "source": [
    "search_button = driver.find_element(By.XPATH,'//input [@ id=\"nav-search-submit-button\"]')\n",
    "search_button.click()"
   ]
  },
  {
   "cell_type": "code",
   "execution_count": 89,
   "id": "8837869c",
   "metadata": {},
   "outputs": [],
   "source": [
    "i7_filter = driver.find_element(By.XPATH,'/html/body/div[1]/div[1]/div[1]/div[2]/div/div[3]/span/div[1]/div/div/div[6]/ul[20]/span/span[11]/li/span/a/div/label/i')\n",
    "i7_filter.click()"
   ]
  },
  {
   "cell_type": "code",
   "execution_count": 90,
   "id": "4a0aba5d",
   "metadata": {},
   "outputs": [],
   "source": [
    "title = []\n",
    "rating = []\n",
    "price = []"
   ]
  },
  {
   "cell_type": "code",
   "execution_count": 91,
   "id": "9580f3d1",
   "metadata": {},
   "outputs": [
    {
     "data": {
      "text/plain": [
       "['Acer Aspire Lite 12th Gen Intel Core i7-1255U Premium Metal Laptop (Windows 11 Home/16 GB RAM/512 GB SSD) AL15-52, 39.62cm (15.6\") Full HD Display, Metal Body, Steel Gray, 1.59 Kg',\n",
       " 'MSI Modern 14, Intel 12th Gen. i7-1255U, 36CM FHD 60Hz Laptop (16GB/512GB NVMe SSD/Windows 11 Home/Intel Iris Xe Graphics/Classic Black/1.4Kg), C12M-459IN',\n",
       " 'Lenovo IdeaPad Slim 3 Intel Core i7 12th Gen 15.6 inch (39.62cm) FHD Thin & Light Laptop (8GB/512GB SSD/Windows 11/Office 2021/1Yr ADP Free/3months Game Pass/Arctic Grey/1.63Kg), 82RK011EIN',\n",
       " 'HP Pavilion 14 12th Gen Intel Core i7 16GB SDRAM/1TB SSD 14 inch(35.6cm) FHD,IPS,Micro-Edge Display/Intel Iris Xe Graphics/B&O/Win 11/Alexa Built-in/Backlit KB/FPR/MSO 2021/Natural Silver,14-dv2015TU',\n",
       " 'HP Laptop 15s, 12th Gen Intel Core i7-1255U, 15.6-inch (39.6 cm), FHD, 16GB DDR4, 512GB SSD, Intel Iris Xe Graphics, Backlit KB, Thin & Light (Win 11, MSO 2021, Silver, 1.69 kg), fq5190TU',\n",
       " 'ASUS [Smartchoice] Vivobook 15, Intel Core i7-12650H 12th Gen, 15.6\" (39.62 cm) FHD, Thin and Light Laptop (16GB/512GB/Win11/Office 2021/Blue/1.7 kg), X1502ZA-EJ741WS(Upto 8000 Bank Discount)',\n",
       " 'Acer Travelmate Business Laptop Intel Core i7-11th Gen (Windows 11 Home/16 GB Ram/1TB SSD/Intel Iris Xe Graphics/14.0 IPS Display/Backlit Keyboard/Fingerprint Sensor) TMP214-53',\n",
       " 'Dell Inspiron 7420 2in1 Laptop, Intel Core i7-1255U Processor/16GB/512GB/14.0\" (35.56cm) FHD+ WVA Touch 250 nits, Active Pen/Win 11 + MSO\\'21, 15 Month McAfee/Backlit KB + FPR/Platinum Silver, 1.57kg',\n",
       " 'Lenovo IdeaPad Slim 5 Intel Core i7 13700H 16\" (40.6cm) 2.5K IPS 350Nits Laptop (16GB/1TB SSD/Win 11/Office 2021/Backlit KB/FHD 1080p +IR Camera/Alexa/3 Month Game Pass/Cloud Grey/1.9Kg), 82XF0078IN',\n",
       " 'Samsung Galaxy Book3 Core i7 13th Gen 1355U - (16 GB/512 GB SSD/Windows 11 Home) Galaxy Book3 Thin and Light Laptop (15.6 Inch, Graphite, 1.58 Kg, with MS Office)']"
      ]
     },
     "execution_count": 91,
     "metadata": {},
     "output_type": "execute_result"
    }
   ],
   "source": [
    "title_ = driver.find_elements(By.XPATH,'//a[@ class=\"a-link-normal s-underline-text s-underline-link-text s-link-style a-text-normal\"]')\n",
    "for i in title_:\n",
    "    title.append(i.text)\n",
    "title[:10]\n",
    "    "
   ]
  },
  {
   "cell_type": "code",
   "execution_count": 92,
   "id": "53e73713",
   "metadata": {},
   "outputs": [
    {
     "data": {
      "text/plain": [
       "['403', '120', '506', '705', '62', '259', '38', '77', '20', '113']"
      ]
     },
     "execution_count": 92,
     "metadata": {},
     "output_type": "execute_result"
    }
   ],
   "source": [
    "rating_ = driver.find_elements(By.XPATH,'//div [@ class=\"a-row a-size-small\"]')\n",
    "for i in rating_:\n",
    "    rating.append(i.text)\n",
    "rating[:10]"
   ]
  },
  {
   "cell_type": "code",
   "execution_count": 93,
   "id": "ce6fd69b",
   "metadata": {},
   "outputs": [
    {
     "data": {
      "text/plain": [
       "['61,990',\n",
       " '49,800',\n",
       " '52,999',\n",
       " '49,990',\n",
       " '62,933',\n",
       " '78,990',\n",
       " '62,990',\n",
       " '61,990',\n",
       " '47,990',\n",
       " '77,490']"
      ]
     },
     "execution_count": 93,
     "metadata": {},
     "output_type": "execute_result"
    }
   ],
   "source": [
    "price_ = driver.find_elements(By.CLASS_NAME,'a-price-whole')\n",
    "for i in price_:\n",
    "    price.append(i.text)\n",
    "price[:10]"
   ]
  },
  {
   "cell_type": "code",
   "execution_count": 95,
   "id": "a401e62b",
   "metadata": {},
   "outputs": [
    {
     "data": {
      "text/html": [
       "<div>\n",
       "<style scoped>\n",
       "    .dataframe tbody tr th:only-of-type {\n",
       "        vertical-align: middle;\n",
       "    }\n",
       "\n",
       "    .dataframe tbody tr th {\n",
       "        vertical-align: top;\n",
       "    }\n",
       "\n",
       "    .dataframe thead th {\n",
       "        text-align: right;\n",
       "    }\n",
       "</style>\n",
       "<table border=\"1\" class=\"dataframe\">\n",
       "  <thead>\n",
       "    <tr style=\"text-align: right;\">\n",
       "      <th></th>\n",
       "      <th>Title</th>\n",
       "      <th>Rating</th>\n",
       "      <th>Price</th>\n",
       "    </tr>\n",
       "  </thead>\n",
       "  <tbody>\n",
       "    <tr>\n",
       "      <th>0</th>\n",
       "      <td>Acer Aspire Lite 12th Gen Intel Core i7-1255U ...</td>\n",
       "      <td>403</td>\n",
       "      <td>61,990</td>\n",
       "    </tr>\n",
       "    <tr>\n",
       "      <th>1</th>\n",
       "      <td>MSI Modern 14, Intel 12th Gen. i7-1255U, 36CM ...</td>\n",
       "      <td>120</td>\n",
       "      <td>49,800</td>\n",
       "    </tr>\n",
       "    <tr>\n",
       "      <th>2</th>\n",
       "      <td>Lenovo IdeaPad Slim 3 Intel Core i7 12th Gen 1...</td>\n",
       "      <td>506</td>\n",
       "      <td>52,999</td>\n",
       "    </tr>\n",
       "    <tr>\n",
       "      <th>3</th>\n",
       "      <td>HP Pavilion 14 12th Gen Intel Core i7 16GB SDR...</td>\n",
       "      <td>705</td>\n",
       "      <td>49,990</td>\n",
       "    </tr>\n",
       "    <tr>\n",
       "      <th>4</th>\n",
       "      <td>HP Laptop 15s, 12th Gen Intel Core i7-1255U, 1...</td>\n",
       "      <td>62</td>\n",
       "      <td>62,933</td>\n",
       "    </tr>\n",
       "    <tr>\n",
       "      <th>5</th>\n",
       "      <td>ASUS [Smartchoice] Vivobook 15, Intel Core i7-...</td>\n",
       "      <td>259</td>\n",
       "      <td>78,990</td>\n",
       "    </tr>\n",
       "    <tr>\n",
       "      <th>6</th>\n",
       "      <td>Acer Travelmate Business Laptop Intel Core i7-...</td>\n",
       "      <td>38</td>\n",
       "      <td>62,990</td>\n",
       "    </tr>\n",
       "    <tr>\n",
       "      <th>7</th>\n",
       "      <td>Dell Inspiron 7420 2in1 Laptop, Intel Core i7-...</td>\n",
       "      <td>77</td>\n",
       "      <td>61,990</td>\n",
       "    </tr>\n",
       "    <tr>\n",
       "      <th>8</th>\n",
       "      <td>Lenovo IdeaPad Slim 5 Intel Core i7 13700H 16\"...</td>\n",
       "      <td>20</td>\n",
       "      <td>47,990</td>\n",
       "    </tr>\n",
       "    <tr>\n",
       "      <th>9</th>\n",
       "      <td>Samsung Galaxy Book3 Core i7 13th Gen 1355U - ...</td>\n",
       "      <td>113</td>\n",
       "      <td>77,490</td>\n",
       "    </tr>\n",
       "  </tbody>\n",
       "</table>\n",
       "</div>"
      ],
      "text/plain": [
       "                                               Title Rating   Price\n",
       "0  Acer Aspire Lite 12th Gen Intel Core i7-1255U ...    403  61,990\n",
       "1  MSI Modern 14, Intel 12th Gen. i7-1255U, 36CM ...    120  49,800\n",
       "2  Lenovo IdeaPad Slim 3 Intel Core i7 12th Gen 1...    506  52,999\n",
       "3  HP Pavilion 14 12th Gen Intel Core i7 16GB SDR...    705  49,990\n",
       "4  HP Laptop 15s, 12th Gen Intel Core i7-1255U, 1...     62  62,933\n",
       "5  ASUS [Smartchoice] Vivobook 15, Intel Core i7-...    259  78,990\n",
       "6  Acer Travelmate Business Laptop Intel Core i7-...     38  62,990\n",
       "7  Dell Inspiron 7420 2in1 Laptop, Intel Core i7-...     77  61,990\n",
       "8  Lenovo IdeaPad Slim 5 Intel Core i7 13700H 16\"...     20  47,990\n",
       "9  Samsung Galaxy Book3 Core i7 13th Gen 1355U - ...    113  77,490"
      ]
     },
     "execution_count": 95,
     "metadata": {},
     "output_type": "execute_result"
    }
   ],
   "source": [
    "df = pd.DataFrame({'Title':title[:10], 'Rating':rating[:10], 'Price':price[:10]})\n",
    "df"
   ]
  },
  {
   "cell_type": "markdown",
   "id": "7050c4d6",
   "metadata": {},
   "source": [
    "# Q6: Write a python program to scrape data for Top 1000 Quotes of All Time."
   ]
  },
  {
   "cell_type": "markdown",
   "id": "03f13772",
   "metadata": {},
   "source": [
    "The above task will be done in following steps:\n",
    "1. First get the webpagehttps://www.azquotes.com/\n",
    "2. Click on TopQuote\n",
    "3. Than scrap a)Quote b) Author c) Type Of Quotes"
   ]
  },
  {
   "cell_type": "code",
   "execution_count": 96,
   "id": "3cd4b9d6",
   "metadata": {},
   "outputs": [],
   "source": [
    "import pandas as pd\n",
    "import selenium\n",
    "from selenium import webdriver\n",
    "from selenium.webdriver.common.by import By\n",
    "import warnings\n",
    "warnings.filterwarnings('ignore')\n",
    "import time"
   ]
  },
  {
   "cell_type": "code",
   "execution_count": 106,
   "id": "8c70b2f1",
   "metadata": {},
   "outputs": [],
   "source": [
    "driver = webdriver.Chrome()"
   ]
  },
  {
   "cell_type": "code",
   "execution_count": 107,
   "id": "60afa5e0",
   "metadata": {},
   "outputs": [],
   "source": [
    "driver.get('https://www.azquotes.com/')"
   ]
  },
  {
   "cell_type": "code",
   "execution_count": 108,
   "id": "9678019d",
   "metadata": {},
   "outputs": [],
   "source": [
    "top_quotes = driver.find_element(By.XPATH,'//a[@href=\"/top_quotes.html\"]')\n",
    "top_quotes.click()"
   ]
  },
  {
   "cell_type": "code",
   "execution_count": 109,
   "id": "4352c508",
   "metadata": {},
   "outputs": [],
   "source": [
    "quote = []\n",
    "author = []\n",
    "type_quo = []"
   ]
  },
  {
   "cell_type": "code",
   "execution_count": 110,
   "id": "9d5e0218",
   "metadata": {},
   "outputs": [],
   "source": [
    "for i in range(10):\n",
    "    quote_ = driver.find_elements(By.XPATH,'//div [@class=\"wrap-block\"]/p')\n",
    "    for i in quote_:\n",
    "        quote.append(i.text)\n",
    "    quote[:1000]"
   ]
  },
  {
   "cell_type": "code",
   "execution_count": 111,
   "id": "f896c3a8",
   "metadata": {},
   "outputs": [
    {
     "data": {
      "text/plain": [
       "1000"
      ]
     },
     "execution_count": 111,
     "metadata": {},
     "output_type": "execute_result"
    }
   ],
   "source": [
    "len(quote)"
   ]
  },
  {
   "cell_type": "code",
   "execution_count": 112,
   "id": "a49d70de",
   "metadata": {},
   "outputs": [],
   "source": [
    "for i in range(10):\n",
    "    author_ = driver.find_elements(By.XPATH, '//div [@class=\"author\"]')\n",
    "    for i in author_:\n",
    "        author.append(i.text)\n",
    "    author[:1000]"
   ]
  },
  {
   "cell_type": "code",
   "execution_count": 113,
   "id": "40df6b2b",
   "metadata": {},
   "outputs": [
    {
     "data": {
      "text/plain": [
       "1000"
      ]
     },
     "execution_count": 113,
     "metadata": {},
     "output_type": "execute_result"
    }
   ],
   "source": [
    "len(author)"
   ]
  },
  {
   "cell_type": "code",
   "execution_count": 114,
   "id": "2e912ba6",
   "metadata": {},
   "outputs": [],
   "source": [
    "for i in range(10):\n",
    "    type_quo_ = driver.find_elements(By.XPATH, '//div [@class=\"tags\"]')\n",
    "    for i in type_quo_:\n",
    "        type_quo.append(i.text)\n",
    "    type_quo[:1000]"
   ]
  },
  {
   "cell_type": "code",
   "execution_count": 115,
   "id": "f6ace01e",
   "metadata": {},
   "outputs": [
    {
     "data": {
      "text/plain": [
       "1000"
      ]
     },
     "execution_count": 115,
     "metadata": {},
     "output_type": "execute_result"
    }
   ],
   "source": [
    "len(type_quo)"
   ]
  },
  {
   "cell_type": "code",
   "execution_count": 116,
   "id": "1d19d3ce",
   "metadata": {},
   "outputs": [
    {
     "data": {
      "text/html": [
       "<div>\n",
       "<style scoped>\n",
       "    .dataframe tbody tr th:only-of-type {\n",
       "        vertical-align: middle;\n",
       "    }\n",
       "\n",
       "    .dataframe tbody tr th {\n",
       "        vertical-align: top;\n",
       "    }\n",
       "\n",
       "    .dataframe thead th {\n",
       "        text-align: right;\n",
       "    }\n",
       "</style>\n",
       "<table border=\"1\" class=\"dataframe\">\n",
       "  <thead>\n",
       "    <tr style=\"text-align: right;\">\n",
       "      <th></th>\n",
       "      <th>Quote</th>\n",
       "      <th>Author</th>\n",
       "      <th>Type Of Quotes</th>\n",
       "    </tr>\n",
       "  </thead>\n",
       "  <tbody>\n",
       "    <tr>\n",
       "      <th>0</th>\n",
       "      <td>The essence of strategy is choosing what not t...</td>\n",
       "      <td>Michael Porter</td>\n",
       "      <td>Essence, Deep Thought, Transcendentalism</td>\n",
       "    </tr>\n",
       "    <tr>\n",
       "      <th>1</th>\n",
       "      <td>One cannot and must not try to erase the past ...</td>\n",
       "      <td>Golda Meir</td>\n",
       "      <td>Inspiration, Past, Trying</td>\n",
       "    </tr>\n",
       "    <tr>\n",
       "      <th>2</th>\n",
       "      <td>Patriotism means to stand by the country. It d...</td>\n",
       "      <td>Theodore Roosevelt</td>\n",
       "      <td>Country, Peace, War</td>\n",
       "    </tr>\n",
       "    <tr>\n",
       "      <th>3</th>\n",
       "      <td>Death is something inevitable. When a man has ...</td>\n",
       "      <td>Nelson Mandela</td>\n",
       "      <td>Inspirational, Motivational, Death</td>\n",
       "    </tr>\n",
       "    <tr>\n",
       "      <th>4</th>\n",
       "      <td>You have to love a nation that celebrates its ...</td>\n",
       "      <td>Erma Bombeck</td>\n",
       "      <td>4th Of July, Food, Patriotic</td>\n",
       "    </tr>\n",
       "    <tr>\n",
       "      <th>...</th>\n",
       "      <td>...</td>\n",
       "      <td>...</td>\n",
       "      <td>...</td>\n",
       "    </tr>\n",
       "    <tr>\n",
       "      <th>995</th>\n",
       "      <td>When the going gets weird, the weird turn pro.</td>\n",
       "      <td>Hunter S. Thompson</td>\n",
       "      <td>Music, Sports, Hunting</td>\n",
       "    </tr>\n",
       "    <tr>\n",
       "      <th>996</th>\n",
       "      <td>When a train goes through a tunnel and it gets...</td>\n",
       "      <td>Corrie Ten Boom</td>\n",
       "      <td>Trust, Encouraging, Uplifting</td>\n",
       "    </tr>\n",
       "    <tr>\n",
       "      <th>997</th>\n",
       "      <td>If you think you are too small to make a diffe...</td>\n",
       "      <td>Dalai Lama</td>\n",
       "      <td>Inspirational, Funny, Change</td>\n",
       "    </tr>\n",
       "    <tr>\n",
       "      <th>998</th>\n",
       "      <td>God doesn't require us to succeed, he only req...</td>\n",
       "      <td>Mother Teresa</td>\n",
       "      <td>Success, God, Mother</td>\n",
       "    </tr>\n",
       "    <tr>\n",
       "      <th>999</th>\n",
       "      <td>Change your thoughts and you change your world.</td>\n",
       "      <td>Norman Vincent Peale</td>\n",
       "      <td>Inspirational, Motivational, Change</td>\n",
       "    </tr>\n",
       "  </tbody>\n",
       "</table>\n",
       "<p>1000 rows × 3 columns</p>\n",
       "</div>"
      ],
      "text/plain": [
       "                                                 Quote                Author  \\\n",
       "0    The essence of strategy is choosing what not t...        Michael Porter   \n",
       "1    One cannot and must not try to erase the past ...            Golda Meir   \n",
       "2    Patriotism means to stand by the country. It d...    Theodore Roosevelt   \n",
       "3    Death is something inevitable. When a man has ...        Nelson Mandela   \n",
       "4    You have to love a nation that celebrates its ...          Erma Bombeck   \n",
       "..                                                 ...                   ...   \n",
       "995     When the going gets weird, the weird turn pro.    Hunter S. Thompson   \n",
       "996  When a train goes through a tunnel and it gets...       Corrie Ten Boom   \n",
       "997  If you think you are too small to make a diffe...            Dalai Lama   \n",
       "998  God doesn't require us to succeed, he only req...         Mother Teresa   \n",
       "999    Change your thoughts and you change your world.  Norman Vincent Peale   \n",
       "\n",
       "                               Type Of Quotes  \n",
       "0    Essence, Deep Thought, Transcendentalism  \n",
       "1                   Inspiration, Past, Trying  \n",
       "2                         Country, Peace, War  \n",
       "3          Inspirational, Motivational, Death  \n",
       "4                4th Of July, Food, Patriotic  \n",
       "..                                        ...  \n",
       "995                    Music, Sports, Hunting  \n",
       "996             Trust, Encouraging, Uplifting  \n",
       "997              Inspirational, Funny, Change  \n",
       "998                      Success, God, Mother  \n",
       "999       Inspirational, Motivational, Change  \n",
       "\n",
       "[1000 rows x 3 columns]"
      ]
     },
     "execution_count": 116,
     "metadata": {},
     "output_type": "execute_result"
    }
   ],
   "source": [
    "df = pd.DataFrame({'Quote':quote[:1000], 'Author':author[:1000], ' Type Of Quotes':type_quo[:1000]})\n",
    "df"
   ]
  },
  {
   "cell_type": "markdown",
   "id": "0ef87855",
   "metadata": {},
   "source": [
    "# Q7: Write a python program to display list of respected former Prime Ministers of India (i.e. Name,\n",
    "Born-Dead, Term of office, Remarks) from https://www.jagranjosh.com/general-knowledge/list-ofall-prime-ministers-of-india-1473165149-1\n",
    "scrap the mentioned data and make the DataFrame"
   ]
  },
  {
   "cell_type": "code",
   "execution_count": 139,
   "id": "8eca8f41",
   "metadata": {},
   "outputs": [],
   "source": [
    "import pandas as pd\n",
    "import selenium\n",
    "from selenium import webdriver\n",
    "from selenium.webdriver.common.by import By\n",
    "import warnings\n",
    "warnings.filterwarnings('ignore')\n",
    "import time\n",
    "from selenium.webdriver.support.ui import WebDriverWait\n",
    "from selenium.webdriver.support import expected_conditions as EC\n"
   ]
  },
  {
   "cell_type": "code",
   "execution_count": 119,
   "id": "3587f8f7",
   "metadata": {},
   "outputs": [],
   "source": [
    "driver = webdriver.Chrome()"
   ]
  },
  {
   "cell_type": "code",
   "execution_count": 120,
   "id": "ea4792ea",
   "metadata": {},
   "outputs": [],
   "source": [
    "driver.get('https://www.jagranjosh.com/general-knowledge/list-ofall-prime-ministers-of-india-1473165149-1')"
   ]
  },
  {
   "cell_type": "code",
   "execution_count": 140,
   "id": "db9b2b89",
   "metadata": {},
   "outputs": [],
   "source": [
    "wait = WebDriverWait(driver, 10)\n",
    "table = wait.until(EC.presence_of_element_located((By.TAG_NAME, 'table')))\n",
    "\n",
    "# Extract the table data\n",
    "rows = table.find_elements(By.TAG_NAME, 'tr')"
   ]
  },
  {
   "cell_type": "code",
   "execution_count": 127,
   "id": "6f91a8c0",
   "metadata": {},
   "outputs": [],
   "source": [
    "names = []\n",
    "born_deads = []\n",
    "terms = []\n",
    "remarks = []"
   ]
  },
  {
   "cell_type": "code",
   "execution_count": 141,
   "id": "e2c74554",
   "metadata": {},
   "outputs": [],
   "source": [
    "for row in rows[1:]:\n",
    "    cells = row.find_elements(By.TAG_NAME, 'td')\n",
    "    if len(cells) == 4:\n",
    "        names.append(cells[0].text.strip())\n",
    "        born_deads.append(cells[1].text.strip())\n",
    "        terms.append(cells[2].text.strip())\n",
    "        remarks.append(cells[3].text.strip())\n",
    "driver.quit()"
   ]
  },
  {
   "cell_type": "code",
   "execution_count": 142,
   "id": "938b0d34",
   "metadata": {},
   "outputs": [],
   "source": [
    "df = pd.DataFrame({\n",
    "    \"Name\": names,\n",
    "    \"Born-Dead\": born_deads,\n",
    "    \"Term of Office\": terms,\n",
    "    \"Remarks\": remarks\n",
    "})"
   ]
  },
  {
   "cell_type": "code",
   "execution_count": 143,
   "id": "8034ee3b",
   "metadata": {},
   "outputs": [
    {
     "data": {
      "text/html": [
       "<div>\n",
       "<style scoped>\n",
       "    .dataframe tbody tr th:only-of-type {\n",
       "        vertical-align: middle;\n",
       "    }\n",
       "\n",
       "    .dataframe tbody tr th {\n",
       "        vertical-align: top;\n",
       "    }\n",
       "\n",
       "    .dataframe thead th {\n",
       "        text-align: right;\n",
       "    }\n",
       "</style>\n",
       "<table border=\"1\" class=\"dataframe\">\n",
       "  <thead>\n",
       "    <tr style=\"text-align: right;\">\n",
       "      <th></th>\n",
       "      <th>Name</th>\n",
       "      <th>Born-Dead</th>\n",
       "      <th>Term of Office</th>\n",
       "      <th>Remarks</th>\n",
       "    </tr>\n",
       "  </thead>\n",
       "  <tbody>\n",
       "  </tbody>\n",
       "</table>\n",
       "</div>"
      ],
      "text/plain": [
       "Empty DataFrame\n",
       "Columns: [Name, Born-Dead, Term of Office, Remarks]\n",
       "Index: []"
      ]
     },
     "execution_count": 143,
     "metadata": {},
     "output_type": "execute_result"
    }
   ],
   "source": [
    "df"
   ]
  },
  {
   "cell_type": "code",
   "execution_count": 144,
   "id": "b89e0829",
   "metadata": {},
   "outputs": [
    {
     "data": {
      "text/plain": [
       "[]"
      ]
     },
     "execution_count": 144,
     "metadata": {},
     "output_type": "execute_result"
    }
   ],
   "source": [
    "names"
   ]
  },
  {
   "cell_type": "markdown",
   "id": "cd3d81e0",
   "metadata": {},
   "source": [
    "# Q8: Write a python program to display list of 50 Most expensive cars in the world\n",
    "(i.e. Car name and Price) from https://www.motor1.com/"
   ]
  },
  {
   "cell_type": "markdown",
   "id": "34aa2f8f",
   "metadata": {},
   "source": [
    "This task will be done in following steps:\n",
    "1. First get the webpage https://www.motor1.com/\n",
    "2. Then You have to type in the search bar ’50 most expensive cars’\n",
    "3. Then click on 50 most expensive carsin the world..\n",
    "4. Then scrap thementioned data and make the dataframe."
   ]
  },
  {
   "cell_type": "code",
   "execution_count": 162,
   "id": "2648af58",
   "metadata": {},
   "outputs": [],
   "source": [
    "import pandas as pd\n",
    "import selenium\n",
    "from selenium import webdriver\n",
    "from selenium.webdriver.common.by import By\n",
    "import warnings\n",
    "warnings.filterwarnings('ignore')\n",
    "import time"
   ]
  },
  {
   "cell_type": "code",
   "execution_count": 163,
   "id": "9b060b8a",
   "metadata": {},
   "outputs": [],
   "source": [
    "driver = webdriver.Chrome()"
   ]
  },
  {
   "cell_type": "code",
   "execution_count": 164,
   "id": "08198f76",
   "metadata": {},
   "outputs": [],
   "source": [
    "driver.get('https://www.motor1.com/')"
   ]
  },
  {
   "cell_type": "code",
   "execution_count": 165,
   "id": "bb278f17",
   "metadata": {},
   "outputs": [],
   "source": [
    "search = driver.find_element(By.XPATH, '//input [@class=\"m1-search-panel-input m1-search-form-text\"]')\n",
    "search.send_keys('50 most expensive cars')"
   ]
  },
  {
   "cell_type": "code",
   "execution_count": 166,
   "id": "c8e40e82",
   "metadata": {},
   "outputs": [],
   "source": [
    "search_button = driver.find_element(By.XPATH,'//button [@class=\"m1-search-panel-button m1-search-form-button-animate icon-search-svg\"]')\n",
    "search_button.click()"
   ]
  },
  {
   "cell_type": "code",
   "execution_count": 167,
   "id": "b1f3fe12",
   "metadata": {},
   "outputs": [],
   "source": [
    "most_exp_button = driver.find_element(By.XPATH,'//a[@class=\"thumb zoom\"]')\n",
    "most_exp_button.click()"
   ]
  },
  {
   "cell_type": "code",
   "execution_count": 152,
   "id": "6aaab4b9",
   "metadata": {},
   "outputs": [],
   "source": [
    "car_name = []\n",
    "price = []"
   ]
  },
  {
   "cell_type": "code",
   "execution_count": 173,
   "id": "8bf6cb87",
   "metadata": {},
   "outputs": [
    {
     "ename": "TypeError",
     "evalue": "'WebElement' object is not iterable",
     "output_type": "error",
     "traceback": [
      "\u001b[1;31m---------------------------------------------------------------------------\u001b[0m",
      "\u001b[1;31mTypeError\u001b[0m                                 Traceback (most recent call last)",
      "Cell \u001b[1;32mIn[173], line 2\u001b[0m\n\u001b[0;32m      1\u001b[0m cars \u001b[38;5;241m=\u001b[39m driver\u001b[38;5;241m.\u001b[39mfind_element(By\u001b[38;5;241m.\u001b[39mTAG_NAME, \u001b[38;5;124m'\u001b[39m\u001b[38;5;124mh3\u001b[39m\u001b[38;5;124m'\u001b[39m)\n\u001b[1;32m----> 2\u001b[0m \u001b[38;5;28;01mfor\u001b[39;00m i \u001b[38;5;129;01min\u001b[39;00m cars:\n\u001b[0;32m      3\u001b[0m     car_name\u001b[38;5;241m.\u001b[39mappend(i\u001b[38;5;241m.\u001b[39mtext)\n\u001b[0;32m      4\u001b[0m cars\n",
      "\u001b[1;31mTypeError\u001b[0m: 'WebElement' object is not iterable"
     ]
    }
   ],
   "source": [
    "cars = driver.find_element(By.TAG_NAME, 'h3')\n",
    "for i in cars:\n",
    "    car_name.append(i.text)\n",
    "cars"
   ]
  },
  {
   "cell_type": "code",
   "execution_count": null,
   "id": "c2dd50b6",
   "metadata": {},
   "outputs": [],
   "source": []
  }
 ],
 "metadata": {
  "kernelspec": {
   "display_name": "Python 3 (ipykernel)",
   "language": "python",
   "name": "python3"
  },
  "language_info": {
   "codemirror_mode": {
    "name": "ipython",
    "version": 3
   },
   "file_extension": ".py",
   "mimetype": "text/x-python",
   "name": "python",
   "nbconvert_exporter": "python",
   "pygments_lexer": "ipython3",
   "version": "3.11.5"
  }
 },
 "nbformat": 4,
 "nbformat_minor": 5
}
