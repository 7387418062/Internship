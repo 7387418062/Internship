{
 "cells": [
  {
   "cell_type": "code",
   "execution_count": 2,
   "id": "90684090",
   "metadata": {},
   "outputs": [],
   "source": [
    "import re\n",
    "import regex as re\n",
    "import pandas as pd"
   ]
  },
  {
   "cell_type": "markdown",
   "id": "99c4de69",
   "metadata": {},
   "source": [
    "Question 1- Write a Python program to replace all occurrences of a space, comma, or dot with a colon."
   ]
  },
  {
   "cell_type": "code",
   "execution_count": 3,
   "id": "d93a1211",
   "metadata": {},
   "outputs": [
    {
     "name": "stdout",
     "output_type": "stream",
     "text": [
      "Python:Exercises::PHP:exercises:\n"
     ]
    }
   ],
   "source": [
    "Sample_Text= 'Python Exercises, PHP exercises.'\n",
    "\n",
    "x = re.sub(r\"[,. ]\", \":\", Sample_Text)\n",
    "print(x)"
   ]
  },
  {
   "cell_type": "markdown",
   "id": "dbe3c9d6",
   "metadata": {},
   "source": [
    "Question 2-  Create a dataframe using the dictionary below and remove everything (commas (,), !, XXXX, ;, etc.) from the columns except words."
   ]
  },
  {
   "cell_type": "code",
   "execution_count": 33,
   "id": "e7be341b",
   "metadata": {},
   "outputs": [
    {
     "data": {
      "text/plain": [
       "0      hello world\n",
       "1       XXXXX test\n",
       "2    four five six\n",
       "Name: SUMMARY, dtype: object"
      ]
     },
     "execution_count": 33,
     "metadata": {},
     "output_type": "execute_result"
    }
   ],
   "source": [
    "Dictionary= {'SUMMARY' : ['hello, world!', 'XXXXX test', '123four, five:; six...']}\n",
    "\n",
    "df = pd.DataFrame(Dictionary)\n",
    "df = df['SUMMARY'].str.replace(r'[^a-zA-Z\\s]', '', regex=True)\n",
    "df"
   ]
  },
  {
   "cell_type": "markdown",
   "id": "8e1f66da",
   "metadata": {},
   "source": [
    "Question 3- Create a function in python to find all words that are at least 4 characters long in a string. The use of the re.compile() method is mandatory."
   ]
  },
  {
   "cell_type": "code",
   "execution_count": 5,
   "id": "b31215a2",
   "metadata": {},
   "outputs": [
    {
     "name": "stdout",
     "output_type": "stream",
     "text": [
      "['This', 'find', 'four']\n"
     ]
    }
   ],
   "source": [
    "def find_word(string):\n",
    "    \n",
    "    pattern = re.compile(r'\\b\\w{4}\\b')\n",
    "\n",
    "    obj1 = pattern.findall(string)\n",
    "    return obj1\n",
    "\n",
    "string = \"This is the sample example of find four words\"\n",
    "rsl = find_word(string)\n",
    "print(rsl)"
   ]
  },
  {
   "cell_type": "markdown",
   "id": "d8c398a7",
   "metadata": {},
   "source": [
    "Question 4- Create a function in python to find all three, four, and five character words in a string. The use of the re.compile() method is mandatory."
   ]
  },
  {
   "cell_type": "code",
   "execution_count": 6,
   "id": "31c6b65c",
   "metadata": {},
   "outputs": [
    {
     "name": "stdout",
     "output_type": "stream",
     "text": [
      "['This', 'the', 'find', 'four', 'words']\n"
     ]
    }
   ],
   "source": [
    "def find_all_words(string):\n",
    "    \n",
    "    pattern = re.compile(r'\\b\\w{3,5}\\b')\n",
    "\n",
    "    obj1 = pattern.findall(string)\n",
    "    return obj1\n",
    "\n",
    "string = \"This is the sample example of find four words\"\n",
    "rsl = find_all_words(string)\n",
    "print(rsl)"
   ]
  },
  {
   "cell_type": "markdown",
   "id": "8b06b411",
   "metadata": {},
   "source": [
    "Question 5- Create a function in Python to remove the parenthesis in a list of strings. The use of the re.compile() method is mandatory."
   ]
  },
  {
   "cell_type": "code",
   "execution_count": 40,
   "id": "3d1bd67d",
   "metadata": {},
   "outputs": [
    {
     "name": "stdout",
     "output_type": "stream",
     "text": [
      "['example .com', 'hr@fliprobo .com', 'github .com', 'Hello Data Science World', 'Data Scientist']\n"
     ]
    }
   ],
   "source": [
    "def remove_parentheses(strings):\n",
    "    cleaned_strings = []\n",
    "    for string in strings:\n",
    "        cleaned_string = string.replace('(', '').replace(')', '')\n",
    "        cleaned_strings.append(cleaned_string)\n",
    "    return cleaned_strings\n",
    "\n",
    "# Example usage:\n",
    "strings = [\"example (.com)\", \"hr@fliprobo (.com)\", \"github (.com)\", \"Hello (Data Science World)\", \"Data (Scientist)\"]\n",
    "cleaned_strings = remove_parentheses(strings)\n",
    "print(cleaned_strings)\n"
   ]
  },
  {
   "cell_type": "markdown",
   "id": "614577c3",
   "metadata": {},
   "source": [
    "Question 7- Write a regular expression in Python to split a string into uppercase letters."
   ]
  },
  {
   "cell_type": "code",
   "execution_count": 9,
   "id": "c0792cf3",
   "metadata": {},
   "outputs": [
    {
     "name": "stdout",
     "output_type": "stream",
     "text": [
      "['Importance', 'Of', 'Regular', 'Expressions', 'In', 'Python']\n"
     ]
    }
   ],
   "source": [
    "text = \"ImportanceOfRegularExpressionsInPython\"\n",
    "x = re.findall(r'[A-Z][^A-Z]*', text)\n",
    "print(x)\n"
   ]
  },
  {
   "cell_type": "markdown",
   "id": "04c32ce6",
   "metadata": {},
   "source": [
    "Question 8- Create a function in python to insert spaces between words starting with numbers."
   ]
  },
  {
   "cell_type": "code",
   "execution_count": 10,
   "id": "3b16e153",
   "metadata": {},
   "outputs": [
    {
     "name": "stdout",
     "output_type": "stream",
     "text": [
      "RegularExpression 1IsAn 2ImportantTopic 3InPython\n"
     ]
    }
   ],
   "source": [
    "def word_starting(Text1):\n",
    "    \n",
    "    y = re.sub(r'(\\d)([A-Za-z]+)', r' \\1\\2',Text1)\n",
    "    return y\n",
    "\n",
    "Text1 = \"RegularExpression1IsAn2ImportantTopic3InPython\"\n",
    "x = word_starting(Text1)\n",
    "print(x)"
   ]
  },
  {
   "cell_type": "markdown",
   "id": "e92c4be8",
   "metadata": {},
   "source": [
    "Question 9- Create a function in python to insert spaces between words starting with capital letters or with numbers."
   ]
  },
  {
   "cell_type": "code",
   "execution_count": 11,
   "id": "8a39da90",
   "metadata": {},
   "outputs": [
    {
     "name": "stdout",
     "output_type": "stream",
     "text": [
      "RegularExpression 1 IsAn 2 ImportantTopic 3 InPython\n"
     ]
    }
   ],
   "source": [
    "def word_starting(Text1):\n",
    "    \n",
    "    y = re.sub(r'(\\d)([A-Za-z]+)', r' \\1 \\2',Text1)\n",
    "    return y\n",
    "\n",
    "Text1 = \"RegularExpression1IsAn2ImportantTopic3InPython\"\n",
    "x = word_starting(Text1)\n",
    "print(x)"
   ]
  },
  {
   "cell_type": "markdown",
   "id": "c3ffa9c4",
   "metadata": {},
   "source": [
    "Question 10- Use the github link below to read the data and create a dataframe. After creating the dataframe extract the first 6 letters of each country and store in the dataframe under a new column called first_five_letters."
   ]
  },
  {
   "cell_type": "code",
   "execution_count": 41,
   "id": "d188887f",
   "metadata": {},
   "outputs": [
    {
     "ename": "KeyError",
     "evalue": "'Country'",
     "output_type": "error",
     "traceback": [
      "\u001b[1;31m---------------------------------------------------------------------------\u001b[0m",
      "\u001b[1;31mKeyError\u001b[0m                                  Traceback (most recent call last)",
      "Cell \u001b[1;32mIn[41], line 3\u001b[0m\n\u001b[0;32m      1\u001b[0m x \u001b[38;5;241m=\u001b[39m pd\u001b[38;5;241m.\u001b[39mread_csv(\u001b[38;5;124m\"\u001b[39m\u001b[38;5;124mhttps://raw.githubusercontent.com/dsrscientist/DSData/master/happiness_score_dataset.csv\u001b[39m\u001b[38;5;124m\"\u001b[39m)\n\u001b[0;32m      2\u001b[0m x\n\u001b[1;32m----> 3\u001b[0m df[\u001b[38;5;124m'\u001b[39m\u001b[38;5;124mfirst_five_letters\u001b[39m\u001b[38;5;124m'\u001b[39m] \u001b[38;5;241m=\u001b[39m df[\u001b[38;5;124m'\u001b[39m\u001b[38;5;124mCountry\u001b[39m\u001b[38;5;124m'\u001b[39m]\u001b[38;5;241m.\u001b[39mapply(\u001b[38;5;28;01mlambda\u001b[39;00m x: x[:\u001b[38;5;241m6\u001b[39m])\n\u001b[0;32m      4\u001b[0m \u001b[38;5;28mprint\u001b[39m(df\u001b[38;5;241m.\u001b[39mhead())\n",
      "File \u001b[1;32m~\\anaconda3\\Lib\\site-packages\\pandas\\core\\series.py:1007\u001b[0m, in \u001b[0;36mSeries.__getitem__\u001b[1;34m(self, key)\u001b[0m\n\u001b[0;32m   1004\u001b[0m     \u001b[38;5;28;01mreturn\u001b[39;00m \u001b[38;5;28mself\u001b[39m\u001b[38;5;241m.\u001b[39m_values[key]\n\u001b[0;32m   1006\u001b[0m \u001b[38;5;28;01melif\u001b[39;00m key_is_scalar:\n\u001b[1;32m-> 1007\u001b[0m     \u001b[38;5;28;01mreturn\u001b[39;00m \u001b[38;5;28mself\u001b[39m\u001b[38;5;241m.\u001b[39m_get_value(key)\n\u001b[0;32m   1009\u001b[0m \u001b[38;5;28;01mif\u001b[39;00m is_hashable(key):\n\u001b[0;32m   1010\u001b[0m     \u001b[38;5;66;03m# Otherwise index.get_value will raise InvalidIndexError\u001b[39;00m\n\u001b[0;32m   1011\u001b[0m     \u001b[38;5;28;01mtry\u001b[39;00m:\n\u001b[0;32m   1012\u001b[0m         \u001b[38;5;66;03m# For labels that don't resolve as scalars like tuples and frozensets\u001b[39;00m\n",
      "File \u001b[1;32m~\\anaconda3\\Lib\\site-packages\\pandas\\core\\series.py:1116\u001b[0m, in \u001b[0;36mSeries._get_value\u001b[1;34m(self, label, takeable)\u001b[0m\n\u001b[0;32m   1113\u001b[0m     \u001b[38;5;28;01mreturn\u001b[39;00m \u001b[38;5;28mself\u001b[39m\u001b[38;5;241m.\u001b[39m_values[label]\n\u001b[0;32m   1115\u001b[0m \u001b[38;5;66;03m# Similar to Index.get_value, but we do not fall back to positional\u001b[39;00m\n\u001b[1;32m-> 1116\u001b[0m loc \u001b[38;5;241m=\u001b[39m \u001b[38;5;28mself\u001b[39m\u001b[38;5;241m.\u001b[39mindex\u001b[38;5;241m.\u001b[39mget_loc(label)\n\u001b[0;32m   1118\u001b[0m \u001b[38;5;28;01mif\u001b[39;00m is_integer(loc):\n\u001b[0;32m   1119\u001b[0m     \u001b[38;5;28;01mreturn\u001b[39;00m \u001b[38;5;28mself\u001b[39m\u001b[38;5;241m.\u001b[39m_values[loc]\n",
      "File \u001b[1;32m~\\anaconda3\\Lib\\site-packages\\pandas\\core\\indexes\\range.py:349\u001b[0m, in \u001b[0;36mRangeIndex.get_loc\u001b[1;34m(self, key)\u001b[0m\n\u001b[0;32m    347\u001b[0m         \u001b[38;5;28;01mraise\u001b[39;00m \u001b[38;5;167;01mKeyError\u001b[39;00m(key) \u001b[38;5;28;01mfrom\u001b[39;00m \u001b[38;5;21;01merr\u001b[39;00m\n\u001b[0;32m    348\u001b[0m \u001b[38;5;28;01mif\u001b[39;00m \u001b[38;5;28misinstance\u001b[39m(key, Hashable):\n\u001b[1;32m--> 349\u001b[0m     \u001b[38;5;28;01mraise\u001b[39;00m \u001b[38;5;167;01mKeyError\u001b[39;00m(key)\n\u001b[0;32m    350\u001b[0m \u001b[38;5;28mself\u001b[39m\u001b[38;5;241m.\u001b[39m_check_indexing_error(key)\n\u001b[0;32m    351\u001b[0m \u001b[38;5;28;01mraise\u001b[39;00m \u001b[38;5;167;01mKeyError\u001b[39;00m(key)\n",
      "\u001b[1;31mKeyError\u001b[0m: 'Country'"
     ]
    }
   ],
   "source": [
    "x = pd.read_csv(\"https://raw.githubusercontent.com/dsrscientist/DSData/master/happiness_score_dataset.csv\")\n",
    "x\n",
    "df['first_five_letters'] = df['Country'].apply(lambda x: x[:6])\n",
    "print(df.head())"
   ]
  },
  {
   "cell_type": "markdown",
   "id": "1471fdbc",
   "metadata": {},
   "source": [
    "Question 11- Write a Python program to match a string that contains only upper and lowercase letters, numbers, and underscores."
   ]
  },
  {
   "cell_type": "code",
   "execution_count": 13,
   "id": "5409c8d8",
   "metadata": {},
   "outputs": [
    {
     "name": "stdout",
     "output_type": "stream",
     "text": [
      "Not Matched\n",
      "Matched\n"
     ]
    }
   ],
   "source": [
    "def ul(string):\n",
    "    pattern = '^[a-zA-Z0-9_]*$'\n",
    "    if re.match(pattern, string):\n",
    "        return 'Matched'\n",
    "    else:\n",
    "        return 'Not Matched'\n",
    "  \n",
    "print(ul(\"this is the example of pattern matching\"))\n",
    "print(ul(\"Regular_Expression123\"))"
   ]
  },
  {
   "cell_type": "markdown",
   "id": "460b6cff",
   "metadata": {},
   "source": [
    "Question 12- Write a Python program where a string will start with a specific number. "
   ]
  },
  {
   "cell_type": "code",
   "execution_count": 14,
   "id": "fe2976e5",
   "metadata": {},
   "outputs": [
    {
     "name": "stdout",
     "output_type": "stream",
     "text": [
      "Not Matched\n",
      "Not Matched\n",
      "Matched\n"
     ]
    }
   ],
   "source": [
    "def string_start(string):\n",
    "    pattern =re.compile(r'^7')\n",
    "    if pattern.match(string):\n",
    "        return 'Matched'\n",
    "    else:\n",
    "        return 'Not Matched'\n",
    "\n",
    "print(string_start(\"123 this is the example of string start with number\"))\n",
    "print(string_start(\"This is not matching the string strating with number\"))\n",
    "print(string_start(\"7 is matching in this string\"))"
   ]
  },
  {
   "cell_type": "markdown",
   "id": "bac5c699",
   "metadata": {},
   "source": [
    "Question 13- Write a Python program to remove leading zeros from an IP address"
   ]
  },
  {
   "cell_type": "code",
   "execution_count": 15,
   "id": "22e50591",
   "metadata": {},
   "outputs": [
    {
     "name": "stdout",
     "output_type": "stream",
     "text": [
      "192.167.8.7\n"
     ]
    }
   ],
   "source": [
    "def zeroes(ip):\n",
    "    s = re.sub('\\.[0]*', '.', ip)\n",
    "    return s\n",
    "print(zeroes(\"192.0167.08.07\"))"
   ]
  },
  {
   "cell_type": "markdown",
   "id": "ad93c953",
   "metadata": {},
   "source": [
    "Question 14- Write a regular expression in python to match a date string in the form of Month name followed by day number and year stored in a text file."
   ]
  },
  {
   "cell_type": "code",
   "execution_count": 16,
   "id": "dec3dba1",
   "metadata": {},
   "outputs": [
    {
     "name": "stdout",
     "output_type": "stream",
     "text": [
      "('August 15th 1947', 'August')\n"
     ]
    }
   ],
   "source": [
    "with open(\"Number_year.txt\", 'r') as file:\n",
    "    t = file.read()\n",
    "    \n",
    "pattern = r\"(\\b([A-Z][a-z]+) \\d{1,2}(?:st|nd|rd|th)? \\d{4}\\b)\"\n",
    "    \n",
    "x = re.findall(pattern, t)\n",
    "for m in x:\n",
    "    print(m)"
   ]
  },
  {
   "cell_type": "markdown",
   "id": "84f4a706",
   "metadata": {},
   "source": [
    "Question 15- Write a Python program to search some literals strings in a string. "
   ]
  },
  {
   "cell_type": "code",
   "execution_count": 17,
   "id": "1452e729",
   "metadata": {},
   "outputs": [
    {
     "name": "stdout",
     "output_type": "stream",
     "text": [
      "Searching for \"fox\" in \"The quick brown fox jumps over the lazy dog.\" ->\n",
      "Matched!\n",
      "Searching for \"dog\" in \"The quick brown fox jumps over the lazy dog.\" ->\n",
      "Matched!\n",
      "Searching for \"horse\" in \"The quick brown fox jumps over the lazy dog.\" ->\n",
      "Not Matched!\n"
     ]
    }
   ],
   "source": [
    "patterns = [ 'fox', 'dog', 'horse' ]\n",
    "text = 'The quick brown fox jumps over the lazy dog.'\n",
    "for pattern in patterns:\n",
    "    print('Searching for \"%s\" in \"%s\" ->' % (pattern, text),)\n",
    "    if re.search(pattern,  text):\n",
    "        print('Matched!')\n",
    "    else:\n",
    "        print('Not Matched!')\n"
   ]
  },
  {
   "cell_type": "markdown",
   "id": "010e712f",
   "metadata": {},
   "source": [
    "Question 16- Write a Python program to search a literals string in a string and also find the location within the original string where the pattern occurs"
   ]
  },
  {
   "cell_type": "code",
   "execution_count": 18,
   "id": "07b1db18",
   "metadata": {},
   "outputs": [
    {
     "name": "stdout",
     "output_type": "stream",
     "text": [
      "it's a match, pattern occurs at 15\n"
     ]
    }
   ],
   "source": [
    "Sample_Text = 'The quick brown fox jumps over the lazy dog.'\n",
    "m = re.search('\\Wfox\\W', Sample_Text)\n",
    "if m:\n",
    "    print('it\\'s a match, pattern occurs at', m.start())\n",
    "else:\n",
    "    print('no match found')"
   ]
  },
  {
   "cell_type": "markdown",
   "id": "4964b100",
   "metadata": {},
   "source": [
    "Question 17- Write a Python program to find the substrings within a string."
   ]
  },
  {
   "cell_type": "code",
   "execution_count": 19,
   "id": "f28197a9",
   "metadata": {},
   "outputs": [
    {
     "name": "stdout",
     "output_type": "stream",
     "text": [
      "Matched!\n"
     ]
    }
   ],
   "source": [
    "Sample_text = 'Python exercises, PHP exercises, C# exercises'\n",
    "x = re.findall('exercise', Sample_text)\n",
    "\n",
    "if m:\n",
    "    print(\"Matched!\")\n",
    "else:\n",
    "    print(\"Not Matched!\")"
   ]
  },
  {
   "cell_type": "markdown",
   "id": "949ad8b8",
   "metadata": {},
   "source": [
    "Question 18- Write a Python program to find the occurrence and position of the substrings within a string."
   ]
  },
  {
   "cell_type": "code",
   "execution_count": 20,
   "id": "ef2643e1",
   "metadata": {},
   "outputs": [
    {
     "name": "stdout",
     "output_type": "stream",
     "text": [
      "string 'exercises' found at position (7, 16)\n",
      "string 'exercises' found at position (22, 31)\n",
      "string 'exercises' found at position (36, 45)\n"
     ]
    }
   ],
   "source": [
    "sample_text = 'Python exercises, PHP exercises, C# exercises'\n",
    "find = 'exercises'\n",
    "x = re.finditer(find, sample_text)\n",
    "for match in x:\n",
    "    print('string \\'{}\\''.format(find), 'found at position', match.span())"
   ]
  },
  {
   "cell_type": "markdown",
   "id": "8b93bde6",
   "metadata": {},
   "source": [
    "Question 19- Write a Python program to convert a date of yyyy-mm-dd format to dd-mm-yyyy format."
   ]
  },
  {
   "cell_type": "code",
   "execution_count": 21,
   "id": "a0a5c150",
   "metadata": {},
   "outputs": [
    {
     "name": "stdout",
     "output_type": "stream",
     "text": [
      "31-03-2018\n"
     ]
    }
   ],
   "source": [
    "date = '2018-03-31'\n",
    "m = re.split('-', date)\n",
    "modified_date = '-'.join(m[::-1])\n",
    "print(modified_date)"
   ]
  },
  {
   "cell_type": "markdown",
   "id": "c3c1a2ca",
   "metadata": {},
   "source": [
    "Question 20- Create a function in python to find all decimal numbers with a precision of 1 or 2 in a string. The use of the re.compile() method is mandatory."
   ]
  },
  {
   "cell_type": "code",
   "execution_count": 22,
   "id": "60b8655d",
   "metadata": {},
   "outputs": [
    {
     "name": "stdout",
     "output_type": "stream",
     "text": [
      "['01.12', '0132.12', '2.31', '145.8', '3.01', '27.25', '0.25']\n"
     ]
    }
   ],
   "source": [
    "Sample_Text= \"01.12 0132.123 2.31875 145.8 3.01 27.25 0.25\"\n",
    "pattern = re.compile('\\d+\\.\\d{1,2}')\n",
    "number = re.findall(pattern, Sample_Text)\n",
    "print(number)"
   ]
  },
  {
   "cell_type": "markdown",
   "id": "a48d4ded",
   "metadata": {},
   "source": [
    "Question 21- Write a Python program to separate and print the numbers and their position of a given string."
   ]
  },
  {
   "cell_type": "code",
   "execution_count": 23,
   "id": "f8af7afa",
   "metadata": {},
   "outputs": [
    {
     "name": "stdout",
     "output_type": "stream",
     "text": [
      "3\n",
      "Index position:-  10\n",
      "5\n",
      "Index position:-  23\n"
     ]
    }
   ],
   "source": [
    "text = \"There are 3 apples and 5 oranges on the table.\"\n",
    "for x in re.finditer('\\d+', text):\n",
    "    print(x.group(0))\n",
    "    print(\"Index position:- \",x.start())"
   ]
  },
  {
   "cell_type": "markdown",
   "id": "a2612e78",
   "metadata": {},
   "source": [
    "Question 22- Write a regular expression in python program to extract maximum/largest numeric value from a string."
   ]
  },
  {
   "cell_type": "code",
   "execution_count": 24,
   "id": "c1bc01d4",
   "metadata": {},
   "outputs": [
    {
     "name": "stdout",
     "output_type": "stream",
     "text": [
      "950\n"
     ]
    }
   ],
   "source": [
    "Sample_Text=  'My marks in each semester are: 947, 896, 926, 524, 734, 950, 642'\n",
    "values = re.findall('\\d+', Sample_Text)\n",
    "v = [int(value) for value in values]\n",
    "print(max(v))"
   ]
  },
  {
   "cell_type": "markdown",
   "id": "3335b14d",
   "metadata": {},
   "source": [
    "Question 23- Create a function in python to insert spaces between words starting with capital letters."
   ]
  },
  {
   "cell_type": "code",
   "execution_count": 25,
   "id": "abb4758c",
   "metadata": {},
   "outputs": [
    {
     "name": "stdout",
     "output_type": "stream",
     "text": [
      " Regular Expression Is An Important Topic In Python\n"
     ]
    }
   ],
   "source": [
    "def space(Sample_Text):\n",
    "    result = re.sub(r'([A-Z][a-z]*)', r' \\1',Sample_Text)\n",
    "    return result\n",
    "\n",
    "print(space(Sample_Text= 'RegularExpressionIsAnImportantTopicInPython'))"
   ]
  },
  {
   "cell_type": "markdown",
   "id": "81b45bc0",
   "metadata": {},
   "source": [
    "Question 24- Python regex to find sequences of one upper case letter followed by lower case letters"
   ]
  },
  {
   "cell_type": "code",
   "execution_count": 26,
   "id": "51160330",
   "metadata": {},
   "outputs": [
    {
     "name": "stdout",
     "output_type": "stream",
     "text": [
      "['This', 'Test', 'String', 'With', 'Multiple', 'Sequences', 'Of', 'One', 'Upper', 'Case', 'Letter', 'Followed', 'By', 'Lower', 'Case', 'Letters']\n"
     ]
    }
   ],
   "source": [
    "def sequence(str):\n",
    "    rsl = re.findall(r'[A-Z][a-z]+', str)\n",
    "    return rsl\n",
    "print(sequence(\"This is a TestString WithMultiple Sequences OfOneUpperCaseLetterFollowedByLowerCaseLetters\"))"
   ]
  },
  {
   "cell_type": "markdown",
   "id": "d0823042",
   "metadata": {},
   "source": [
    "Question 25- Write a Python program to remove continuous duplicate words from Sentence using Regular Expression."
   ]
  },
  {
   "cell_type": "code",
   "execution_count": 27,
   "id": "3c3155e5",
   "metadata": {},
   "outputs": [
    {
     "name": "stdout",
     "output_type": "stream",
     "text": [
      "Hello hello world\n"
     ]
    }
   ],
   "source": [
    "def duplicates(text):\n",
    "    c = re.sub(r'\\b(\\w+)(\\s+\\1)+\\b', r'\\1', text)\n",
    "    return c\n",
    "\n",
    "\n",
    "print(duplicates(\"Hello hello world world\"))\n"
   ]
  },
  {
   "cell_type": "markdown",
   "id": "f11968a6",
   "metadata": {},
   "source": [
    "Question 26-  Write a python program using RegEx to accept string ending with alphanumeric character."
   ]
  },
  {
   "cell_type": "code",
   "execution_count": 28,
   "id": "0c7a1cbb",
   "metadata": {},
   "outputs": [
    {
     "name": "stdout",
     "output_type": "stream",
     "text": [
      "Enter a string: \n",
      "String does not end with an alphanumeric character.\n"
     ]
    }
   ],
   "source": [
    "def check_string(input_string):\n",
    "    pattern = r\".*[a-zA-Z0-9]$\"\n",
    "    if re.match(pattern, input_string):\n",
    "        return True\n",
    "    else:\n",
    "        return False\n",
    "\n",
    "input_string = input(\"Enter a string: \")\n",
    "if check_string(input_string):\n",
    "    print(\"String ends with an alphanumeric character.\")\n",
    "else:\n",
    "    print(\"String does not end with an alphanumeric character.\")\n"
   ]
  },
  {
   "cell_type": "markdown",
   "id": "4218b4af",
   "metadata": {},
   "source": [
    "Question 27-Write a python program using RegEx to extract the hashtags."
   ]
  },
  {
   "cell_type": "code",
   "execution_count": 29,
   "id": "85275f08",
   "metadata": {},
   "outputs": [
    {
     "data": {
      "text/plain": [
       "['#Doltiwal', '#xyzabc', '#Demonetization']"
      ]
     },
     "execution_count": 29,
     "metadata": {},
     "output_type": "execute_result"
    }
   ],
   "source": [
    "Sample_Text = \"\"\"RT @kapil_kausik: #Doltiwal I mean #xyzabc is \"hurt\" by #Demonetization as the same has rendered USELESS <ed><U+00A0><U+00BD><ed><U+00B1><U+0089> \"acquired funds\" No wo\"\"\"\n",
    "x = re.findall('#\\w+', Sample_Text)\n",
    "x\n"
   ]
  },
  {
   "cell_type": "markdown",
   "id": "dbbcc713",
   "metadata": {},
   "source": [
    "Question 28- Write a python program using RegEx to remove <U+..> like symbols"
   ]
  },
  {
   "cell_type": "code",
   "execution_count": 30,
   "id": "312f04b7",
   "metadata": {},
   "outputs": [
    {
     "data": {
      "text/plain": [
       "'@Jags123456 Bharat band on 28??<ed><ed>Those who  are protesting #demonetization  are all different party leaders'"
      ]
     },
     "execution_count": 30,
     "metadata": {},
     "output_type": "execute_result"
    }
   ],
   "source": [
    "Sample_Text = \"@Jags123456 Bharat band on 28??<ed><U+00A0><U+00BD><ed><U+00B8><U+0082>Those who  are protesting #demonetization  are all different party leaders\"\n",
    "pattern = r'<U\\+[0-9A-Fa-f]+>'\n",
    "v = re.sub(pattern, '', Sample_Text)\n",
    "v    "
   ]
  },
  {
   "cell_type": "markdown",
   "id": "99a287f8",
   "metadata": {},
   "source": [
    "Question 29- Write a python program to extract dates from the text stored in the text file."
   ]
  },
  {
   "cell_type": "code",
   "execution_count": 8,
   "id": "fafc587b",
   "metadata": {},
   "outputs": [
    {
     "name": "stdout",
     "output_type": "stream",
     "text": [
      "12-09-1992\n",
      "15-12-1999\n"
     ]
    }
   ],
   "source": [
    "with open(\"Que_29.txt\", 'r') as file:\n",
    "    t = file.read()\n",
    "    \n",
    "pattern = r'\\d{2}-\\d{2}-\\d{4}'\n",
    "    \n",
    "x = re.findall(pattern, t)\n",
    "for m in x:\n",
    "    print(m)"
   ]
  },
  {
   "cell_type": "markdown",
   "id": "76adbbe1",
   "metadata": {},
   "source": [
    "Question 30- Create a function in python to remove all words from a string of length between 2 and 4."
   ]
  },
  {
   "cell_type": "code",
   "execution_count": 31,
   "id": "70234548",
   "metadata": {},
   "outputs": [
    {
     "name": "stdout",
     "output_type": "stream",
     "text": [
      "  a sample sentence  words  various lengths.\n"
     ]
    }
   ],
   "source": [
    "def remove_words(string):\n",
    "    pattern = r'\\b\\w{2,4}\\b'\n",
    "    \n",
    "    c = re.sub(pattern, '', string)\n",
    "    return c\n",
    "print(remove_words(\"This is a sample sentence with words of various lengths.\"))"
   ]
  },
  {
   "cell_type": "code",
   "execution_count": null,
   "id": "b0cbd60c",
   "metadata": {},
   "outputs": [],
   "source": []
  }
 ],
 "metadata": {
  "kernelspec": {
   "display_name": "Python 3 (ipykernel)",
   "language": "python",
   "name": "python3"
  },
  "language_info": {
   "codemirror_mode": {
    "name": "ipython",
    "version": 3
   },
   "file_extension": ".py",
   "mimetype": "text/x-python",
   "name": "python",
   "nbconvert_exporter": "python",
   "pygments_lexer": "ipython3",
   "version": "3.11.5"
  }
 },
 "nbformat": 4,
 "nbformat_minor": 5
}
